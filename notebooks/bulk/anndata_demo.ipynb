{
 "cells": [
  {
   "attachments": {},
   "cell_type": "markdown",
   "metadata": {},
   "source": [
    "[![Open In Colab](https://colab.research.google.com/assets/colab-badge.svg)](https://drive.google.com/file/d/1z5sZPtM8r73YPEwQKmYi6Q6rYAufCKWp/view?usp=sharing)"
   ]
  },
  {
   "cell_type": "markdown",
   "metadata": {
    "id": "wL6iAuzsZ9hv"
   },
   "source": [
    "Download [TKO](http://tko.ccbr.utoronto.ca/) HeLa data."
   ]
  },
  {
   "cell_type": "code",
   "execution_count": 3,
   "metadata": {
    "colab": {
     "base_uri": "https://localhost:8080/"
    },
    "id": "qQCbMhXLZ7pT",
    "outputId": "3e89363f-413a-4f2e-a8d7-134641f02b7d"
   },
   "outputs": [
    {
     "name": "stdout",
     "output_type": "stream",
     "text": [
      "--2023-04-10 22:36:02--  http://tko.ccbr.utoronto.ca/Data/readcount-HeLa-lib1.gz\n",
      "Resolving tko.ccbr.utoronto.ca (tko.ccbr.utoronto.ca)... 142.150.76.126\n",
      "Connecting to tko.ccbr.utoronto.ca (tko.ccbr.utoronto.ca)|142.150.76.126|:80... connected.\n",
      "HTTP request sent, awaiting response... 200 OK\n",
      "Length: 2877516 (2.7M) [application/x-gzip]\n",
      "Saving to: ‘readcount-HeLa-lib1.gz.1’\n",
      "\n",
      "100%[======================================>] 2,877,516   8.58MB/s   in 0.3s   \n",
      "\n",
      "2023-04-10 22:36:03 (8.58 MB/s) - ‘readcount-HeLa-lib1.gz.1’ saved [2877516/2877516]\n",
      "\n",
      "--2023-04-10 22:36:03--  http://tko.ccbr.utoronto.ca/Data/readcount-HeLa-lib2.gz\n",
      "Resolving tko.ccbr.utoronto.ca (tko.ccbr.utoronto.ca)... 142.150.76.126\n",
      "Connecting to tko.ccbr.utoronto.ca (tko.ccbr.utoronto.ca)|142.150.76.126|:80... connected.\n",
      "HTTP request sent, awaiting response... 200 OK\n",
      "Length: 2680113 (2.6M) [application/x-gzip]\n",
      "Saving to: ‘readcount-HeLa-lib2.gz.1’\n",
      "\n",
      "100%[======================================>] 2,680,113   14.8MB/s   in 0.2s   \n",
      "\n",
      "2023-04-10 22:36:03 (14.8 MB/s) - ‘readcount-HeLa-lib2.gz.1’ saved [2680113/2680113]\n",
      "\n",
      "gzip: invalid option -- 'y'\n",
      "Try `gzip --help' for more information.\n",
      "gzip: invalid option -- 'y'\n",
      "Try `gzip --help' for more information.\n"
     ]
    }
   ],
   "source": [
    "! wget http://tko.ccbr.utoronto.ca/Data/readcount-HeLa-lib1.gz\n",
    "! wget http://tko.ccbr.utoronto.ca/Data/readcount-HeLa-lib2.gz\n",
    "! gunzip readcount-HeLa-lib1.gz -y\n",
    "! gunzip readcount-HeLa-lib2.gz -y"
   ]
  },
  {
   "cell_type": "code",
   "execution_count": 4,
   "metadata": {
    "colab": {
     "base_uri": "https://localhost:8080/"
    },
    "id": "Ysb-M6vtaLfL",
    "outputId": "f476780f-e751-4616-a7a3-aa6bd83ba420"
   },
   "outputs": [
    {
     "name": "stdout",
     "output_type": "stream",
     "text": [
      "GENE_CLONE\tGENE\tT08A\tT08B\tT08C\tT12A\tT12B\tT12C\tT15A\tT15B\tT15C\tT18A\tT18B\tT18C\tT0\r\n",
      "A1BG_CACCTTCGAGCTGCTGCGCG\tA1BG\t310\t226\t338\t356\t249\t224\t186\t60\t296\t125\t49\t296\t469\r\n",
      "A1BG_AAGAGCGCCTCGGTCCCAGC\tA1BG\t46\t1\t0\t7\t22\t142\t0\t1\t52\t0\t1\t52\t213\r\n",
      "A1BG_TGGACTTCCAGCTACGGCGC\tA1BG\t239\t216\t285\t117\t244\t116\t172\t298\t269\t119\t250\t269\t363\r\n",
      "A1BG_CACTGGCGCCATCGAGAGCC\tA1BG\t289\t83\t166\t164\t111\t14\t184\t160\t214\t122\t137\t214\t678\r\n",
      "A1BG_GCTCGGGCTTGTCCACAGGA\tA1BG\t205\t34\t217\t205\t148\t355\t326\t100\t432\t212\t85\t432\t559\r\n",
      "A1BG_CAAGAGAAAGACCACGAGCA\tA1BG\t389\t331\t468\t1074\t364\t158\t664\t286\t499\t464\t235\t499\t647\r\n",
      "A1CF_CGTGGCTATTTGGCATACAC\tA1CF\t452\t240\t390\t630\t509\t261\t471\t255\t301\t322\t210\t301\t898\r\n",
      "A1CF_GGTATACTCTCCTTGCAGCA\tA1CF\t71\t30\t29\t119\t155\t153\t131\t76\t56\t94\t61\t56\t199\r\n",
      "A1CF_GACATGGTATTGCAGTAGAC\tA1CF\t207\t227\t223\t118\t141\t173\t176\t198\t42\t118\t166\t42\t271\r\n"
     ]
    }
   ],
   "source": [
    "! head readcount-HeLa-lib1"
   ]
  },
  {
   "cell_type": "code",
   "execution_count": 5,
   "metadata": {
    "colab": {
     "base_uri": "https://localhost:8080/"
    },
    "id": "CPlc0Q4ibB45",
    "outputId": "2eef7afa-66dc-4acd-a9f3-f4dc54c74bf5"
   },
   "outputs": [
    {
     "name": "stdout",
     "output_type": "stream",
     "text": [
      "Looking in indexes: https://pypi.org/simple, https://packagecloud.io/github/git-lfs/pypi/simple\n",
      "Requirement already satisfied: anndata in /srv/local/jayoung/conda/lib/python3.8/site-packages (0.8.0)\n",
      "Requirement already satisfied: scipy>1.4 in /srv/local/jayoung/conda/lib/python3.8/site-packages (from anndata) (1.10.1)\n",
      "Requirement already satisfied: pandas>=1.1.1 in /srv/local/jayoung/conda/lib/python3.8/site-packages (from anndata) (1.5.2)\n",
      "Requirement already satisfied: h5py>=3 in /srv/local/jayoung/conda/lib/python3.8/site-packages (from anndata) (3.7.0)\n",
      "Requirement already satisfied: numpy>=1.16.5 in /srv/local/jayoung/conda/lib/python3.8/site-packages (from anndata) (1.23.4)\n",
      "Requirement already satisfied: packaging>=20 in /srv/local/jayoung/conda/lib/python3.8/site-packages (from anndata) (21.3)\n",
      "Requirement already satisfied: natsort in /srv/local/jayoung/conda/lib/python3.8/site-packages (from anndata) (8.3.1)\n",
      "Requirement already satisfied: pyparsing!=3.0.5,>=2.0.2 in /srv/local/jayoung/conda/lib/python3.8/site-packages (from packaging>=20->anndata) (3.0.9)\n",
      "Requirement already satisfied: pytz>=2020.1 in /srv/local/jayoung/conda/lib/python3.8/site-packages (from pandas>=1.1.1->anndata) (2022.6)\n",
      "Requirement already satisfied: python-dateutil>=2.8.1 in /srv/local/jayoung/conda/lib/python3.8/site-packages (from pandas>=1.1.1->anndata) (2.8.2)\n",
      "Requirement already satisfied: six>=1.5 in /srv/local/jayoung/conda/lib/python3.8/site-packages (from python-dateutil>=2.8.1->pandas>=1.1.1->anndata) (1.16.0)\n"
     ]
    }
   ],
   "source": [
    "! pip install anndata"
   ]
  },
  {
   "cell_type": "code",
   "execution_count": 6,
   "metadata": {
    "id": "gzMQA56laPcO"
   },
   "outputs": [],
   "source": [
    "import pandas as pd\n",
    "import anndata as ad"
   ]
  },
  {
   "cell_type": "code",
   "execution_count": 12,
   "metadata": {
    "id": "zSa-tE0bblMl"
   },
   "outputs": [],
   "source": [
    "def make_anndata(tbl):\n",
    "  sample_df = pd.DataFrame(tbl.columns[2:]).rename(columns={0:\"sample\"}).set_index(\"sample\")\n",
    "  sample_df[\"replicate\"] = sample_df.index.str[-1]\n",
    "  sample_df[\"time\"] = sample_df.index.str[1:-1].map(lambda s: int(s) if s else -1)\n",
    "  return ad.AnnData(X=tbl.values[:,2:].T, var=tbl.iloc[:,:2], \n",
    "                   obs=sample_df)"
   ]
  },
  {
   "cell_type": "code",
   "execution_count": 13,
   "metadata": {
    "colab": {
     "base_uri": "https://localhost:8080/"
    },
    "id": "pjOXiYsfbWmd",
    "outputId": "c186aba9-3a13-4a2c-aea5-ed60f14f7ca7"
   },
   "outputs": [
    {
     "name": "stderr",
     "output_type": "stream",
     "text": [
      "/tmp/ipykernel_2520/951100887.py:5: FutureWarning: X.dtype being converted to np.float32 from object. In the next version of anndata (0.9) conversion will not be automatic. Pass dtype explicitly to avoid this warning. Pass `AnnData(X, dtype=X.dtype, ...)` to get the future behavour.\n",
      "  return ad.AnnData(X=tbl.values[:,2:].T, var=tbl.iloc[:,:2],\n",
      "/data/pinello/SHARED_SOFTWARE/anaconda_latest/envs/igvf_sccrispr/lib/python3.10/site-packages/anndata/_core/anndata.py:121: ImplicitModificationWarning: Transforming to str index.\n",
      "  warnings.warn(\"Transforming to str index.\", ImplicitModificationWarning)\n",
      "/tmp/ipykernel_2520/951100887.py:5: FutureWarning: X.dtype being converted to np.float32 from object. In the next version of anndata (0.9) conversion will not be automatic. Pass dtype explicitly to avoid this warning. Pass `AnnData(X, dtype=X.dtype, ...)` to get the future behavour.\n",
      "  return ad.AnnData(X=tbl.values[:,2:].T, var=tbl.iloc[:,:2],\n",
      "/data/pinello/SHARED_SOFTWARE/anaconda_latest/envs/igvf_sccrispr/lib/python3.10/site-packages/anndata/_core/anndata.py:121: ImplicitModificationWarning: Transforming to str index.\n",
      "  warnings.warn(\"Transforming to str index.\", ImplicitModificationWarning)\n"
     ]
    }
   ],
   "source": [
    "adata = make_anndata(tbl)\n",
    "bdata = make_anndata(tbl2)"
   ]
  },
  {
   "cell_type": "code",
   "execution_count": 14,
   "metadata": {
    "colab": {
     "base_uri": "https://localhost:8080/"
    },
    "id": "NxyKUrr7bzut",
    "outputId": "85967669-9410-43be-e5a5-865ba428d9b8"
   },
   "outputs": [
    {
     "data": {
      "text/plain": [
       "AnnData object with n_obs × n_vars = 13 × 91320\n",
       "    obs: 'replicate', 'time'\n",
       "    var: 'GENE_CLONE', 'GENE'"
      ]
     },
     "execution_count": 14,
     "metadata": {},
     "output_type": "execute_result"
    }
   ],
   "source": [
    "adata"
   ]
  },
  {
   "cell_type": "code",
   "execution_count": 15,
   "metadata": {
    "colab": {
     "base_uri": "https://localhost:8080/",
     "height": 423
    },
    "id": "zyK1KKh_k83l",
    "outputId": "60b1d1a2-d998-4844-9ec0-f5cafa40a762"
   },
   "outputs": [
    {
     "data": {
      "text/html": [
       "<div>\n",
       "<style scoped>\n",
       "    .dataframe tbody tr th:only-of-type {\n",
       "        vertical-align: middle;\n",
       "    }\n",
       "\n",
       "    .dataframe tbody tr th {\n",
       "        vertical-align: top;\n",
       "    }\n",
       "\n",
       "    .dataframe thead th {\n",
       "        text-align: right;\n",
       "    }\n",
       "</style>\n",
       "<table border=\"1\" class=\"dataframe\">\n",
       "  <thead>\n",
       "    <tr style=\"text-align: right;\">\n",
       "      <th></th>\n",
       "      <th>replicate</th>\n",
       "      <th>time</th>\n",
       "    </tr>\n",
       "    <tr>\n",
       "      <th>sample</th>\n",
       "      <th></th>\n",
       "      <th></th>\n",
       "    </tr>\n",
       "  </thead>\n",
       "  <tbody>\n",
       "    <tr>\n",
       "      <th>T08A</th>\n",
       "      <td>A</td>\n",
       "      <td>8</td>\n",
       "    </tr>\n",
       "    <tr>\n",
       "      <th>T08B</th>\n",
       "      <td>B</td>\n",
       "      <td>8</td>\n",
       "    </tr>\n",
       "    <tr>\n",
       "      <th>T08C</th>\n",
       "      <td>C</td>\n",
       "      <td>8</td>\n",
       "    </tr>\n",
       "    <tr>\n",
       "      <th>T12A</th>\n",
       "      <td>A</td>\n",
       "      <td>12</td>\n",
       "    </tr>\n",
       "    <tr>\n",
       "      <th>T12B</th>\n",
       "      <td>B</td>\n",
       "      <td>12</td>\n",
       "    </tr>\n",
       "    <tr>\n",
       "      <th>T12C</th>\n",
       "      <td>C</td>\n",
       "      <td>12</td>\n",
       "    </tr>\n",
       "    <tr>\n",
       "      <th>T15A</th>\n",
       "      <td>A</td>\n",
       "      <td>15</td>\n",
       "    </tr>\n",
       "    <tr>\n",
       "      <th>T15B</th>\n",
       "      <td>B</td>\n",
       "      <td>15</td>\n",
       "    </tr>\n",
       "    <tr>\n",
       "      <th>T15C</th>\n",
       "      <td>C</td>\n",
       "      <td>15</td>\n",
       "    </tr>\n",
       "    <tr>\n",
       "      <th>T18A</th>\n",
       "      <td>A</td>\n",
       "      <td>18</td>\n",
       "    </tr>\n",
       "    <tr>\n",
       "      <th>T18B</th>\n",
       "      <td>B</td>\n",
       "      <td>18</td>\n",
       "    </tr>\n",
       "    <tr>\n",
       "      <th>T18C</th>\n",
       "      <td>C</td>\n",
       "      <td>18</td>\n",
       "    </tr>\n",
       "    <tr>\n",
       "      <th>T0</th>\n",
       "      <td>0</td>\n",
       "      <td>-1</td>\n",
       "    </tr>\n",
       "  </tbody>\n",
       "</table>\n",
       "</div>"
      ],
      "text/plain": [
       "       replicate  time\n",
       "sample                \n",
       "T08A           A     8\n",
       "T08B           B     8\n",
       "T08C           C     8\n",
       "T12A           A    12\n",
       "T12B           B    12\n",
       "T12C           C    12\n",
       "T15A           A    15\n",
       "T15B           B    15\n",
       "T15C           C    15\n",
       "T18A           A    18\n",
       "T18B           B    18\n",
       "T18C           C    18\n",
       "T0             0    -1"
      ]
     },
     "execution_count": 15,
     "metadata": {},
     "output_type": "execute_result"
    }
   ],
   "source": [
    "adata.obs"
   ]
  },
  {
   "cell_type": "code",
   "execution_count": 16,
   "metadata": {
    "colab": {
     "base_uri": "https://localhost:8080/",
     "height": 488
    },
    "id": "2KgQdLE8lZdv",
    "outputId": "37e2cd5d-4d63-4400-fb86-a353ff08658f"
   },
   "outputs": [
    {
     "data": {
      "text/html": [
       "<div>\n",
       "<style scoped>\n",
       "    .dataframe tbody tr th:only-of-type {\n",
       "        vertical-align: middle;\n",
       "    }\n",
       "\n",
       "    .dataframe tbody tr th {\n",
       "        vertical-align: top;\n",
       "    }\n",
       "\n",
       "    .dataframe thead th {\n",
       "        text-align: right;\n",
       "    }\n",
       "</style>\n",
       "<table border=\"1\" class=\"dataframe\">\n",
       "  <thead>\n",
       "    <tr style=\"text-align: right;\">\n",
       "      <th></th>\n",
       "      <th>GENE_CLONE</th>\n",
       "      <th>GENE</th>\n",
       "    </tr>\n",
       "  </thead>\n",
       "  <tbody>\n",
       "    <tr>\n",
       "      <th>0</th>\n",
       "      <td>A1BG_CACCTTCGAGCTGCTGCGCG</td>\n",
       "      <td>A1BG</td>\n",
       "    </tr>\n",
       "    <tr>\n",
       "      <th>1</th>\n",
       "      <td>A1BG_AAGAGCGCCTCGGTCCCAGC</td>\n",
       "      <td>A1BG</td>\n",
       "    </tr>\n",
       "    <tr>\n",
       "      <th>2</th>\n",
       "      <td>A1BG_TGGACTTCCAGCTACGGCGC</td>\n",
       "      <td>A1BG</td>\n",
       "    </tr>\n",
       "    <tr>\n",
       "      <th>3</th>\n",
       "      <td>A1BG_CACTGGCGCCATCGAGAGCC</td>\n",
       "      <td>A1BG</td>\n",
       "    </tr>\n",
       "    <tr>\n",
       "      <th>4</th>\n",
       "      <td>A1BG_GCTCGGGCTTGTCCACAGGA</td>\n",
       "      <td>A1BG</td>\n",
       "    </tr>\n",
       "    <tr>\n",
       "      <th>...</th>\n",
       "      <td>...</td>\n",
       "      <td>...</td>\n",
       "    </tr>\n",
       "    <tr>\n",
       "      <th>91315</th>\n",
       "      <td>luciferase_CCTCTAGAGGATGGAACCGC</td>\n",
       "      <td>luciferase</td>\n",
       "    </tr>\n",
       "    <tr>\n",
       "      <th>91316</th>\n",
       "      <td>luciferase_ACAACTTTACCGACCGCGCC</td>\n",
       "      <td>luciferase</td>\n",
       "    </tr>\n",
       "    <tr>\n",
       "      <th>91317</th>\n",
       "      <td>luciferase_CTTGTCGTATCCCTGGAAGA</td>\n",
       "      <td>luciferase</td>\n",
       "    </tr>\n",
       "    <tr>\n",
       "      <th>91318</th>\n",
       "      <td>luciferase_GGCTATGAAGAGATACGCCC</td>\n",
       "      <td>luciferase</td>\n",
       "    </tr>\n",
       "    <tr>\n",
       "      <th>91319</th>\n",
       "      <td>luciferase_GGCATGCGAGAATCTGACGC</td>\n",
       "      <td>luciferase</td>\n",
       "    </tr>\n",
       "  </tbody>\n",
       "</table>\n",
       "<p>91320 rows × 2 columns</p>\n",
       "</div>"
      ],
      "text/plain": [
       "                            GENE_CLONE        GENE\n",
       "0            A1BG_CACCTTCGAGCTGCTGCGCG        A1BG\n",
       "1            A1BG_AAGAGCGCCTCGGTCCCAGC        A1BG\n",
       "2            A1BG_TGGACTTCCAGCTACGGCGC        A1BG\n",
       "3            A1BG_CACTGGCGCCATCGAGAGCC        A1BG\n",
       "4            A1BG_GCTCGGGCTTGTCCACAGGA        A1BG\n",
       "...                                ...         ...\n",
       "91315  luciferase_CCTCTAGAGGATGGAACCGC  luciferase\n",
       "91316  luciferase_ACAACTTTACCGACCGCGCC  luciferase\n",
       "91317  luciferase_CTTGTCGTATCCCTGGAAGA  luciferase\n",
       "91318  luciferase_GGCTATGAAGAGATACGCCC  luciferase\n",
       "91319  luciferase_GGCATGCGAGAATCTGACGC  luciferase\n",
       "\n",
       "[91320 rows x 2 columns]"
      ]
     },
     "execution_count": 16,
     "metadata": {},
     "output_type": "execute_result"
    }
   ],
   "source": [
    "adata.var"
   ]
  },
  {
   "cell_type": "code",
   "execution_count": 17,
   "metadata": {
    "colab": {
     "base_uri": "https://localhost:8080/"
    },
    "id": "n9bqxbYadm5t",
    "outputId": "e5cc584d-af53-43bb-a654-03a914849344"
   },
   "outputs": [
    {
     "data": {
      "text/plain": [
       "AnnData object with n_obs × n_vars = 13 × 85180\n",
       "    obs: 'replicate', 'time'\n",
       "    var: 'GENE_CLONE', 'GENE'"
      ]
     },
     "execution_count": 17,
     "metadata": {},
     "output_type": "execute_result"
    }
   ],
   "source": [
    "bdata"
   ]
  },
  {
   "cell_type": "code",
   "execution_count": 18,
   "metadata": {
    "colab": {
     "base_uri": "https://localhost:8080/",
     "height": 423
    },
    "id": "eEBwYjAFk-XW",
    "outputId": "8dae6973-fbd2-48d9-95e3-a62f7e984f17"
   },
   "outputs": [
    {
     "data": {
      "text/html": [
       "<div>\n",
       "<style scoped>\n",
       "    .dataframe tbody tr th:only-of-type {\n",
       "        vertical-align: middle;\n",
       "    }\n",
       "\n",
       "    .dataframe tbody tr th {\n",
       "        vertical-align: top;\n",
       "    }\n",
       "\n",
       "    .dataframe thead th {\n",
       "        text-align: right;\n",
       "    }\n",
       "</style>\n",
       "<table border=\"1\" class=\"dataframe\">\n",
       "  <thead>\n",
       "    <tr style=\"text-align: right;\">\n",
       "      <th></th>\n",
       "      <th>replicate</th>\n",
       "      <th>time</th>\n",
       "    </tr>\n",
       "    <tr>\n",
       "      <th>sample</th>\n",
       "      <th></th>\n",
       "      <th></th>\n",
       "    </tr>\n",
       "  </thead>\n",
       "  <tbody>\n",
       "    <tr>\n",
       "      <th>T08A</th>\n",
       "      <td>A</td>\n",
       "      <td>8</td>\n",
       "    </tr>\n",
       "    <tr>\n",
       "      <th>T08B</th>\n",
       "      <td>B</td>\n",
       "      <td>8</td>\n",
       "    </tr>\n",
       "    <tr>\n",
       "      <th>T08C</th>\n",
       "      <td>C</td>\n",
       "      <td>8</td>\n",
       "    </tr>\n",
       "    <tr>\n",
       "      <th>T12A</th>\n",
       "      <td>A</td>\n",
       "      <td>12</td>\n",
       "    </tr>\n",
       "    <tr>\n",
       "      <th>T12B</th>\n",
       "      <td>B</td>\n",
       "      <td>12</td>\n",
       "    </tr>\n",
       "    <tr>\n",
       "      <th>T12C</th>\n",
       "      <td>C</td>\n",
       "      <td>12</td>\n",
       "    </tr>\n",
       "    <tr>\n",
       "      <th>T15A</th>\n",
       "      <td>A</td>\n",
       "      <td>15</td>\n",
       "    </tr>\n",
       "    <tr>\n",
       "      <th>T15B</th>\n",
       "      <td>B</td>\n",
       "      <td>15</td>\n",
       "    </tr>\n",
       "    <tr>\n",
       "      <th>T15C</th>\n",
       "      <td>C</td>\n",
       "      <td>15</td>\n",
       "    </tr>\n",
       "    <tr>\n",
       "      <th>T18A</th>\n",
       "      <td>A</td>\n",
       "      <td>18</td>\n",
       "    </tr>\n",
       "    <tr>\n",
       "      <th>T18B</th>\n",
       "      <td>B</td>\n",
       "      <td>18</td>\n",
       "    </tr>\n",
       "    <tr>\n",
       "      <th>T18C</th>\n",
       "      <td>C</td>\n",
       "      <td>18</td>\n",
       "    </tr>\n",
       "    <tr>\n",
       "      <th>T0</th>\n",
       "      <td>0</td>\n",
       "      <td>-1</td>\n",
       "    </tr>\n",
       "  </tbody>\n",
       "</table>\n",
       "</div>"
      ],
      "text/plain": [
       "       replicate  time\n",
       "sample                \n",
       "T08A           A     8\n",
       "T08B           B     8\n",
       "T08C           C     8\n",
       "T12A           A    12\n",
       "T12B           B    12\n",
       "T12C           C    12\n",
       "T15A           A    15\n",
       "T15B           B    15\n",
       "T15C           C    15\n",
       "T18A           A    18\n",
       "T18B           B    18\n",
       "T18C           C    18\n",
       "T0             0    -1"
      ]
     },
     "execution_count": 18,
     "metadata": {},
     "output_type": "execute_result"
    }
   ],
   "source": [
    "bdata.obs"
   ]
  },
  {
   "cell_type": "markdown",
   "metadata": {
    "id": "fNuGg75plK1Z"
   },
   "source": [
    "### Slicing"
   ]
  },
  {
   "cell_type": "code",
   "execution_count": 20,
   "metadata": {
    "colab": {
     "base_uri": "https://localhost:8080/"
    },
    "id": "L8CYibLed6Z6",
    "outputId": "1a1f34c8-4dc3-48b9-e661-3069ea8cf63b"
   },
   "outputs": [
    {
     "data": {
      "text/plain": [
       "View of AnnData object with n_obs × n_vars = 13 × 6\n",
       "    obs: 'replicate', 'time'\n",
       "    var: 'GENE_CLONE', 'GENE'"
      ]
     },
     "execution_count": 20,
     "metadata": {},
     "output_type": "execute_result"
    }
   ],
   "source": [
    "adata_cut = adata[:, adata.var.GENE == \"A1BG\"]\n",
    "adata_cut"
   ]
  },
  {
   "cell_type": "code",
   "execution_count": 21,
   "metadata": {
    "colab": {
     "base_uri": "https://localhost:8080/"
    },
    "id": "AyQ-e_nlc1x0",
    "outputId": "32466e0f-b3da-40c4-fee6-fc6b0f10db94"
   },
   "outputs": [
    {
     "data": {
      "text/plain": [
       "View of AnnData object with n_obs × n_vars = 3 × 91320\n",
       "    obs: 'replicate', 'time'\n",
       "    var: 'GENE_CLONE', 'GENE'"
      ]
     },
     "execution_count": 21,
     "metadata": {},
     "output_type": "execute_result"
    }
   ],
   "source": [
    "adata_t8 = adata[adata.obs.time == 8, :]\n",
    "adata_t8"
   ]
  },
  {
   "cell_type": "markdown",
   "metadata": {
    "id": "qv1dFsOVllJB"
   },
   "source": [
    "### Writing"
   ]
  },
  {
   "cell_type": "code",
   "execution_count": 22,
   "metadata": {
    "id": "lCw4Wh3ilig2"
   },
   "outputs": [],
   "source": [
    "adata.write(\"HeLa_lib1.h5ad\")"
   ]
  }
 ],
 "metadata": {
  "colab": {
   "name": "anndata_demo.ipynb",
   "provenance": []
  },
  "kernelspec": {
   "display_name": ".venv",
   "language": "python",
   "name": "python3"
  },
  "language_info": {
   "codemirror_mode": {
    "name": "ipython",
    "version": 3
   },
   "file_extension": ".py",
   "mimetype": "text/x-python",
   "name": "python",
   "nbconvert_exporter": "python",
   "pygments_lexer": "ipython3",
   "version": "3.9.13"
  }
 },
 "nbformat": 4,
 "nbformat_minor": 1
}
