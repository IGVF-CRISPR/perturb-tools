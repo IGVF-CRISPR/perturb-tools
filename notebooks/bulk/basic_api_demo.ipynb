{
 "cells": [
  {
   "attachments": {},
   "cell_type": "markdown",
   "metadata": {
    "id": "yu3hFm9zhKK7"
   },
   "source": [
    "[![Open In Colab](https://colab.research.google.com/assets/colab-badge.svg)](https://drive.google.com/file/d/1cTuUip7jpIWAxE5rXVv3M1quIab742rP/view?usp=sharing)"
   ]
  },
  {
   "cell_type": "markdown",
   "metadata": {
    "id": "5fG7ceNYLZv9"
   },
   "source": [
    "# CRISPR screen analysis with Perturb-tools"
   ]
  },
  {
   "cell_type": "markdown",
   "metadata": {
    "id": "2dSlbT_ZMU72"
   },
   "source": [
    "In this tutorial, we will cover\n",
    "*  Loading three .csv files each about guide, sample, and guide count information into single Screen object\n",
    "*  Slicing (indexing) Screen object to subset/select guides and samples\n",
    "*  Adding Screen object to combine technical replicates\n",
    "*  Concatenating Screen object to combine biological replicates\n",
    "*  Normalize and calculate log fold change of guides across two different conditions\n",
    "*  Writing Screen object to .h5ad or .xlsx file"
   ]
  },
  {
   "cell_type": "code",
   "execution_count": 1,
   "metadata": {
    "id": "FMmOwwSXJQxm"
   },
   "outputs": [],
   "source": [
    "import pandas as pd\n",
    "import anndata as ad\n",
    "import perturb_tools as pt"
   ]
  },
  {
   "cell_type": "markdown",
   "metadata": {
    "id": "-O0OyBI3uQ12"
   },
   "source": [
    "We will download public CRISPR/Cas9 Knock-out dataset: [TKO](http://tko.ccbr.utoronto.ca/) HeLa data."
   ]
  },
  {
   "cell_type": "code",
   "execution_count": 2,
   "metadata": {
    "colab": {
     "base_uri": "https://localhost:8080/"
    },
    "id": "qQCbMhXLZ7pT",
    "outputId": "caccba79-068a-4ae2-faff-ed6f74867e22"
   },
   "outputs": [
    {
     "name": "stdout",
     "output_type": "stream",
     "text": [
      "--2023-04-10 23:47:18--  http://tko.ccbr.utoronto.ca/Data/readcount-HeLa-lib1.gz\n",
      "Resolving tko.ccbr.utoronto.ca (tko.ccbr.utoronto.ca)... 142.150.76.126\n",
      "Connecting to tko.ccbr.utoronto.ca (tko.ccbr.utoronto.ca)|142.150.76.126|:80... connected.\n",
      "HTTP request sent, awaiting response... 200 OK\n",
      "Length: 2877516 (2.7M) [application/x-gzip]\n",
      "Saving to: ‘readcount-HeLa-lib1.gz’\n",
      "\n",
      "100%[======================================>] 2,877,516   14.8MB/s   in 0.2s   \n",
      "\n",
      "2023-04-10 23:47:18 (14.8 MB/s) - ‘readcount-HeLa-lib1.gz’ saved [2877516/2877516]\n",
      "\n",
      "--2023-04-10 23:47:18--  http://tko.ccbr.utoronto.ca/Data/readcount-HeLa-lib2.gz\n",
      "Resolving tko.ccbr.utoronto.ca (tko.ccbr.utoronto.ca)... 142.150.76.126\n",
      "Connecting to tko.ccbr.utoronto.ca (tko.ccbr.utoronto.ca)|142.150.76.126|:80... connected.\n",
      "HTTP request sent, awaiting response... 200 OK\n",
      "Length: 2680113 (2.6M) [application/x-gzip]\n",
      "Saving to: ‘readcount-HeLa-lib2.gz’\n",
      "\n",
      "100%[======================================>] 2,680,113   15.7MB/s   in 0.2s   \n",
      "\n",
      "2023-04-10 23:47:19 (15.7 MB/s) - ‘readcount-HeLa-lib2.gz’ saved [2680113/2680113]\n",
      "\n"
     ]
    }
   ],
   "source": [
    "! wget http://tko.ccbr.utoronto.ca/Data/readcount-HeLa-lib1.gz -nc\n",
    "! wget http://tko.ccbr.utoronto.ca/Data/readcount-HeLa-lib2.gz -nc\n",
    "! gunzip readcount-HeLa-lib1.gz -f\n",
    "! gunzip readcount-HeLa-lib2.gz -f"
   ]
  },
  {
   "cell_type": "code",
   "execution_count": 3,
   "metadata": {
    "id": "K3Ni8NqBOTbw"
   },
   "outputs": [],
   "source": [
    "!cut -f 1,2 readcount-HeLa-lib1 > guide_info-HeLa-lib1.tsv\n",
    "!cut -f 1,3- readcount-HeLa-lib1 > guide_count-HeLa-lib1.tsv\n",
    "!cut -f 1,2 readcount-HeLa-lib2 > guide_info-HeLa-lib2.tsv\n",
    "!cut -f 1,3- readcount-HeLa-lib2 > guide_count-HeLa-lib2.tsv"
   ]
  },
  {
   "cell_type": "code",
   "execution_count": 34,
   "metadata": {},
   "outputs": [
    {
     "name": "stdout",
     "output_type": "stream",
     "text": [
      "GENE_CLONE\tGENE\r\n",
      "A1BG_CACCTTCGAGCTGCTGCGCG\tA1BG\r\n",
      "A1BG_AAGAGCGCCTCGGTCCCAGC\tA1BG\r\n",
      "A1BG_TGGACTTCCAGCTACGGCGC\tA1BG\r\n",
      "A1BG_CACTGGCGCCATCGAGAGCC\tA1BG\r\n",
      "A1BG_GCTCGGGCTTGTCCACAGGA\tA1BG\r\n",
      "A1BG_CAAGAGAAAGACCACGAGCA\tA1BG\r\n",
      "A1CF_CGTGGCTATTTGGCATACAC\tA1CF\r\n",
      "A1CF_GGTATACTCTCCTTGCAGCA\tA1CF\r\n",
      "A1CF_GACATGGTATTGCAGTAGAC\tA1CF\r\n"
     ]
    }
   ],
   "source": [
    "! head guide_info-HeLa-lib1.tsv"
   ]
  },
  {
   "cell_type": "markdown",
   "metadata": {
    "id": "XutmLKQ6N5eR"
   },
   "source": [
    "# Loading text file to AnnData object"
   ]
  },
  {
   "cell_type": "markdown",
   "metadata": {
    "id": "iNjuoVS_Rz9i"
   },
   "source": [
    "Basic structure of AnnData object contains 3 types of information:\n",
    "*  `Screen.X`: guide count matrix (numpy array with shape (n_guides, n_samples)\n",
    "*  `Screen.var`: **guide RNA** information ex) sequence, target element (pandas DataFrame with length n_guides)\n",
    "*  `Screen.obs`: **sample** information that gave rise to the guide counts (pandas DataFrame with length n_samples)\n",
    "\n",
    "You can construct Screen object using any number of these three elements."
   ]
  },
  {
   "cell_type": "code",
   "execution_count": 4,
   "metadata": {
    "colab": {
     "base_uri": "https://localhost:8080/"
    },
    "id": "tRgJXSCkSm6j",
    "outputId": "8f59d583-43ee-427a-a2af-a9c6c065a0de"
   },
   "outputs": [
    {
     "name": "stderr",
     "output_type": "stream",
     "text": [
      "/data/pinello/PROJECTS/2023_03_scCRISPR_PIPELINE/perturb-tools/perturb_tools/_readwrite/_funcs/_to_from_csv.py:54: FutureWarning: X.dtype being converted to np.float32 from int64. In the next version of anndata (0.9) conversion will not be automatic. Pass dtype explicitly to avoid this warning. Pass `AnnData(X, dtype=X.dtype, ...)` to get the future behavour.\n",
      "  return ad.AnnData(X=X, var=guide_df, obs=sample_df)\n",
      "/data/pinello/SHARED_SOFTWARE/anaconda_latest/envs/igvf_sccrispr/lib/python3.10/site-packages/anndata/_core/anndata.py:121: ImplicitModificationWarning: Transforming to str index.\n",
      "  warnings.warn(\"Transforming to str index.\", ImplicitModificationWarning)\n"
     ]
    }
   ],
   "source": [
    "screen = pt.io.read_csv(X_path=\"guide_count-HeLa-lib1.tsv\", guide_path=\"guide_info-HeLa-lib1.tsv\", sample_path=None, sep=\"\\t\")"
   ]
  },
  {
   "cell_type": "code",
   "execution_count": 5,
   "metadata": {
    "colab": {
     "base_uri": "https://localhost:8080/"
    },
    "id": "eCzxXvuVUXRO",
    "outputId": "4bcf557f-8fd5-46e9-897c-7c50c9d4ab34"
   },
   "outputs": [
    {
     "data": {
      "text/plain": [
       "array([[310.,  46., 239., ..., 508.,  97.,  91.],\n",
       "       [226.,   1., 216., ..., 479.,  50., 115.],\n",
       "       [338.,   0., 285., ..., 248.,  10., 130.],\n",
       "       ...,\n",
       "       [ 49.,   1., 250., ..., 331.,  28.,  76.],\n",
       "       [296.,  52., 269., ..., 386.,  23., 120.],\n",
       "       [469., 213., 363., ..., 566.,   3., 390.]], dtype=float32)"
      ]
     },
     "execution_count": 5,
     "metadata": {},
     "output_type": "execute_result"
    }
   ],
   "source": [
    "screen.X"
   ]
  },
  {
   "cell_type": "markdown",
   "metadata": {
    "id": "2QH6R_gQfia1"
   },
   "source": [
    "Alternatively, you can manually read the file and initialize Screen object."
   ]
  },
  {
   "cell_type": "code",
   "execution_count": 6,
   "metadata": {
    "id": "PBk5uxU0bO77"
   },
   "outputs": [],
   "source": [
    "tbl = pd.read_csv(\"readcount-HeLa-lib1\", sep = \"\\t\")\n",
    "tbl2 = pd.read_csv(\"readcount-HeLa-lib2\", sep = \"\\t\")"
   ]
  },
  {
   "cell_type": "code",
   "execution_count": 29,
   "metadata": {},
   "outputs": [
    {
     "data": {
      "text/html": [
       "<div>\n",
       "<style scoped>\n",
       "    .dataframe tbody tr th:only-of-type {\n",
       "        vertical-align: middle;\n",
       "    }\n",
       "\n",
       "    .dataframe tbody tr th {\n",
       "        vertical-align: top;\n",
       "    }\n",
       "\n",
       "    .dataframe thead th {\n",
       "        text-align: right;\n",
       "    }\n",
       "</style>\n",
       "<table border=\"1\" class=\"dataframe\">\n",
       "  <thead>\n",
       "    <tr style=\"text-align: right;\">\n",
       "      <th></th>\n",
       "      <th>GENE_CLONE</th>\n",
       "      <th>GENE</th>\n",
       "    </tr>\n",
       "  </thead>\n",
       "  <tbody>\n",
       "    <tr>\n",
       "      <th>0</th>\n",
       "      <td>A1BG_CACCTTCGAGCTGCTGCGCG</td>\n",
       "      <td>A1BG</td>\n",
       "    </tr>\n",
       "    <tr>\n",
       "      <th>1</th>\n",
       "      <td>A1BG_AAGAGCGCCTCGGTCCCAGC</td>\n",
       "      <td>A1BG</td>\n",
       "    </tr>\n",
       "    <tr>\n",
       "      <th>2</th>\n",
       "      <td>A1BG_TGGACTTCCAGCTACGGCGC</td>\n",
       "      <td>A1BG</td>\n",
       "    </tr>\n",
       "    <tr>\n",
       "      <th>3</th>\n",
       "      <td>A1BG_CACTGGCGCCATCGAGAGCC</td>\n",
       "      <td>A1BG</td>\n",
       "    </tr>\n",
       "    <tr>\n",
       "      <th>4</th>\n",
       "      <td>A1BG_GCTCGGGCTTGTCCACAGGA</td>\n",
       "      <td>A1BG</td>\n",
       "    </tr>\n",
       "    <tr>\n",
       "      <th>...</th>\n",
       "      <td>...</td>\n",
       "      <td>...</td>\n",
       "    </tr>\n",
       "    <tr>\n",
       "      <th>91315</th>\n",
       "      <td>luciferase_CCTCTAGAGGATGGAACCGC</td>\n",
       "      <td>luciferase</td>\n",
       "    </tr>\n",
       "    <tr>\n",
       "      <th>91316</th>\n",
       "      <td>luciferase_ACAACTTTACCGACCGCGCC</td>\n",
       "      <td>luciferase</td>\n",
       "    </tr>\n",
       "    <tr>\n",
       "      <th>91317</th>\n",
       "      <td>luciferase_CTTGTCGTATCCCTGGAAGA</td>\n",
       "      <td>luciferase</td>\n",
       "    </tr>\n",
       "    <tr>\n",
       "      <th>91318</th>\n",
       "      <td>luciferase_GGCTATGAAGAGATACGCCC</td>\n",
       "      <td>luciferase</td>\n",
       "    </tr>\n",
       "    <tr>\n",
       "      <th>91319</th>\n",
       "      <td>luciferase_GGCATGCGAGAATCTGACGC</td>\n",
       "      <td>luciferase</td>\n",
       "    </tr>\n",
       "  </tbody>\n",
       "</table>\n",
       "<p>91320 rows × 2 columns</p>\n",
       "</div>"
      ],
      "text/plain": [
       "                            GENE_CLONE        GENE\n",
       "0            A1BG_CACCTTCGAGCTGCTGCGCG        A1BG\n",
       "1            A1BG_AAGAGCGCCTCGGTCCCAGC        A1BG\n",
       "2            A1BG_TGGACTTCCAGCTACGGCGC        A1BG\n",
       "3            A1BG_CACTGGCGCCATCGAGAGCC        A1BG\n",
       "4            A1BG_GCTCGGGCTTGTCCACAGGA        A1BG\n",
       "...                                ...         ...\n",
       "91315  luciferase_CCTCTAGAGGATGGAACCGC  luciferase\n",
       "91316  luciferase_ACAACTTTACCGACCGCGCC  luciferase\n",
       "91317  luciferase_CTTGTCGTATCCCTGGAAGA  luciferase\n",
       "91318  luciferase_GGCTATGAAGAGATACGCCC  luciferase\n",
       "91319  luciferase_GGCATGCGAGAATCTGACGC  luciferase\n",
       "\n",
       "[91320 rows x 2 columns]"
      ]
     },
     "execution_count": 29,
     "metadata": {},
     "output_type": "execute_result"
    }
   ],
   "source": [
    "tbl.iloc[:,:2]"
   ]
  },
  {
   "cell_type": "code",
   "execution_count": 30,
   "metadata": {
    "id": "zSa-tE0bblMl"
   },
   "outputs": [],
   "source": [
    "def make_anndata(tbl):\n",
    "  sample_df = pd.DataFrame(tbl.columns[2:]).rename(columns={0:\"sample\"}).set_index(\"sample\")\n",
    "  sample_df[\"replicate\"] = sample_df.index.str[-1]\n",
    "  sample_df[\"time\"] = sample_df.index.str[1:-1].map(lambda s: int(s) if s else -1)\n",
    "  return ad.AnnData(X=tbl.values[:,2:].T, dtype=int, var=tbl.iloc[:,:2].set_index(\"GENE_CLONE\"), \n",
    "                   obs=sample_df)"
   ]
  },
  {
   "cell_type": "code",
   "execution_count": 31,
   "metadata": {
    "colab": {
     "base_uri": "https://localhost:8080/"
    },
    "id": "pjOXiYsfbWmd",
    "outputId": "a959d501-e29e-4d87-a346-50008ddab73d"
   },
   "outputs": [],
   "source": [
    "adata = make_anndata(tbl)\n",
    "bdata = make_anndata(tbl2)"
   ]
  },
  {
   "cell_type": "code",
   "execution_count": 32,
   "metadata": {
    "colab": {
     "base_uri": "https://localhost:8080/",
     "height": 423
    },
    "id": "zyK1KKh_k83l",
    "outputId": "22fbb8df-2c76-4946-9c06-2f78148c9c78"
   },
   "outputs": [
    {
     "data": {
      "text/html": [
       "<div>\n",
       "<style scoped>\n",
       "    .dataframe tbody tr th:only-of-type {\n",
       "        vertical-align: middle;\n",
       "    }\n",
       "\n",
       "    .dataframe tbody tr th {\n",
       "        vertical-align: top;\n",
       "    }\n",
       "\n",
       "    .dataframe thead th {\n",
       "        text-align: right;\n",
       "    }\n",
       "</style>\n",
       "<table border=\"1\" class=\"dataframe\">\n",
       "  <thead>\n",
       "    <tr style=\"text-align: right;\">\n",
       "      <th></th>\n",
       "      <th>replicate</th>\n",
       "      <th>time</th>\n",
       "    </tr>\n",
       "    <tr>\n",
       "      <th>sample</th>\n",
       "      <th></th>\n",
       "      <th></th>\n",
       "    </tr>\n",
       "  </thead>\n",
       "  <tbody>\n",
       "    <tr>\n",
       "      <th>T08A</th>\n",
       "      <td>A</td>\n",
       "      <td>8</td>\n",
       "    </tr>\n",
       "    <tr>\n",
       "      <th>T08B</th>\n",
       "      <td>B</td>\n",
       "      <td>8</td>\n",
       "    </tr>\n",
       "    <tr>\n",
       "      <th>T08C</th>\n",
       "      <td>C</td>\n",
       "      <td>8</td>\n",
       "    </tr>\n",
       "    <tr>\n",
       "      <th>T12A</th>\n",
       "      <td>A</td>\n",
       "      <td>12</td>\n",
       "    </tr>\n",
       "    <tr>\n",
       "      <th>T12B</th>\n",
       "      <td>B</td>\n",
       "      <td>12</td>\n",
       "    </tr>\n",
       "    <tr>\n",
       "      <th>T12C</th>\n",
       "      <td>C</td>\n",
       "      <td>12</td>\n",
       "    </tr>\n",
       "    <tr>\n",
       "      <th>T15A</th>\n",
       "      <td>A</td>\n",
       "      <td>15</td>\n",
       "    </tr>\n",
       "    <tr>\n",
       "      <th>T15B</th>\n",
       "      <td>B</td>\n",
       "      <td>15</td>\n",
       "    </tr>\n",
       "    <tr>\n",
       "      <th>T15C</th>\n",
       "      <td>C</td>\n",
       "      <td>15</td>\n",
       "    </tr>\n",
       "    <tr>\n",
       "      <th>T18A</th>\n",
       "      <td>A</td>\n",
       "      <td>18</td>\n",
       "    </tr>\n",
       "    <tr>\n",
       "      <th>T18B</th>\n",
       "      <td>B</td>\n",
       "      <td>18</td>\n",
       "    </tr>\n",
       "    <tr>\n",
       "      <th>T18C</th>\n",
       "      <td>C</td>\n",
       "      <td>18</td>\n",
       "    </tr>\n",
       "    <tr>\n",
       "      <th>T0</th>\n",
       "      <td>0</td>\n",
       "      <td>-1</td>\n",
       "    </tr>\n",
       "  </tbody>\n",
       "</table>\n",
       "</div>"
      ],
      "text/plain": [
       "       replicate  time\n",
       "sample                \n",
       "T08A           A     8\n",
       "T08B           B     8\n",
       "T08C           C     8\n",
       "T12A           A    12\n",
       "T12B           B    12\n",
       "T12C           C    12\n",
       "T15A           A    15\n",
       "T15B           B    15\n",
       "T15C           C    15\n",
       "T18A           A    18\n",
       "T18B           B    18\n",
       "T18C           C    18\n",
       "T0             0    -1"
      ]
     },
     "execution_count": 32,
     "metadata": {},
     "output_type": "execute_result"
    }
   ],
   "source": [
    "adata.obs"
   ]
  },
  {
   "cell_type": "code",
   "execution_count": 33,
   "metadata": {
    "colab": {
     "base_uri": "https://localhost:8080/",
     "height": 488
    },
    "id": "2KgQdLE8lZdv",
    "outputId": "efdcc451-7e87-4658-be42-c5bd46c25d02"
   },
   "outputs": [
    {
     "data": {
      "text/html": [
       "<div>\n",
       "<style scoped>\n",
       "    .dataframe tbody tr th:only-of-type {\n",
       "        vertical-align: middle;\n",
       "    }\n",
       "\n",
       "    .dataframe tbody tr th {\n",
       "        vertical-align: top;\n",
       "    }\n",
       "\n",
       "    .dataframe thead th {\n",
       "        text-align: right;\n",
       "    }\n",
       "</style>\n",
       "<table border=\"1\" class=\"dataframe\">\n",
       "  <thead>\n",
       "    <tr style=\"text-align: right;\">\n",
       "      <th></th>\n",
       "      <th>GENE</th>\n",
       "    </tr>\n",
       "    <tr>\n",
       "      <th>GENE_CLONE</th>\n",
       "      <th></th>\n",
       "    </tr>\n",
       "  </thead>\n",
       "  <tbody>\n",
       "    <tr>\n",
       "      <th>A1BG_CACCTTCGAGCTGCTGCGCG</th>\n",
       "      <td>A1BG</td>\n",
       "    </tr>\n",
       "    <tr>\n",
       "      <th>A1BG_AAGAGCGCCTCGGTCCCAGC</th>\n",
       "      <td>A1BG</td>\n",
       "    </tr>\n",
       "    <tr>\n",
       "      <th>A1BG_TGGACTTCCAGCTACGGCGC</th>\n",
       "      <td>A1BG</td>\n",
       "    </tr>\n",
       "    <tr>\n",
       "      <th>A1BG_CACTGGCGCCATCGAGAGCC</th>\n",
       "      <td>A1BG</td>\n",
       "    </tr>\n",
       "    <tr>\n",
       "      <th>A1BG_GCTCGGGCTTGTCCACAGGA</th>\n",
       "      <td>A1BG</td>\n",
       "    </tr>\n",
       "    <tr>\n",
       "      <th>...</th>\n",
       "      <td>...</td>\n",
       "    </tr>\n",
       "    <tr>\n",
       "      <th>luciferase_CCTCTAGAGGATGGAACCGC</th>\n",
       "      <td>luciferase</td>\n",
       "    </tr>\n",
       "    <tr>\n",
       "      <th>luciferase_ACAACTTTACCGACCGCGCC</th>\n",
       "      <td>luciferase</td>\n",
       "    </tr>\n",
       "    <tr>\n",
       "      <th>luciferase_CTTGTCGTATCCCTGGAAGA</th>\n",
       "      <td>luciferase</td>\n",
       "    </tr>\n",
       "    <tr>\n",
       "      <th>luciferase_GGCTATGAAGAGATACGCCC</th>\n",
       "      <td>luciferase</td>\n",
       "    </tr>\n",
       "    <tr>\n",
       "      <th>luciferase_GGCATGCGAGAATCTGACGC</th>\n",
       "      <td>luciferase</td>\n",
       "    </tr>\n",
       "  </tbody>\n",
       "</table>\n",
       "<p>91320 rows × 1 columns</p>\n",
       "</div>"
      ],
      "text/plain": [
       "                                       GENE\n",
       "GENE_CLONE                                 \n",
       "A1BG_CACCTTCGAGCTGCTGCGCG              A1BG\n",
       "A1BG_AAGAGCGCCTCGGTCCCAGC              A1BG\n",
       "A1BG_TGGACTTCCAGCTACGGCGC              A1BG\n",
       "A1BG_CACTGGCGCCATCGAGAGCC              A1BG\n",
       "A1BG_GCTCGGGCTTGTCCACAGGA              A1BG\n",
       "...                                     ...\n",
       "luciferase_CCTCTAGAGGATGGAACCGC  luciferase\n",
       "luciferase_ACAACTTTACCGACCGCGCC  luciferase\n",
       "luciferase_CTTGTCGTATCCCTGGAAGA  luciferase\n",
       "luciferase_GGCTATGAAGAGATACGCCC  luciferase\n",
       "luciferase_GGCATGCGAGAATCTGACGC  luciferase\n",
       "\n",
       "[91320 rows x 1 columns]"
      ]
     },
     "execution_count": 33,
     "metadata": {},
     "output_type": "execute_result"
    }
   ],
   "source": [
    "adata.var"
   ]
  },
  {
   "cell_type": "markdown",
   "metadata": {
    "id": "fNuGg75plK1Z"
   },
   "source": [
    "### Slicing"
   ]
  },
  {
   "cell_type": "code",
   "execution_count": 35,
   "metadata": {
    "colab": {
     "base_uri": "https://localhost:8080/"
    },
    "id": "L8CYibLed6Z6",
    "outputId": "b163bb2c-21cc-43ee-919c-faae35497118"
   },
   "outputs": [
    {
     "data": {
      "text/plain": [
       "View of AnnData object with n_obs × n_vars = 13 × 6\n",
       "    obs: 'replicate', 'time'\n",
       "    var: 'GENE'"
      ]
     },
     "execution_count": 35,
     "metadata": {},
     "output_type": "execute_result"
    }
   ],
   "source": [
    "adata_cut = adata[:, adata.var.GENE == \"A1BG\"]\n",
    "adata_cut"
   ]
  },
  {
   "cell_type": "code",
   "execution_count": 36,
   "metadata": {
    "colab": {
     "base_uri": "https://localhost:8080/"
    },
    "id": "AyQ-e_nlc1x0",
    "outputId": "c162a6cb-3464-45a0-c0c2-e53ef2b11217"
   },
   "outputs": [
    {
     "data": {
      "text/plain": [
       "View of AnnData object with n_obs × n_vars = 3 × 91320\n",
       "    obs: 'replicate', 'time'\n",
       "    var: 'GENE'"
      ]
     },
     "execution_count": 36,
     "metadata": {},
     "output_type": "execute_result"
    }
   ],
   "source": [
    "adata_t8 = adata[adata.obs.time == 8, :]\n",
    "adata_t8"
   ]
  },
  {
   "cell_type": "markdown",
   "metadata": {
    "id": "qv1dFsOVllJB"
   },
   "source": [
    "### Writing"
   ]
  },
  {
   "cell_type": "code",
   "execution_count": 37,
   "metadata": {
    "id": "lCw4Wh3ilig2"
   },
   "outputs": [],
   "source": [
    "adata.write(\"HeLa_lib1.h5ad\")"
   ]
  },
  {
   "cell_type": "markdown",
   "metadata": {
    "id": "NPtzel9_3fSd"
   },
   "source": [
    "## Arithmetic"
   ]
  },
  {
   "cell_type": "markdown",
   "metadata": {
    "id": "xuYFQko_3iWk"
   },
   "source": [
    "### Adding\n",
    "If the guide and conditions are exactly the same, objects can be added (ex. technical replicates)."
   ]
  },
  {
   "cell_type": "code",
   "execution_count": 38,
   "metadata": {
    "colab": {
     "base_uri": "https://localhost:8080/"
    },
    "id": "mMzkKcz43a0N",
    "outputId": "08903c0a-b418-488a-d45d-d750f98d6031"
   },
   "outputs": [
    {
     "name": "stderr",
     "output_type": "stream",
     "text": [
      "/data/pinello/PROJECTS/2023_03_scCRISPR_PIPELINE/perturb-tools/perturb_tools/_framework/_screen.py:48: FutureWarning: X.dtype being converted to np.float32 from int64. In the next version of anndata (0.9) conversion will not be automatic. Pass dtype explicitly to avoid this warning. Pass `AnnData(X, dtype=X.dtype, ...)` to get the future behavour.\n",
      "  return AnnData(\n"
     ]
    },
    {
     "data": {
      "text/plain": [
       "AnnData object with n_obs × n_vars = 13 × 91320\n",
       "    obs: 'replicate', 'time'\n",
       "    var: 'GENE'"
      ]
     },
     "execution_count": 38,
     "metadata": {},
     "output_type": "execute_result"
    }
   ],
   "source": [
    "pt.add(adata, adata)"
   ]
  },
  {
   "cell_type": "markdown",
   "metadata": {
    "id": "MOyVP4G53sGM"
   },
   "source": [
    "### Concatenating\n",
    "Biological replicates can be concatenated along axes."
   ]
  },
  {
   "cell_type": "code",
   "execution_count": 39,
   "metadata": {
    "colab": {
     "base_uri": "https://localhost:8080/"
    },
    "id": "OEZgHmPs3qk_",
    "outputId": "3f8e74f8-d1e8-4456-99d6-48d512e5dfd5"
   },
   "outputs": [
    {
     "name": "stderr",
     "output_type": "stream",
     "text": [
      "/data/pinello/SHARED_SOFTWARE/anaconda_latest/envs/igvf_sccrispr/lib/python3.10/site-packages/anndata/_core/anndata.py:1828: UserWarning: Observation names are not unique. To make them unique, call `.obs_names_make_unique`.\n",
      "  utils.warn_names_duplicates(\"obs\")\n"
     ]
    },
    {
     "data": {
      "text/plain": [
       "AnnData object with n_obs × n_vars = 26 × 91320\n",
       "    obs: 'replicate', 'time'"
      ]
     },
     "execution_count": 39,
     "metadata": {},
     "output_type": "execute_result"
    }
   ],
   "source": [
    "ad.concat((adata, adata), axis=0)"
   ]
  },
  {
   "cell_type": "markdown",
   "metadata": {
    "id": "m1ksPqAL31cj"
   },
   "source": [
    "## Normalization & LFC calculation"
   ]
  },
  {
   "cell_type": "code",
   "execution_count": 40,
   "metadata": {
    "colab": {
     "base_uri": "https://localhost:8080/"
    },
    "id": "1b1gBlKR34uy",
    "outputId": "ad3d6004-22da-4ccb-e520-ee0b1d6d6568"
   },
   "outputs": [],
   "source": [
    "pt.pp.log_norm(adata)"
   ]
  },
  {
   "cell_type": "code",
   "execution_count": 41,
   "metadata": {
    "colab": {
     "base_uri": "https://localhost:8080/"
    },
    "id": "pYzxbYwHQ7ct",
    "outputId": "e8937a69-22b5-4710-cdb7-8315b85efea5"
   },
   "outputs": [
    {
     "data": {
      "text/plain": [
       "array([[3.83616552, 1.57091719, 3.4906079 , ..., 4.50880773, 2.366281  ,\n",
       "        2.29249441],\n",
       "       [3.72344557, 0.07590494, 3.66320179, ..., 4.74827466, 1.88795355,\n",
       "        2.85050474],\n",
       "       [4.36367384, 0.        , 4.13058593, ..., 3.94220047, 0.65946991,\n",
       "        3.09314233],\n",
       "       ...,\n",
       "       [2.09998439, 0.09367186, 4.15142457, ..., 4.53632282, 1.5252234 ,\n",
       "        2.60840185],\n",
       "       [4.01236793, 1.87158158, 3.88332224, ..., 4.37437528, 1.1218406 ,\n",
       "        2.8353031 ],\n",
       "       [3.57526448, 2.57512434, 3.24056381, ..., 3.82558522, 0.09740613,\n",
       "        3.33346213]])"
      ]
     },
     "execution_count": 41,
     "metadata": {},
     "output_type": "execute_result"
    }
   ],
   "source": [
    "adata.layers['lognorm_counts']"
   ]
  },
  {
   "cell_type": "markdown",
   "metadata": {
    "id": "04x17ASQ4HgC"
   },
   "source": [
    "Calculating the LFC between T=18 vs T=8"
   ]
  },
  {
   "cell_type": "code",
   "execution_count": 42,
   "metadata": {
    "id": "Ob9VVqJc4jOI"
   },
   "outputs": [],
   "source": [
    "lfcs = pt.pp.log_fold_change(adata, \"T18A\", \"T08A\", return_result=True)"
   ]
  },
  {
   "cell_type": "markdown",
   "metadata": {},
   "source": [
    "Result can be saved to `.var`."
   ]
  },
  {
   "cell_type": "code",
   "execution_count": 43,
   "metadata": {
    "id": "Ob9VVqJc4jOI"
   },
   "outputs": [
    {
     "data": {
      "text/html": [
       "<div>\n",
       "<style scoped>\n",
       "    .dataframe tbody tr th:only-of-type {\n",
       "        vertical-align: middle;\n",
       "    }\n",
       "\n",
       "    .dataframe tbody tr th {\n",
       "        vertical-align: top;\n",
       "    }\n",
       "\n",
       "    .dataframe thead th {\n",
       "        text-align: right;\n",
       "    }\n",
       "</style>\n",
       "<table border=\"1\" class=\"dataframe\">\n",
       "  <thead>\n",
       "    <tr style=\"text-align: right;\">\n",
       "      <th></th>\n",
       "      <th>GENE</th>\n",
       "      <th>T18A_T08A.lfc</th>\n",
       "    </tr>\n",
       "    <tr>\n",
       "      <th>GENE_CLONE</th>\n",
       "      <th></th>\n",
       "      <th></th>\n",
       "    </tr>\n",
       "  </thead>\n",
       "  <tbody>\n",
       "    <tr>\n",
       "      <th>A1BG_CACCTTCGAGCTGCTGCGCG</th>\n",
       "      <td>A1BG</td>\n",
       "      <td>-0.341628</td>\n",
       "    </tr>\n",
       "    <tr>\n",
       "      <th>A1BG_AAGAGCGCCTCGGTCCCAGC</th>\n",
       "      <td>A1BG</td>\n",
       "      <td>-1.570917</td>\n",
       "    </tr>\n",
       "    <tr>\n",
       "      <th>A1BG_TGGACTTCCAGCTACGGCGC</th>\n",
       "      <td>A1BG</td>\n",
       "      <td>-0.060598</td>\n",
       "    </tr>\n",
       "    <tr>\n",
       "      <th>A1BG_CACTGGCGCCATCGAGAGCC</th>\n",
       "      <td>A1BG</td>\n",
       "      <td>-0.279654</td>\n",
       "    </tr>\n",
       "    <tr>\n",
       "      <th>A1BG_GCTCGGGCTTGTCCACAGGA</th>\n",
       "      <td>A1BG</td>\n",
       "      <td>0.912812</td>\n",
       "    </tr>\n",
       "    <tr>\n",
       "      <th>...</th>\n",
       "      <td>...</td>\n",
       "      <td>...</td>\n",
       "    </tr>\n",
       "    <tr>\n",
       "      <th>luciferase_CCTCTAGAGGATGGAACCGC</th>\n",
       "      <td>luciferase</td>\n",
       "      <td>0.946178</td>\n",
       "    </tr>\n",
       "    <tr>\n",
       "      <th>luciferase_ACAACTTTACCGACCGCGCC</th>\n",
       "      <td>luciferase</td>\n",
       "      <td>0.848203</td>\n",
       "    </tr>\n",
       "    <tr>\n",
       "      <th>luciferase_CTTGTCGTATCCCTGGAAGA</th>\n",
       "      <td>luciferase</td>\n",
       "      <td>0.026328</td>\n",
       "    </tr>\n",
       "    <tr>\n",
       "      <th>luciferase_GGCTATGAAGAGATACGCCC</th>\n",
       "      <td>luciferase</td>\n",
       "      <td>-1.009470</td>\n",
       "    </tr>\n",
       "    <tr>\n",
       "      <th>luciferase_GGCATGCGAGAATCTGACGC</th>\n",
       "      <td>luciferase</td>\n",
       "      <td>-1.882511</td>\n",
       "    </tr>\n",
       "  </tbody>\n",
       "</table>\n",
       "<p>91320 rows × 2 columns</p>\n",
       "</div>"
      ],
      "text/plain": [
       "                                       GENE  T18A_T08A.lfc\n",
       "GENE_CLONE                                                \n",
       "A1BG_CACCTTCGAGCTGCTGCGCG              A1BG      -0.341628\n",
       "A1BG_AAGAGCGCCTCGGTCCCAGC              A1BG      -1.570917\n",
       "A1BG_TGGACTTCCAGCTACGGCGC              A1BG      -0.060598\n",
       "A1BG_CACTGGCGCCATCGAGAGCC              A1BG      -0.279654\n",
       "A1BG_GCTCGGGCTTGTCCACAGGA              A1BG       0.912812\n",
       "...                                     ...            ...\n",
       "luciferase_CCTCTAGAGGATGGAACCGC  luciferase       0.946178\n",
       "luciferase_ACAACTTTACCGACCGCGCC  luciferase       0.848203\n",
       "luciferase_CTTGTCGTATCCCTGGAAGA  luciferase       0.026328\n",
       "luciferase_GGCTATGAAGAGATACGCCC  luciferase      -1.009470\n",
       "luciferase_GGCATGCGAGAATCTGACGC  luciferase      -1.882511\n",
       "\n",
       "[91320 rows x 2 columns]"
      ]
     },
     "execution_count": 43,
     "metadata": {},
     "output_type": "execute_result"
    }
   ],
   "source": [
    "pt.pp.log_fold_change(adata, \"T18A\", \"T08A\")\n",
    "adata.var"
   ]
  },
  {
   "cell_type": "markdown",
   "metadata": {
    "id": "eQniOfh_4zdi"
   },
   "source": [
    "Calculating the T=18 vs T=8 across all replicates"
   ]
  },
  {
   "cell_type": "code",
   "execution_count": 51,
   "metadata": {
    "id": "afAxBGYeRfP-"
   },
   "outputs": [],
   "source": [
    "adata_t = adata[adata.obs.replicate != \"0\", :].copy()"
   ]
  },
  {
   "cell_type": "code",
   "execution_count": 52,
   "metadata": {
    "colab": {
     "base_uri": "https://localhost:8080/",
     "height": 423
    },
    "id": "3St896ZL4Z-7",
    "outputId": "36ebf72c-e8d7-400f-8b59-3e83ef5bf294"
   },
   "outputs": [
    {
     "data": {
      "text/html": [
       "<div>\n",
       "<style scoped>\n",
       "    .dataframe tbody tr th:only-of-type {\n",
       "        vertical-align: middle;\n",
       "    }\n",
       "\n",
       "    .dataframe tbody tr th {\n",
       "        vertical-align: top;\n",
       "    }\n",
       "\n",
       "    .dataframe thead th {\n",
       "        text-align: right;\n",
       "    }\n",
       "</style>\n",
       "<table border=\"1\" class=\"dataframe\">\n",
       "  <thead>\n",
       "    <tr style=\"text-align: right;\">\n",
       "      <th></th>\n",
       "      <th>A.18_8.lfc</th>\n",
       "      <th>B.18_8.lfc</th>\n",
       "      <th>C.18_8.lfc</th>\n",
       "    </tr>\n",
       "    <tr>\n",
       "      <th>GENE_CLONE</th>\n",
       "      <th></th>\n",
       "      <th></th>\n",
       "      <th></th>\n",
       "    </tr>\n",
       "  </thead>\n",
       "  <tbody>\n",
       "    <tr>\n",
       "      <th>A1BG_CACCTTCGAGCTGCTGCGCG</th>\n",
       "      <td>-0.341628</td>\n",
       "      <td>-1.623461</td>\n",
       "      <td>-0.351306</td>\n",
       "    </tr>\n",
       "    <tr>\n",
       "      <th>A1BG_AAGAGCGCCTCGGTCCCAGC</th>\n",
       "      <td>-1.570917</td>\n",
       "      <td>0.017767</td>\n",
       "      <td>1.871582</td>\n",
       "    </tr>\n",
       "    <tr>\n",
       "      <th>A1BG_TGGACTTCCAGCTACGGCGC</th>\n",
       "      <td>-0.060598</td>\n",
       "      <td>0.488223</td>\n",
       "      <td>-0.247264</td>\n",
       "    </tr>\n",
       "    <tr>\n",
       "      <th>A1BG_CACTGGCGCCATCGAGAGCC</th>\n",
       "      <td>-0.279654</td>\n",
       "      <td>0.893945</td>\n",
       "      <td>0.169561</td>\n",
       "    </tr>\n",
       "    <tr>\n",
       "      <th>A1BG_GCTCGGGCTTGTCCACAGGA</th>\n",
       "      <td>0.912812</td>\n",
       "      <td>1.240359</td>\n",
       "      <td>0.766479</td>\n",
       "    </tr>\n",
       "    <tr>\n",
       "      <th>...</th>\n",
       "      <td>...</td>\n",
       "      <td>...</td>\n",
       "      <td>...</td>\n",
       "    </tr>\n",
       "    <tr>\n",
       "      <th>luciferase_CCTCTAGAGGATGGAACCGC</th>\n",
       "      <td>0.946178</td>\n",
       "      <td>0.096590</td>\n",
       "      <td>0.677018</td>\n",
       "    </tr>\n",
       "    <tr>\n",
       "      <th>luciferase_ACAACTTTACCGACCGCGCC</th>\n",
       "      <td>0.848203</td>\n",
       "      <td>2.029437</td>\n",
       "      <td>0.480288</td>\n",
       "    </tr>\n",
       "    <tr>\n",
       "      <th>luciferase_CTTGTCGTATCCCTGGAAGA</th>\n",
       "      <td>0.026328</td>\n",
       "      <td>-0.211952</td>\n",
       "      <td>0.432175</td>\n",
       "    </tr>\n",
       "    <tr>\n",
       "      <th>luciferase_GGCTATGAAGAGATACGCCC</th>\n",
       "      <td>-1.009470</td>\n",
       "      <td>-0.362730</td>\n",
       "      <td>0.462371</td>\n",
       "    </tr>\n",
       "    <tr>\n",
       "      <th>luciferase_GGCATGCGAGAATCTGACGC</th>\n",
       "      <td>-1.882511</td>\n",
       "      <td>-0.242103</td>\n",
       "      <td>-0.257839</td>\n",
       "    </tr>\n",
       "  </tbody>\n",
       "</table>\n",
       "<p>91320 rows × 3 columns</p>\n",
       "</div>"
      ],
      "text/plain": [
       "                                 A.18_8.lfc  B.18_8.lfc  C.18_8.lfc\n",
       "GENE_CLONE                                                         \n",
       "A1BG_CACCTTCGAGCTGCTGCGCG         -0.341628   -1.623461   -0.351306\n",
       "A1BG_AAGAGCGCCTCGGTCCCAGC         -1.570917    0.017767    1.871582\n",
       "A1BG_TGGACTTCCAGCTACGGCGC         -0.060598    0.488223   -0.247264\n",
       "A1BG_CACTGGCGCCATCGAGAGCC         -0.279654    0.893945    0.169561\n",
       "A1BG_GCTCGGGCTTGTCCACAGGA          0.912812    1.240359    0.766479\n",
       "...                                     ...         ...         ...\n",
       "luciferase_CCTCTAGAGGATGGAACCGC    0.946178    0.096590    0.677018\n",
       "luciferase_ACAACTTTACCGACCGCGCC    0.848203    2.029437    0.480288\n",
       "luciferase_CTTGTCGTATCCCTGGAAGA    0.026328   -0.211952    0.432175\n",
       "luciferase_GGCTATGAAGAGATACGCCC   -1.009470   -0.362730    0.462371\n",
       "luciferase_GGCATGCGAGAATCTGACGC   -1.882511   -0.242103   -0.257839\n",
       "\n",
       "[91320 rows x 3 columns]"
      ]
     },
     "execution_count": 52,
     "metadata": {},
     "output_type": "execute_result"
    }
   ],
   "source": [
    "pt.pp.log_fold_change_reps(adata_t, 18, 8, rep_col=\"replicate\", compare_col=\"time\")"
   ]
  },
  {
   "cell_type": "markdown",
   "metadata": {
    "id": "IlIkCVCa4_gV"
   },
   "source": [
    "Aggregate the LFCs based on `aggregate_fn [median, mean, sd]`."
   ]
  },
  {
   "cell_type": "code",
   "execution_count": 53,
   "metadata": {
    "id": "OpBvl2Ns38q-"
   },
   "outputs": [],
   "source": [
    "pt.pp.log_fold_change_aggregate(adata_t, 8, 18, aggregate_col=\"replicate\", compare_col=\"time\", aggregate_fn = \"median\")"
   ]
  },
  {
   "cell_type": "code",
   "execution_count": 54,
   "metadata": {
    "colab": {
     "base_uri": "https://localhost:8080/",
     "height": 423
    },
    "id": "9usQ-rnzUAbW",
    "outputId": "3eb081c9-ef82-4f84-90bb-878566a1c1b9"
   },
   "outputs": [
    {
     "data": {
      "text/html": [
       "<div>\n",
       "<style scoped>\n",
       "    .dataframe tbody tr th:only-of-type {\n",
       "        vertical-align: middle;\n",
       "    }\n",
       "\n",
       "    .dataframe tbody tr th {\n",
       "        vertical-align: top;\n",
       "    }\n",
       "\n",
       "    .dataframe thead th {\n",
       "        text-align: right;\n",
       "    }\n",
       "</style>\n",
       "<table border=\"1\" class=\"dataframe\">\n",
       "  <thead>\n",
       "    <tr style=\"text-align: right;\">\n",
       "      <th></th>\n",
       "      <th>GENE</th>\n",
       "      <th>T18A_T08A.lfc</th>\n",
       "      <th>8_18.lfc.median</th>\n",
       "    </tr>\n",
       "    <tr>\n",
       "      <th>GENE_CLONE</th>\n",
       "      <th></th>\n",
       "      <th></th>\n",
       "      <th></th>\n",
       "    </tr>\n",
       "  </thead>\n",
       "  <tbody>\n",
       "    <tr>\n",
       "      <th>A1BG_CACCTTCGAGCTGCTGCGCG</th>\n",
       "      <td>A1BG</td>\n",
       "      <td>-0.341628</td>\n",
       "      <td>0.351306</td>\n",
       "    </tr>\n",
       "    <tr>\n",
       "      <th>A1BG_AAGAGCGCCTCGGTCCCAGC</th>\n",
       "      <td>A1BG</td>\n",
       "      <td>-1.570917</td>\n",
       "      <td>-0.017767</td>\n",
       "    </tr>\n",
       "    <tr>\n",
       "      <th>A1BG_TGGACTTCCAGCTACGGCGC</th>\n",
       "      <td>A1BG</td>\n",
       "      <td>-0.060598</td>\n",
       "      <td>0.060598</td>\n",
       "    </tr>\n",
       "    <tr>\n",
       "      <th>A1BG_CACTGGCGCCATCGAGAGCC</th>\n",
       "      <td>A1BG</td>\n",
       "      <td>-0.279654</td>\n",
       "      <td>-0.169561</td>\n",
       "    </tr>\n",
       "    <tr>\n",
       "      <th>A1BG_GCTCGGGCTTGTCCACAGGA</th>\n",
       "      <td>A1BG</td>\n",
       "      <td>0.912812</td>\n",
       "      <td>-0.912812</td>\n",
       "    </tr>\n",
       "    <tr>\n",
       "      <th>...</th>\n",
       "      <td>...</td>\n",
       "      <td>...</td>\n",
       "      <td>...</td>\n",
       "    </tr>\n",
       "    <tr>\n",
       "      <th>luciferase_CCTCTAGAGGATGGAACCGC</th>\n",
       "      <td>luciferase</td>\n",
       "      <td>0.946178</td>\n",
       "      <td>-0.677018</td>\n",
       "    </tr>\n",
       "    <tr>\n",
       "      <th>luciferase_ACAACTTTACCGACCGCGCC</th>\n",
       "      <td>luciferase</td>\n",
       "      <td>0.848203</td>\n",
       "      <td>-0.848203</td>\n",
       "    </tr>\n",
       "    <tr>\n",
       "      <th>luciferase_CTTGTCGTATCCCTGGAAGA</th>\n",
       "      <td>luciferase</td>\n",
       "      <td>0.026328</td>\n",
       "      <td>-0.026328</td>\n",
       "    </tr>\n",
       "    <tr>\n",
       "      <th>luciferase_GGCTATGAAGAGATACGCCC</th>\n",
       "      <td>luciferase</td>\n",
       "      <td>-1.009470</td>\n",
       "      <td>0.362730</td>\n",
       "    </tr>\n",
       "    <tr>\n",
       "      <th>luciferase_GGCATGCGAGAATCTGACGC</th>\n",
       "      <td>luciferase</td>\n",
       "      <td>-1.882511</td>\n",
       "      <td>0.257839</td>\n",
       "    </tr>\n",
       "  </tbody>\n",
       "</table>\n",
       "<p>91320 rows × 3 columns</p>\n",
       "</div>"
      ],
      "text/plain": [
       "                                       GENE  T18A_T08A.lfc  8_18.lfc.median\n",
       "GENE_CLONE                                                                 \n",
       "A1BG_CACCTTCGAGCTGCTGCGCG              A1BG      -0.341628         0.351306\n",
       "A1BG_AAGAGCGCCTCGGTCCCAGC              A1BG      -1.570917        -0.017767\n",
       "A1BG_TGGACTTCCAGCTACGGCGC              A1BG      -0.060598         0.060598\n",
       "A1BG_CACTGGCGCCATCGAGAGCC              A1BG      -0.279654        -0.169561\n",
       "A1BG_GCTCGGGCTTGTCCACAGGA              A1BG       0.912812        -0.912812\n",
       "...                                     ...            ...              ...\n",
       "luciferase_CCTCTAGAGGATGGAACCGC  luciferase       0.946178        -0.677018\n",
       "luciferase_ACAACTTTACCGACCGCGCC  luciferase       0.848203        -0.848203\n",
       "luciferase_CTTGTCGTATCCCTGGAAGA  luciferase       0.026328        -0.026328\n",
       "luciferase_GGCTATGAAGAGATACGCCC  luciferase      -1.009470         0.362730\n",
       "luciferase_GGCATGCGAGAATCTGACGC  luciferase      -1.882511         0.257839\n",
       "\n",
       "[91320 rows x 3 columns]"
      ]
     },
     "execution_count": 54,
     "metadata": {},
     "output_type": "execute_result"
    }
   ],
   "source": [
    "adata_t.var"
   ]
  },
  {
   "cell_type": "markdown",
   "metadata": {
    "id": "lmrMvljW5gIw"
   },
   "source": [
    "# Writing"
   ]
  },
  {
   "cell_type": "code",
   "execution_count": 48,
   "metadata": {
    "colab": {
     "base_uri": "https://localhost:8080/"
    },
    "id": "9qHVVUi75f1R",
    "outputId": "13e63c48-ac67-477b-9f78-882d6536f1a2"
   },
   "outputs": [
    {
     "name": "stdout",
     "output_type": "stream",
     "text": [
      "Writing to: Hela_lib_sub.xlsx\n",
      "\n",
      "\tSheet 1:\tX\n",
      "\tSheet 2:\tlognorm_counts\n",
      "\tSheet 3:\tguides\n",
      "\tSheet 4:\tsamples\n"
     ]
    }
   ],
   "source": [
    "pt.io.to_Excel(adata[:,:100], \"Hela_lib_sub.xlsx\")"
   ]
  },
  {
   "cell_type": "code",
   "execution_count": 49,
   "metadata": {
    "id": "7YwPo4tc5lDw"
   },
   "outputs": [],
   "source": [
    "pt.io.to_mageck_input(adata, \"Hela_mageck_input.txt\", target_column=\"GENE\")"
   ]
  },
  {
   "cell_type": "code",
   "execution_count": 50,
   "metadata": {
    "colab": {
     "base_uri": "https://localhost:8080/"
    },
    "id": "SJlsyUieUcgi",
    "outputId": "a167dc60-2317-44dd-a851-e2e81d8c300e"
   },
   "outputs": [
    {
     "name": "stdout",
     "output_type": "stream",
     "text": [
      "sgRNA\tgene\tT08A\tT08B\tT08C\tT12A\tT12B\tT12C\tT15A\tT15B\tT15C\tT18A\tT18B\tT18C\tT0\r\n",
      "A1BG_CACCTTCGAGCTGCTGCGCG\tA1BG\t310\t226\t338\t356\t249\t224\t186\t60\t296\t125\t49\t296\t469\r\n",
      "A1BG_AAGAGCGCCTCGGTCCCAGC\tA1BG\t46\t1\t0\t7\t22\t142\t0\t1\t52\t0\t1\t52\t213\r\n",
      "A1BG_TGGACTTCCAGCTACGGCGC\tA1BG\t239\t216\t285\t117\t244\t116\t172\t298\t269\t119\t250\t269\t363\r\n",
      "A1BG_CACTGGCGCCATCGAGAGCC\tA1BG\t289\t83\t166\t164\t111\t14\t184\t160\t214\t122\t137\t214\t678\r\n",
      "A1BG_GCTCGGGCTTGTCCACAGGA\tA1BG\t205\t34\t217\t205\t148\t355\t326\t100\t432\t212\t85\t432\t559\r\n",
      "A1BG_CAAGAGAAAGACCACGAGCA\tA1BG\t389\t331\t468\t1074\t364\t158\t664\t286\t499\t464\t235\t499\t647\r\n",
      "A1CF_CGTGGCTATTTGGCATACAC\tA1CF\t452\t240\t390\t630\t509\t261\t471\t255\t301\t322\t210\t301\t898\r\n",
      "A1CF_GGTATACTCTCCTTGCAGCA\tA1CF\t71\t30\t29\t119\t155\t153\t131\t76\t56\t94\t61\t56\t199\r\n",
      "A1CF_GACATGGTATTGCAGTAGAC\tA1CF\t207\t227\t223\t118\t141\t173\t176\t198\t42\t118\t166\t42\t271\r\n"
     ]
    }
   ],
   "source": [
    "! head Hela_mageck_input.txt"
   ]
  }
 ],
 "metadata": {
  "colab": {
   "collapsed_sections": [],
   "provenance": []
  },
  "kernelspec": {
   "display_name": "Python (igvf_sccrispr)",
   "language": "python",
   "name": "igvf_sccrispr"
  },
  "language_info": {
   "codemirror_mode": {
    "name": "ipython",
    "version": 3
   },
   "file_extension": ".py",
   "mimetype": "text/x-python",
   "name": "python",
   "nbconvert_exporter": "python",
   "pygments_lexer": "ipython3",
   "version": "3.10.10"
  }
 },
 "nbformat": 4,
 "nbformat_minor": 1
}
