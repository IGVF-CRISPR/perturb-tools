{
  "cells": [
    {
      "cell_type": "markdown",
      "metadata": {
        "id": "5fG7ceNYLZv9"
      },
      "source": [
        "# CRISPR screen analysis with Perturb-tools"
      ]
    },
    {
      "cell_type": "markdown",
      "metadata": {
        "id": "2dSlbT_ZMU72"
      },
      "source": [
        "In this tutorial, we will cover\n",
        "*  Loading three .csv files each about guide, sample, and guide count information into single Screen object\n",
        "*  Slicing (indexing) Screen object to subset/select guides and samples\n",
        "*  Adding Screen object to combine technical replicates\n",
        "*  Concatenating Screen object to combine biological replicates\n",
        "*  Normalize and calculate log fold change of guides across two different conditions\n",
        "*  Writing Screen object to .h5ad or .xlsx file"
      ]
    },
    {
      "cell_type": "code",
      "execution_count": 6,
      "metadata": {
        "colab": {
          "base_uri": "https://localhost:8080/"
        },
        "id": "f1QwiBs_rrg0",
        "outputId": "0443a7e2-c949-469d-bc9f-5befa936ef49"
      },
      "outputs": [
        {
          "output_type": "stream",
          "name": "stdout",
          "text": [
            "Looking in indexes: https://pypi.org/simple, https://us-python.pkg.dev/colab-wheels/public/simple/\n",
            "Collecting perturb-tools==0.1.3\n",
            "  Downloading perturb-tools-0.1.3.tar.gz (147 kB)\n",
            "\u001b[K     |████████████████████████████████| 147 kB 4.0 MB/s \n",
            "\u001b[?25hRequirement already satisfied: matplotlib>=3.4 in /usr/local/lib/python3.7/dist-packages (from perturb-tools==0.1.3) (3.5.3)\n",
            "Requirement already satisfied: anndata>=0.7.1 in /usr/local/lib/python3.7/dist-packages (from perturb-tools==0.1.3) (0.8.0)\n",
            "Requirement already satisfied: numpy>=1.19.2 in /usr/local/lib/python3.7/dist-packages (from perturb-tools==0.1.3) (1.21.6)\n",
            "Requirement already satisfied: pandas>=1.1.2 in /usr/local/lib/python3.7/dist-packages (from perturb-tools==0.1.3) (1.3.5)\n",
            "Requirement already satisfied: biopython>=1.79 in /usr/local/lib/python3.7/dist-packages (from perturb-tools==0.1.3) (1.79)\n",
            "Requirement already satisfied: pool-sharq>=0.0.12 in /usr/local/lib/python3.7/dist-packages (from perturb-tools==0.1.3) (0.0.12)\n",
            "Requirement already satisfied: plotly in /usr/local/lib/python3.7/dist-packages (from perturb-tools==0.1.3) (5.5.0)\n",
            "Requirement already satisfied: regex in /usr/local/lib/python3.7/dist-packages (from perturb-tools==0.1.3) (2022.6.2)\n",
            "Requirement already satisfied: natsort in /usr/local/lib/python3.7/dist-packages (from anndata>=0.7.1->perturb-tools==0.1.3) (5.5.0)\n",
            "Requirement already satisfied: packaging>=20 in /usr/local/lib/python3.7/dist-packages (from anndata>=0.7.1->perturb-tools==0.1.3) (21.3)\n",
            "Requirement already satisfied: scipy>1.4 in /usr/local/lib/python3.7/dist-packages (from anndata>=0.7.1->perturb-tools==0.1.3) (1.7.3)\n",
            "Requirement already satisfied: typing_extensions in /usr/local/lib/python3.7/dist-packages (from anndata>=0.7.1->perturb-tools==0.1.3) (4.1.1)\n",
            "Requirement already satisfied: h5py>=3 in /usr/local/lib/python3.7/dist-packages (from anndata>=0.7.1->perturb-tools==0.1.3) (3.1.0)\n",
            "Requirement already satisfied: importlib_metadata>=0.7 in /usr/local/lib/python3.7/dist-packages (from anndata>=0.7.1->perturb-tools==0.1.3) (4.12.0)\n",
            "Requirement already satisfied: cached-property in /usr/local/lib/python3.7/dist-packages (from h5py>=3->anndata>=0.7.1->perturb-tools==0.1.3) (1.5.2)\n",
            "Requirement already satisfied: zipp>=0.5 in /usr/local/lib/python3.7/dist-packages (from importlib_metadata>=0.7->anndata>=0.7.1->perturb-tools==0.1.3) (3.8.1)\n",
            "Requirement already satisfied: cycler>=0.10 in /usr/local/lib/python3.7/dist-packages (from matplotlib>=3.4->perturb-tools==0.1.3) (0.11.0)\n",
            "Requirement already satisfied: pyparsing>=2.2.1 in /usr/local/lib/python3.7/dist-packages (from matplotlib>=3.4->perturb-tools==0.1.3) (3.0.9)\n",
            "Requirement already satisfied: pillow>=6.2.0 in /usr/local/lib/python3.7/dist-packages (from matplotlib>=3.4->perturb-tools==0.1.3) (7.1.2)\n",
            "Requirement already satisfied: python-dateutil>=2.7 in /usr/local/lib/python3.7/dist-packages (from matplotlib>=3.4->perturb-tools==0.1.3) (2.8.2)\n",
            "Requirement already satisfied: fonttools>=4.22.0 in /usr/local/lib/python3.7/dist-packages (from matplotlib>=3.4->perturb-tools==0.1.3) (4.37.3)\n",
            "Requirement already satisfied: kiwisolver>=1.0.1 in /usr/local/lib/python3.7/dist-packages (from matplotlib>=3.4->perturb-tools==0.1.3) (1.4.4)\n",
            "Requirement already satisfied: pytz>=2017.3 in /usr/local/lib/python3.7/dist-packages (from pandas>=1.1.2->perturb-tools==0.1.3) (2022.2.1)\n",
            "Requirement already satisfied: pyrequisites>=0.0.2 in /usr/local/lib/python3.7/dist-packages (from pool-sharq>=0.0.12->perturb-tools==0.1.3) (0.0.2)\n",
            "Requirement already satisfied: requests>=2.26.0 in /usr/local/lib/python3.7/dist-packages (from pool-sharq>=0.0.12->perturb-tools==0.1.3) (2.28.1)\n",
            "Requirement already satisfied: tqdm>=4.62.3 in /usr/local/lib/python3.7/dist-packages (from pool-sharq>=0.0.12->perturb-tools==0.1.3) (4.64.1)\n",
            "Requirement already satisfied: beautifulsoup4>=4.10.0 in /usr/local/lib/python3.7/dist-packages (from pool-sharq>=0.0.12->perturb-tools==0.1.3) (4.11.1)\n",
            "Requirement already satisfied: licorice>=0.0.2 in /usr/local/lib/python3.7/dist-packages (from pool-sharq>=0.0.12->perturb-tools==0.1.3) (0.0.3)\n",
            "Requirement already satisfied: soupsieve>1.2 in /usr/local/lib/python3.7/dist-packages (from beautifulsoup4>=4.10.0->pool-sharq>=0.0.12->perturb-tools==0.1.3) (2.3.2.post1)\n",
            "Requirement already satisfied: six>=1.5 in /usr/local/lib/python3.7/dist-packages (from python-dateutil>=2.7->matplotlib>=3.4->perturb-tools==0.1.3) (1.15.0)\n",
            "Requirement already satisfied: charset-normalizer<3,>=2 in /usr/local/lib/python3.7/dist-packages (from requests>=2.26.0->pool-sharq>=0.0.12->perturb-tools==0.1.3) (2.1.1)\n",
            "Requirement already satisfied: certifi>=2017.4.17 in /usr/local/lib/python3.7/dist-packages (from requests>=2.26.0->pool-sharq>=0.0.12->perturb-tools==0.1.3) (2022.6.15)\n",
            "Requirement already satisfied: urllib3<1.27,>=1.21.1 in /usr/local/lib/python3.7/dist-packages (from requests>=2.26.0->pool-sharq>=0.0.12->perturb-tools==0.1.3) (1.24.3)\n",
            "Requirement already satisfied: idna<4,>=2.5 in /usr/local/lib/python3.7/dist-packages (from requests>=2.26.0->pool-sharq>=0.0.12->perturb-tools==0.1.3) (2.10)\n",
            "Requirement already satisfied: tenacity>=6.2.0 in /usr/local/lib/python3.7/dist-packages (from plotly->perturb-tools==0.1.3) (8.0.1)\n",
            "Building wheels for collected packages: perturb-tools\n",
            "  Building wheel for perturb-tools (setup.py) ... \u001b[?25l\u001b[?25hdone\n",
            "  Created wheel for perturb-tools: filename=perturb_tools-0.1.3-py3-none-any.whl size=54599 sha256=4cbc4940b2a1f6e06b0486f4ae800ae1d902f63be38310d508c63be50aba0c18\n",
            "  Stored in directory: /root/.cache/pip/wheels/c3/3a/b1/4110b2bf4c6148000079130a9d31b905ed21ea9a8c0f3d868b\n",
            "Successfully built perturb-tools\n",
            "Installing collected packages: perturb-tools\n",
            "  Attempting uninstall: perturb-tools\n",
            "    Found existing installation: perturb-tools 0.1.2\n",
            "    Uninstalling perturb-tools-0.1.2:\n",
            "      Successfully uninstalled perturb-tools-0.1.2\n",
            "Successfully installed perturb-tools-0.1.3\n"
          ]
        }
      ],
      "source": [
        "! pip install perturb-tools==0.1.3"
      ]
    },
    {
      "cell_type": "code",
      "execution_count": 7,
      "metadata": {
        "id": "FMmOwwSXJQxm"
      },
      "outputs": [],
      "source": [
        "import pandas as pd\n",
        "import perturb_tools as pt"
      ]
    },
    {
      "cell_type": "markdown",
      "metadata": {
        "id": "-O0OyBI3uQ12"
      },
      "source": [
        "We will download public CRISPR/Cas9 Knock-out dataset: [TKO](http://tko.ccbr.utoronto.ca/) HeLa data."
      ]
    },
    {
      "cell_type": "code",
      "execution_count": 8,
      "metadata": {
        "colab": {
          "base_uri": "https://localhost:8080/"
        },
        "id": "qQCbMhXLZ7pT",
        "outputId": "caccba79-068a-4ae2-faff-ed6f74867e22"
      },
      "outputs": [
        {
          "output_type": "stream",
          "name": "stdout",
          "text": [
            "--2022-09-21 05:19:31--  http://tko.ccbr.utoronto.ca/Data/readcount-HeLa-lib1.gz\n",
            "Resolving tko.ccbr.utoronto.ca (tko.ccbr.utoronto.ca)... 142.150.76.126\n",
            "Connecting to tko.ccbr.utoronto.ca (tko.ccbr.utoronto.ca)|142.150.76.126|:80... connected.\n",
            "HTTP request sent, awaiting response... 200 OK\n",
            "Length: 2877516 (2.7M) [application/x-gzip]\n",
            "Saving to: ‘readcount-HeLa-lib1.gz’\n",
            "\n",
            "readcount-HeLa-lib1 100%[===================>]   2.74M  1.52MB/s    in 1.8s    \n",
            "\n",
            "2022-09-21 05:19:33 (1.52 MB/s) - ‘readcount-HeLa-lib1.gz’ saved [2877516/2877516]\n",
            "\n",
            "--2022-09-21 05:19:33--  http://tko.ccbr.utoronto.ca/Data/readcount-HeLa-lib2.gz\n",
            "Resolving tko.ccbr.utoronto.ca (tko.ccbr.utoronto.ca)... 142.150.76.126\n",
            "Connecting to tko.ccbr.utoronto.ca (tko.ccbr.utoronto.ca)|142.150.76.126|:80... connected.\n",
            "HTTP request sent, awaiting response... 200 OK\n",
            "Length: 2680113 (2.6M) [application/x-gzip]\n",
            "Saving to: ‘readcount-HeLa-lib2.gz’\n",
            "\n",
            "readcount-HeLa-lib2 100%[===================>]   2.56M   879KB/s    in 3.0s    \n",
            "\n",
            "2022-09-21 05:19:36 (879 KB/s) - ‘readcount-HeLa-lib2.gz’ saved [2680113/2680113]\n",
            "\n"
          ]
        }
      ],
      "source": [
        "! wget http://tko.ccbr.utoronto.ca/Data/readcount-HeLa-lib1.gz\n",
        "! wget http://tko.ccbr.utoronto.ca/Data/readcount-HeLa-lib2.gz\n",
        "! gunzip readcount-HeLa-lib1.gz\n",
        "! gunzip readcount-HeLa-lib2.gz"
      ]
    },
    {
      "cell_type": "code",
      "execution_count": 9,
      "metadata": {
        "id": "K3Ni8NqBOTbw"
      },
      "outputs": [],
      "source": [
        "!cut -f 1,2 readcount-HeLa-lib1 > guide_info-HeLa-lib1.tsv\n",
        "!cut -f 1,3- readcount-HeLa-lib1 > guide_count-HeLa-lib1.tsv\n",
        "!cut -f 1,2 readcount-HeLa-lib2 > guide_info-HeLa-lib2.tsv\n",
        "!cut -f 1,3- readcount-HeLa-lib2 > guide_count-HeLa-lib2.tsv"
      ]
    },
    {
      "cell_type": "markdown",
      "metadata": {
        "id": "XutmLKQ6N5eR"
      },
      "source": [
        "# Loading text file to Screen object"
      ]
    },
    {
      "cell_type": "markdown",
      "source": [
        "Basic structure of Screen object contains 3 types of information:\n",
        "*  `Screen.X`: guide count matrix (numpy array with shape (n_guides, n_samples)\n",
        "*  `Screen.guides`: guide RNA information ex) sequence, target element (pandas DataFrame with length n_guides)\n",
        "*  `Screen.condit`: sample information that gave rise to the guide counts (pandas DataFrame with length n_samples)\n",
        "\n",
        "You can construct Screen object using any number of these three elements."
      ],
      "metadata": {
        "id": "iNjuoVS_Rz9i"
      }
    },
    {
      "cell_type": "code",
      "source": [
        "screen = pt.read_csv(X_path=\"guide_count-HeLa-lib1.tsv\", guide_path=\"guide_info-HeLa-lib1.tsv\", condit_path=None, sep=\"\\t\")"
      ],
      "metadata": {
        "colab": {
          "base_uri": "https://localhost:8080/"
        },
        "id": "tRgJXSCkSm6j",
        "outputId": "8f59d583-43ee-427a-a2af-a9c6c065a0de"
      },
      "execution_count": 11,
      "outputs": [
        {
          "output_type": "stream",
          "name": "stderr",
          "text": [
            "/usr/local/lib/python3.7/dist-packages/perturb_tools/_framework/_ScreenModule.py:30: FutureWarning: X.dtype being converted to np.float32 from int64. In the next version of anndata (0.9) conversion will not be automatic. Pass dtype explicitly to avoid this warning. Pass `AnnData(X, dtype=X.dtype, ...)` to get the future behavour.\n",
            "  super().__init__(X, obs = guides, var = condit, *args, **kwargs)\n",
            "/usr/local/lib/python3.7/dist-packages/anndata/_core/anndata.py:121: ImplicitModificationWarning: Transforming to str index.\n",
            "  warnings.warn(\"Transforming to str index.\", ImplicitModificationWarning)\n"
          ]
        }
      ]
    },
    {
      "cell_type": "code",
      "source": [
        "screen.X"
      ],
      "metadata": {
        "colab": {
          "base_uri": "https://localhost:8080/"
        },
        "id": "eCzxXvuVUXRO",
        "outputId": "4bcf557f-8fd5-46e9-897c-7c50c9d4ab34"
      },
      "execution_count": 12,
      "outputs": [
        {
          "output_type": "execute_result",
          "data": {
            "text/plain": [
              "array([[310., 226., 338., ...,  49., 296., 469.],\n",
              "       [ 46.,   1.,   0., ...,   1.,  52., 213.],\n",
              "       [239., 216., 285., ..., 250., 269., 363.],\n",
              "       ...,\n",
              "       [508., 479., 248., ..., 331., 386., 566.],\n",
              "       [ 97.,  50.,  10., ...,  28.,  23.,   3.],\n",
              "       [ 91., 115., 130., ...,  76., 120., 390.]], dtype=float32)"
            ]
          },
          "metadata": {},
          "execution_count": 12
        }
      ]
    },
    {
      "cell_type": "markdown",
      "source": [
        "Alternatively, you can manually read the file and initialize Screen object."
      ],
      "metadata": {
        "id": "2QH6R_gQfia1"
      }
    },
    {
      "cell_type": "code",
      "execution_count": null,
      "metadata": {
        "id": "PBk5uxU0bO77"
      },
      "outputs": [],
      "source": [
        "tbl = pd.read_csv(\"readcount-HeLa-lib1\", sep = \"\\t\")\n",
        "tbl2 = pd.read_csv(\"readcount-HeLa-lib2\", sep = \"\\t\")"
      ]
    },
    {
      "cell_type": "code",
      "execution_count": null,
      "metadata": {
        "id": "zSa-tE0bblMl"
      },
      "outputs": [],
      "source": [
        "def make_screen(tbl, guide_name_col):\n",
        "  tbl = tbl.rename(columns={guide_name_col:\"name\"})\n",
        "  sample_df = pd.DataFrame(tbl.columns[2:]).rename(columns={0:\"index\"}).set_index(\"index\")\n",
        "  sample_df[\"replicate\"] = sample_df.index.str[-1]\n",
        "  sample_df[\"time\"] = sample_df.index.str[1:-1].map(lambda s: int(s) if s else -1)\n",
        "  return pt.Screen(X=tbl.values[:,2:], guides=tbl.iloc[:,:2], \n",
        "                   condit=sample_df)"
      ]
    },
    {
      "cell_type": "code",
      "execution_count": null,
      "metadata": {
        "colab": {
          "base_uri": "https://localhost:8080/"
        },
        "id": "pjOXiYsfbWmd",
        "outputId": "a959d501-e29e-4d87-a346-50008ddab73d"
      },
      "outputs": [
        {
          "name": "stderr",
          "output_type": "stream",
          "text": [
            "/content/perturb-tools/perturb_tools/_framework/_ScreenModule.py:30: FutureWarning: X.dtype being converted to np.float32 from object. In the next version of anndata (0.9) conversion will not be automatic. Pass dtype explicitly to avoid this warning. Pass `AnnData(X, dtype=X.dtype, ...)` to get the future behavour.\n",
            "  super().__init__(X, obs = guides, var = condit, *args, **kwargs)\n",
            "/usr/local/lib/python3.7/dist-packages/anndata/_core/anndata.py:121: ImplicitModificationWarning: Transforming to str index.\n",
            "  warnings.warn(\"Transforming to str index.\", ImplicitModificationWarning)\n"
          ]
        }
      ],
      "source": [
        "adata = make_screen(tbl)\n",
        "bdata = make_screen(tbl2)"
      ]
    },
    {
      "cell_type": "code",
      "execution_count": null,
      "metadata": {
        "colab": {
          "base_uri": "https://localhost:8080/",
          "height": 423
        },
        "id": "zyK1KKh_k83l",
        "outputId": "22fbb8df-2c76-4946-9c06-2f78148c9c78"
      },
      "outputs": [
        {
          "data": {
            "text/html": [
              "\n",
              "  <div id=\"df-ca1f0d97-7b36-407e-ad0c-c3da16b8ac8c\">\n",
              "    <div class=\"colab-df-container\">\n",
              "      <div>\n",
              "<style scoped>\n",
              "    .dataframe tbody tr th:only-of-type {\n",
              "        vertical-align: middle;\n",
              "    }\n",
              "\n",
              "    .dataframe tbody tr th {\n",
              "        vertical-align: top;\n",
              "    }\n",
              "\n",
              "    .dataframe thead th {\n",
              "        text-align: right;\n",
              "    }\n",
              "</style>\n",
              "<table border=\"1\" class=\"dataframe\">\n",
              "  <thead>\n",
              "    <tr style=\"text-align: right;\">\n",
              "      <th></th>\n",
              "      <th>name</th>\n",
              "      <th>GENE</th>\n",
              "    </tr>\n",
              "  </thead>\n",
              "  <tbody>\n",
              "    <tr>\n",
              "      <th>0</th>\n",
              "      <td>A1BG_CACCTTCGAGCTGCTGCGCG</td>\n",
              "      <td>A1BG</td>\n",
              "    </tr>\n",
              "    <tr>\n",
              "      <th>1</th>\n",
              "      <td>A1BG_AAGAGCGCCTCGGTCCCAGC</td>\n",
              "      <td>A1BG</td>\n",
              "    </tr>\n",
              "    <tr>\n",
              "      <th>2</th>\n",
              "      <td>A1BG_TGGACTTCCAGCTACGGCGC</td>\n",
              "      <td>A1BG</td>\n",
              "    </tr>\n",
              "    <tr>\n",
              "      <th>3</th>\n",
              "      <td>A1BG_CACTGGCGCCATCGAGAGCC</td>\n",
              "      <td>A1BG</td>\n",
              "    </tr>\n",
              "    <tr>\n",
              "      <th>4</th>\n",
              "      <td>A1BG_GCTCGGGCTTGTCCACAGGA</td>\n",
              "      <td>A1BG</td>\n",
              "    </tr>\n",
              "    <tr>\n",
              "      <th>...</th>\n",
              "      <td>...</td>\n",
              "      <td>...</td>\n",
              "    </tr>\n",
              "    <tr>\n",
              "      <th>91315</th>\n",
              "      <td>luciferase_CCTCTAGAGGATGGAACCGC</td>\n",
              "      <td>luciferase</td>\n",
              "    </tr>\n",
              "    <tr>\n",
              "      <th>91316</th>\n",
              "      <td>luciferase_ACAACTTTACCGACCGCGCC</td>\n",
              "      <td>luciferase</td>\n",
              "    </tr>\n",
              "    <tr>\n",
              "      <th>91317</th>\n",
              "      <td>luciferase_CTTGTCGTATCCCTGGAAGA</td>\n",
              "      <td>luciferase</td>\n",
              "    </tr>\n",
              "    <tr>\n",
              "      <th>91318</th>\n",
              "      <td>luciferase_GGCTATGAAGAGATACGCCC</td>\n",
              "      <td>luciferase</td>\n",
              "    </tr>\n",
              "    <tr>\n",
              "      <th>91319</th>\n",
              "      <td>luciferase_GGCATGCGAGAATCTGACGC</td>\n",
              "      <td>luciferase</td>\n",
              "    </tr>\n",
              "  </tbody>\n",
              "</table>\n",
              "<p>91320 rows × 2 columns</p>\n",
              "</div>\n",
              "      <button class=\"colab-df-convert\" onclick=\"convertToInteractive('df-ca1f0d97-7b36-407e-ad0c-c3da16b8ac8c')\"\n",
              "              title=\"Convert this dataframe to an interactive table.\"\n",
              "              style=\"display:none;\">\n",
              "        \n",
              "  <svg xmlns=\"http://www.w3.org/2000/svg\" height=\"24px\"viewBox=\"0 0 24 24\"\n",
              "       width=\"24px\">\n",
              "    <path d=\"M0 0h24v24H0V0z\" fill=\"none\"/>\n",
              "    <path d=\"M18.56 5.44l.94 2.06.94-2.06 2.06-.94-2.06-.94-.94-2.06-.94 2.06-2.06.94zm-11 1L8.5 8.5l.94-2.06 2.06-.94-2.06-.94L8.5 2.5l-.94 2.06-2.06.94zm10 10l.94 2.06.94-2.06 2.06-.94-2.06-.94-.94-2.06-.94 2.06-2.06.94z\"/><path d=\"M17.41 7.96l-1.37-1.37c-.4-.4-.92-.59-1.43-.59-.52 0-1.04.2-1.43.59L10.3 9.45l-7.72 7.72c-.78.78-.78 2.05 0 2.83L4 21.41c.39.39.9.59 1.41.59.51 0 1.02-.2 1.41-.59l7.78-7.78 2.81-2.81c.8-.78.8-2.07 0-2.86zM5.41 20L4 18.59l7.72-7.72 1.47 1.35L5.41 20z\"/>\n",
              "  </svg>\n",
              "      </button>\n",
              "      \n",
              "  <style>\n",
              "    .colab-df-container {\n",
              "      display:flex;\n",
              "      flex-wrap:wrap;\n",
              "      gap: 12px;\n",
              "    }\n",
              "\n",
              "    .colab-df-convert {\n",
              "      background-color: #E8F0FE;\n",
              "      border: none;\n",
              "      border-radius: 50%;\n",
              "      cursor: pointer;\n",
              "      display: none;\n",
              "      fill: #1967D2;\n",
              "      height: 32px;\n",
              "      padding: 0 0 0 0;\n",
              "      width: 32px;\n",
              "    }\n",
              "\n",
              "    .colab-df-convert:hover {\n",
              "      background-color: #E2EBFA;\n",
              "      box-shadow: 0px 1px 2px rgba(60, 64, 67, 0.3), 0px 1px 3px 1px rgba(60, 64, 67, 0.15);\n",
              "      fill: #174EA6;\n",
              "    }\n",
              "\n",
              "    [theme=dark] .colab-df-convert {\n",
              "      background-color: #3B4455;\n",
              "      fill: #D2E3FC;\n",
              "    }\n",
              "\n",
              "    [theme=dark] .colab-df-convert:hover {\n",
              "      background-color: #434B5C;\n",
              "      box-shadow: 0px 1px 3px 1px rgba(0, 0, 0, 0.15);\n",
              "      filter: drop-shadow(0px 1px 2px rgba(0, 0, 0, 0.3));\n",
              "      fill: #FFFFFF;\n",
              "    }\n",
              "  </style>\n",
              "\n",
              "      <script>\n",
              "        const buttonEl =\n",
              "          document.querySelector('#df-ca1f0d97-7b36-407e-ad0c-c3da16b8ac8c button.colab-df-convert');\n",
              "        buttonEl.style.display =\n",
              "          google.colab.kernel.accessAllowed ? 'block' : 'none';\n",
              "\n",
              "        async function convertToInteractive(key) {\n",
              "          const element = document.querySelector('#df-ca1f0d97-7b36-407e-ad0c-c3da16b8ac8c');\n",
              "          const dataTable =\n",
              "            await google.colab.kernel.invokeFunction('convertToInteractive',\n",
              "                                                     [key], {});\n",
              "          if (!dataTable) return;\n",
              "\n",
              "          const docLinkHtml = 'Like what you see? Visit the ' +\n",
              "            '<a target=\"_blank\" href=https://colab.research.google.com/notebooks/data_table.ipynb>data table notebook</a>'\n",
              "            + ' to learn more about interactive tables.';\n",
              "          element.innerHTML = '';\n",
              "          dataTable['output_type'] = 'display_data';\n",
              "          await google.colab.output.renderOutput(dataTable, element);\n",
              "          const docLink = document.createElement('div');\n",
              "          docLink.innerHTML = docLinkHtml;\n",
              "          element.appendChild(docLink);\n",
              "        }\n",
              "      </script>\n",
              "    </div>\n",
              "  </div>\n",
              "  "
            ],
            "text/plain": [
              "                                  name        GENE\n",
              "0            A1BG_CACCTTCGAGCTGCTGCGCG        A1BG\n",
              "1            A1BG_AAGAGCGCCTCGGTCCCAGC        A1BG\n",
              "2            A1BG_TGGACTTCCAGCTACGGCGC        A1BG\n",
              "3            A1BG_CACTGGCGCCATCGAGAGCC        A1BG\n",
              "4            A1BG_GCTCGGGCTTGTCCACAGGA        A1BG\n",
              "...                                ...         ...\n",
              "91315  luciferase_CCTCTAGAGGATGGAACCGC  luciferase\n",
              "91316  luciferase_ACAACTTTACCGACCGCGCC  luciferase\n",
              "91317  luciferase_CTTGTCGTATCCCTGGAAGA  luciferase\n",
              "91318  luciferase_GGCTATGAAGAGATACGCCC  luciferase\n",
              "91319  luciferase_GGCATGCGAGAATCTGACGC  luciferase\n",
              "\n",
              "[91320 rows x 2 columns]"
            ]
          },
          "execution_count": 15,
          "metadata": {},
          "output_type": "execute_result"
        }
      ],
      "source": [
        "adata.guides"
      ]
    },
    {
      "cell_type": "code",
      "execution_count": null,
      "metadata": {
        "colab": {
          "base_uri": "https://localhost:8080/",
          "height": 488
        },
        "id": "2KgQdLE8lZdv",
        "outputId": "efdcc451-7e87-4658-be42-c5bd46c25d02"
      },
      "outputs": [
        {
          "data": {
            "text/html": [
              "\n",
              "  <div id=\"df-59297db1-8e05-4172-8a8a-9552921dcd3a\">\n",
              "    <div class=\"colab-df-container\">\n",
              "      <div>\n",
              "<style scoped>\n",
              "    .dataframe tbody tr th:only-of-type {\n",
              "        vertical-align: middle;\n",
              "    }\n",
              "\n",
              "    .dataframe tbody tr th {\n",
              "        vertical-align: top;\n",
              "    }\n",
              "\n",
              "    .dataframe thead th {\n",
              "        text-align: right;\n",
              "    }\n",
              "</style>\n",
              "<table border=\"1\" class=\"dataframe\">\n",
              "  <thead>\n",
              "    <tr style=\"text-align: right;\">\n",
              "      <th></th>\n",
              "      <th>replicate</th>\n",
              "      <th>time</th>\n",
              "    </tr>\n",
              "    <tr>\n",
              "      <th>index</th>\n",
              "      <th></th>\n",
              "      <th></th>\n",
              "    </tr>\n",
              "  </thead>\n",
              "  <tbody>\n",
              "    <tr>\n",
              "      <th>T08A</th>\n",
              "      <td>A</td>\n",
              "      <td>8</td>\n",
              "    </tr>\n",
              "    <tr>\n",
              "      <th>T08B</th>\n",
              "      <td>B</td>\n",
              "      <td>8</td>\n",
              "    </tr>\n",
              "    <tr>\n",
              "      <th>T08C</th>\n",
              "      <td>C</td>\n",
              "      <td>8</td>\n",
              "    </tr>\n",
              "    <tr>\n",
              "      <th>T12A</th>\n",
              "      <td>A</td>\n",
              "      <td>12</td>\n",
              "    </tr>\n",
              "    <tr>\n",
              "      <th>T12B</th>\n",
              "      <td>B</td>\n",
              "      <td>12</td>\n",
              "    </tr>\n",
              "    <tr>\n",
              "      <th>T12C</th>\n",
              "      <td>C</td>\n",
              "      <td>12</td>\n",
              "    </tr>\n",
              "    <tr>\n",
              "      <th>T15A</th>\n",
              "      <td>A</td>\n",
              "      <td>15</td>\n",
              "    </tr>\n",
              "    <tr>\n",
              "      <th>T15B</th>\n",
              "      <td>B</td>\n",
              "      <td>15</td>\n",
              "    </tr>\n",
              "    <tr>\n",
              "      <th>T15C</th>\n",
              "      <td>C</td>\n",
              "      <td>15</td>\n",
              "    </tr>\n",
              "    <tr>\n",
              "      <th>T18A</th>\n",
              "      <td>A</td>\n",
              "      <td>18</td>\n",
              "    </tr>\n",
              "    <tr>\n",
              "      <th>T18B</th>\n",
              "      <td>B</td>\n",
              "      <td>18</td>\n",
              "    </tr>\n",
              "    <tr>\n",
              "      <th>T18C</th>\n",
              "      <td>C</td>\n",
              "      <td>18</td>\n",
              "    </tr>\n",
              "    <tr>\n",
              "      <th>T0</th>\n",
              "      <td>0</td>\n",
              "      <td>-1</td>\n",
              "    </tr>\n",
              "  </tbody>\n",
              "</table>\n",
              "</div>\n",
              "      <button class=\"colab-df-convert\" onclick=\"convertToInteractive('df-59297db1-8e05-4172-8a8a-9552921dcd3a')\"\n",
              "              title=\"Convert this dataframe to an interactive table.\"\n",
              "              style=\"display:none;\">\n",
              "        \n",
              "  <svg xmlns=\"http://www.w3.org/2000/svg\" height=\"24px\"viewBox=\"0 0 24 24\"\n",
              "       width=\"24px\">\n",
              "    <path d=\"M0 0h24v24H0V0z\" fill=\"none\"/>\n",
              "    <path d=\"M18.56 5.44l.94 2.06.94-2.06 2.06-.94-2.06-.94-.94-2.06-.94 2.06-2.06.94zm-11 1L8.5 8.5l.94-2.06 2.06-.94-2.06-.94L8.5 2.5l-.94 2.06-2.06.94zm10 10l.94 2.06.94-2.06 2.06-.94-2.06-.94-.94-2.06-.94 2.06-2.06.94z\"/><path d=\"M17.41 7.96l-1.37-1.37c-.4-.4-.92-.59-1.43-.59-.52 0-1.04.2-1.43.59L10.3 9.45l-7.72 7.72c-.78.78-.78 2.05 0 2.83L4 21.41c.39.39.9.59 1.41.59.51 0 1.02-.2 1.41-.59l7.78-7.78 2.81-2.81c.8-.78.8-2.07 0-2.86zM5.41 20L4 18.59l7.72-7.72 1.47 1.35L5.41 20z\"/>\n",
              "  </svg>\n",
              "      </button>\n",
              "      \n",
              "  <style>\n",
              "    .colab-df-container {\n",
              "      display:flex;\n",
              "      flex-wrap:wrap;\n",
              "      gap: 12px;\n",
              "    }\n",
              "\n",
              "    .colab-df-convert {\n",
              "      background-color: #E8F0FE;\n",
              "      border: none;\n",
              "      border-radius: 50%;\n",
              "      cursor: pointer;\n",
              "      display: none;\n",
              "      fill: #1967D2;\n",
              "      height: 32px;\n",
              "      padding: 0 0 0 0;\n",
              "      width: 32px;\n",
              "    }\n",
              "\n",
              "    .colab-df-convert:hover {\n",
              "      background-color: #E2EBFA;\n",
              "      box-shadow: 0px 1px 2px rgba(60, 64, 67, 0.3), 0px 1px 3px 1px rgba(60, 64, 67, 0.15);\n",
              "      fill: #174EA6;\n",
              "    }\n",
              "\n",
              "    [theme=dark] .colab-df-convert {\n",
              "      background-color: #3B4455;\n",
              "      fill: #D2E3FC;\n",
              "    }\n",
              "\n",
              "    [theme=dark] .colab-df-convert:hover {\n",
              "      background-color: #434B5C;\n",
              "      box-shadow: 0px 1px 3px 1px rgba(0, 0, 0, 0.15);\n",
              "      filter: drop-shadow(0px 1px 2px rgba(0, 0, 0, 0.3));\n",
              "      fill: #FFFFFF;\n",
              "    }\n",
              "  </style>\n",
              "\n",
              "      <script>\n",
              "        const buttonEl =\n",
              "          document.querySelector('#df-59297db1-8e05-4172-8a8a-9552921dcd3a button.colab-df-convert');\n",
              "        buttonEl.style.display =\n",
              "          google.colab.kernel.accessAllowed ? 'block' : 'none';\n",
              "\n",
              "        async function convertToInteractive(key) {\n",
              "          const element = document.querySelector('#df-59297db1-8e05-4172-8a8a-9552921dcd3a');\n",
              "          const dataTable =\n",
              "            await google.colab.kernel.invokeFunction('convertToInteractive',\n",
              "                                                     [key], {});\n",
              "          if (!dataTable) return;\n",
              "\n",
              "          const docLinkHtml = 'Like what you see? Visit the ' +\n",
              "            '<a target=\"_blank\" href=https://colab.research.google.com/notebooks/data_table.ipynb>data table notebook</a>'\n",
              "            + ' to learn more about interactive tables.';\n",
              "          element.innerHTML = '';\n",
              "          dataTable['output_type'] = 'display_data';\n",
              "          await google.colab.output.renderOutput(dataTable, element);\n",
              "          const docLink = document.createElement('div');\n",
              "          docLink.innerHTML = docLinkHtml;\n",
              "          element.appendChild(docLink);\n",
              "        }\n",
              "      </script>\n",
              "    </div>\n",
              "  </div>\n",
              "  "
            ],
            "text/plain": [
              "      replicate  time\n",
              "index                \n",
              "T08A          A     8\n",
              "T08B          B     8\n",
              "T08C          C     8\n",
              "T12A          A    12\n",
              "T12B          B    12\n",
              "T12C          C    12\n",
              "T15A          A    15\n",
              "T15B          B    15\n",
              "T15C          C    15\n",
              "T18A          A    18\n",
              "T18B          B    18\n",
              "T18C          C    18\n",
              "T0            0    -1"
            ]
          },
          "execution_count": 16,
          "metadata": {},
          "output_type": "execute_result"
        }
      ],
      "source": [
        "adata.condit"
      ]
    },
    {
      "cell_type": "markdown",
      "metadata": {
        "id": "fNuGg75plK1Z"
      },
      "source": [
        "### Slicing"
      ]
    },
    {
      "cell_type": "code",
      "execution_count": null,
      "metadata": {
        "colab": {
          "base_uri": "https://localhost:8080/"
        },
        "id": "L8CYibLed6Z6",
        "outputId": "b163bb2c-21cc-43ee-919c-faae35497118"
      },
      "outputs": [
        {
          "data": {
            "text/plain": [
              "Genome Editing Screen comprised of n_guides x n_conditions = 6 x 13\n",
              "   guides:    'name', 'GENE'\n",
              "   condit:    'replicate', 'time'\n",
              "   condit_m:  \n",
              "   condit_p:  \n",
              "   layers:    \n",
              "   uns:       "
            ]
          },
          "execution_count": 17,
          "metadata": {},
          "output_type": "execute_result"
        }
      ],
      "source": [
        "adata_cut = adata[adata.guides.GENE == \"A1BG\", :]\n",
        "adata_cut"
      ]
    },
    {
      "cell_type": "code",
      "execution_count": null,
      "metadata": {
        "colab": {
          "base_uri": "https://localhost:8080/"
        },
        "id": "AyQ-e_nlc1x0",
        "outputId": "c162a6cb-3464-45a0-c0c2-e53ef2b11217"
      },
      "outputs": [
        {
          "data": {
            "text/plain": [
              "Genome Editing Screen comprised of n_guides x n_conditions = 91320 x 3\n",
              "   guides:    'name', 'GENE'\n",
              "   condit:    'replicate', 'time'\n",
              "   condit_m:  \n",
              "   condit_p:  \n",
              "   layers:    \n",
              "   uns:       "
            ]
          },
          "execution_count": 18,
          "metadata": {},
          "output_type": "execute_result"
        }
      ],
      "source": [
        "adata_t8 = adata[:, adata.condit.time == 8]\n",
        "adata_t8"
      ]
    },
    {
      "cell_type": "markdown",
      "metadata": {
        "id": "qv1dFsOVllJB"
      },
      "source": [
        "### Writing"
      ]
    },
    {
      "cell_type": "code",
      "execution_count": null,
      "metadata": {
        "id": "lCw4Wh3ilig2"
      },
      "outputs": [],
      "source": [
        "adata.write(\"HeLa_lib1.h5ad\")"
      ]
    },
    {
      "cell_type": "code",
      "execution_count": null,
      "metadata": {
        "id": "T5Yp0AlZNtV3"
      },
      "outputs": [],
      "source": [
        "# import anndata as ad\n",
        "# adata_ann = ad.read_h5ad(\"HeLa_lib1.h5ad\")\n",
        "# adata_pt = pt.Screen.from_adata(adata_ann)"
      ]
    },
    {
      "cell_type": "markdown",
      "metadata": {
        "id": "le-C2smp3W3C"
      },
      "source": [
        "Compatible with .h5ad file output of AnnData."
      ]
    },
    {
      "cell_type": "markdown",
      "metadata": {
        "id": "NPtzel9_3fSd"
      },
      "source": [
        "## Arithmetic"
      ]
    },
    {
      "cell_type": "markdown",
      "metadata": {
        "id": "xuYFQko_3iWk"
      },
      "source": [
        "### Adding\n",
        "If the guide and conditions are exactly the same, objects can be added (ex. technical replicates)."
      ]
    },
    {
      "cell_type": "code",
      "execution_count": null,
      "metadata": {
        "colab": {
          "base_uri": "https://localhost:8080/"
        },
        "id": "mMzkKcz43a0N",
        "outputId": "08903c0a-b418-488a-d45d-d750f98d6031"
      },
      "outputs": [
        {
          "data": {
            "text/plain": [
              "Genome Editing Screen comprised of n_guides x n_conditions = 91320 x 13\n",
              "   guides:    'name', 'GENE'\n",
              "   condit:    'replicate', 'time'\n",
              "   condit_m:  \n",
              "   condit_p:  \n",
              "   layers:    \n",
              "   uns:       "
            ]
          },
          "execution_count": 22,
          "metadata": {},
          "output_type": "execute_result"
        }
      ],
      "source": [
        "adata + adata"
      ]
    },
    {
      "cell_type": "markdown",
      "metadata": {
        "id": "MOyVP4G53sGM"
      },
      "source": [
        "### Concatenating\n",
        "Biological replicates can be concatenated along 'condit' axis."
      ]
    },
    {
      "cell_type": "code",
      "execution_count": null,
      "metadata": {
        "colab": {
          "base_uri": "https://localhost:8080/"
        },
        "id": "OEZgHmPs3qk_",
        "outputId": "3f8e74f8-d1e8-4456-99d6-48d512e5dfd5"
      },
      "outputs": [
        {
          "name": "stderr",
          "output_type": "stream",
          "text": [
            "/usr/local/lib/python3.7/dist-packages/anndata/_core/anndata.py:1828: UserWarning: Observation names are not unique. To make them unique, call `.obs_names_make_unique`.\n",
            "  utils.warn_names_duplicates(\"obs\")\n"
          ]
        },
        {
          "data": {
            "text/plain": [
              "Genome Editing Screen comprised of n_guides x n_conditions = 182640 x 13\n",
              "   guides:    'name', 'GENE'\n",
              "   condit:    \n",
              "   condit_m:  \n",
              "   condit_p:  \n",
              "   layers:    \n",
              "   uns:       "
            ]
          },
          "execution_count": 23,
          "metadata": {},
          "output_type": "execute_result"
        }
      ],
      "source": [
        "pt.concat((adata, adata))"
      ]
    },
    {
      "cell_type": "markdown",
      "metadata": {
        "id": "m1ksPqAL31cj"
      },
      "source": [
        "## Normalization & LFC calculation"
      ]
    },
    {
      "cell_type": "code",
      "execution_count": null,
      "metadata": {
        "colab": {
          "base_uri": "https://localhost:8080/"
        },
        "id": "1b1gBlKR34uy",
        "outputId": "ad3d6004-22da-4ccb-e520-ee0b1d6d6568"
      },
      "outputs": [
        {
          "data": {
            "text/plain": [
              "Genome Editing Screen comprised of n_guides x n_conditions = 91320 x 13\n",
              "   guides:    'name', 'GENE'\n",
              "   condit:    'replicate', 'time'\n",
              "   condit_m:  \n",
              "   condit_p:  \n",
              "   layers:    'lognorm_counts'\n",
              "   uns:       "
            ]
          },
          "execution_count": 24,
          "metadata": {},
          "output_type": "execute_result"
        }
      ],
      "source": [
        "adata.log_norm()\n",
        "adata"
      ]
    },
    {
      "cell_type": "code",
      "execution_count": null,
      "metadata": {
        "colab": {
          "base_uri": "https://localhost:8080/"
        },
        "id": "pYzxbYwHQ7ct",
        "outputId": "e8937a69-22b5-4710-cdb7-8315b85efea5"
      },
      "outputs": [
        {
          "data": {
            "text/plain": [
              "array([[3.8361688 , 3.723453  , 4.3636794 , ..., 2.0999844 , 4.0123653 ,\n",
              "        3.575257  ],\n",
              "       [1.5709194 , 0.0759054 , 0.        , ..., 0.09367192, 1.8715795 ,\n",
              "        2.5751176 ],\n",
              "       [3.4906108 , 3.6632092 , 4.1305914 , ..., 4.1514244 , 3.8833196 ,\n",
              "        3.2405565 ],\n",
              "       ...,\n",
              "       [4.508811  , 4.7482824 , 3.942206  , ..., 4.536323  , 4.374373  ,\n",
              "        3.8255777 ],\n",
              "       [2.3662837 , 1.8879594 , 0.65947205, ..., 1.5252234 , 1.1218393 ,\n",
              "        0.0974056 ],\n",
              "       [2.292497  , 2.8505118 , 3.0931478 , ..., 2.6084018 , 2.835301  ,\n",
              "        3.3334548 ]], dtype=float32)"
            ]
          },
          "execution_count": 25,
          "metadata": {},
          "output_type": "execute_result"
        }
      ],
      "source": [
        "adata.layers['lognorm_counts']"
      ]
    },
    {
      "cell_type": "markdown",
      "metadata": {
        "id": "04x17ASQ4HgC"
      },
      "source": [
        "Calculating the LFC between T=18 vs T=8"
      ]
    },
    {
      "cell_type": "code",
      "execution_count": null,
      "metadata": {
        "id": "Ob9VVqJc4jOI"
      },
      "outputs": [],
      "source": [
        "adata.log_fold_change(\"T18A\", \"T08A\")"
      ]
    },
    {
      "cell_type": "code",
      "execution_count": null,
      "metadata": {
        "colab": {
          "base_uri": "https://localhost:8080/",
          "height": 423
        },
        "id": "1xNJpizMRA-t",
        "outputId": "42dbce42-876e-4caa-e9cb-5be82dcd7067"
      },
      "outputs": [
        {
          "data": {
            "text/html": [
              "\n",
              "  <div id=\"df-8c7a5cdb-079a-4f17-9aab-51753c4678cc\">\n",
              "    <div class=\"colab-df-container\">\n",
              "      <div>\n",
              "<style scoped>\n",
              "    .dataframe tbody tr th:only-of-type {\n",
              "        vertical-align: middle;\n",
              "    }\n",
              "\n",
              "    .dataframe tbody tr th {\n",
              "        vertical-align: top;\n",
              "    }\n",
              "\n",
              "    .dataframe thead th {\n",
              "        text-align: right;\n",
              "    }\n",
              "</style>\n",
              "<table border=\"1\" class=\"dataframe\">\n",
              "  <thead>\n",
              "    <tr style=\"text-align: right;\">\n",
              "      <th></th>\n",
              "      <th>name</th>\n",
              "      <th>GENE</th>\n",
              "      <th>T18A_T08A.lfc</th>\n",
              "    </tr>\n",
              "  </thead>\n",
              "  <tbody>\n",
              "    <tr>\n",
              "      <th>0</th>\n",
              "      <td>A1BG_CACCTTCGAGCTGCTGCGCG</td>\n",
              "      <td>A1BG</td>\n",
              "      <td>-0.341631</td>\n",
              "    </tr>\n",
              "    <tr>\n",
              "      <th>1</th>\n",
              "      <td>A1BG_AAGAGCGCCTCGGTCCCAGC</td>\n",
              "      <td>A1BG</td>\n",
              "      <td>-1.570919</td>\n",
              "    </tr>\n",
              "    <tr>\n",
              "      <th>2</th>\n",
              "      <td>A1BG_TGGACTTCCAGCTACGGCGC</td>\n",
              "      <td>A1BG</td>\n",
              "      <td>-0.060601</td>\n",
              "    </tr>\n",
              "    <tr>\n",
              "      <th>3</th>\n",
              "      <td>A1BG_CACTGGCGCCATCGAGAGCC</td>\n",
              "      <td>A1BG</td>\n",
              "      <td>-0.279657</td>\n",
              "    </tr>\n",
              "    <tr>\n",
              "      <th>4</th>\n",
              "      <td>A1BG_GCTCGGGCTTGTCCACAGGA</td>\n",
              "      <td>A1BG</td>\n",
              "      <td>0.912809</td>\n",
              "    </tr>\n",
              "    <tr>\n",
              "      <th>...</th>\n",
              "      <td>...</td>\n",
              "      <td>...</td>\n",
              "      <td>...</td>\n",
              "    </tr>\n",
              "    <tr>\n",
              "      <th>91315</th>\n",
              "      <td>luciferase_CCTCTAGAGGATGGAACCGC</td>\n",
              "      <td>luciferase</td>\n",
              "      <td>0.946176</td>\n",
              "    </tr>\n",
              "    <tr>\n",
              "      <th>91316</th>\n",
              "      <td>luciferase_ACAACTTTACCGACCGCGCC</td>\n",
              "      <td>luciferase</td>\n",
              "      <td>0.848200</td>\n",
              "    </tr>\n",
              "    <tr>\n",
              "      <th>91317</th>\n",
              "      <td>luciferase_CTTGTCGTATCCCTGGAAGA</td>\n",
              "      <td>luciferase</td>\n",
              "      <td>0.026325</td>\n",
              "    </tr>\n",
              "    <tr>\n",
              "      <th>91318</th>\n",
              "      <td>luciferase_GGCTATGAAGAGATACGCCC</td>\n",
              "      <td>luciferase</td>\n",
              "      <td>-1.009472</td>\n",
              "    </tr>\n",
              "    <tr>\n",
              "      <th>91319</th>\n",
              "      <td>luciferase_GGCATGCGAGAATCTGACGC</td>\n",
              "      <td>luciferase</td>\n",
              "      <td>-1.882514</td>\n",
              "    </tr>\n",
              "  </tbody>\n",
              "</table>\n",
              "<p>91320 rows × 3 columns</p>\n",
              "</div>\n",
              "      <button class=\"colab-df-convert\" onclick=\"convertToInteractive('df-8c7a5cdb-079a-4f17-9aab-51753c4678cc')\"\n",
              "              title=\"Convert this dataframe to an interactive table.\"\n",
              "              style=\"display:none;\">\n",
              "        \n",
              "  <svg xmlns=\"http://www.w3.org/2000/svg\" height=\"24px\"viewBox=\"0 0 24 24\"\n",
              "       width=\"24px\">\n",
              "    <path d=\"M0 0h24v24H0V0z\" fill=\"none\"/>\n",
              "    <path d=\"M18.56 5.44l.94 2.06.94-2.06 2.06-.94-2.06-.94-.94-2.06-.94 2.06-2.06.94zm-11 1L8.5 8.5l.94-2.06 2.06-.94-2.06-.94L8.5 2.5l-.94 2.06-2.06.94zm10 10l.94 2.06.94-2.06 2.06-.94-2.06-.94-.94-2.06-.94 2.06-2.06.94z\"/><path d=\"M17.41 7.96l-1.37-1.37c-.4-.4-.92-.59-1.43-.59-.52 0-1.04.2-1.43.59L10.3 9.45l-7.72 7.72c-.78.78-.78 2.05 0 2.83L4 21.41c.39.39.9.59 1.41.59.51 0 1.02-.2 1.41-.59l7.78-7.78 2.81-2.81c.8-.78.8-2.07 0-2.86zM5.41 20L4 18.59l7.72-7.72 1.47 1.35L5.41 20z\"/>\n",
              "  </svg>\n",
              "      </button>\n",
              "      \n",
              "  <style>\n",
              "    .colab-df-container {\n",
              "      display:flex;\n",
              "      flex-wrap:wrap;\n",
              "      gap: 12px;\n",
              "    }\n",
              "\n",
              "    .colab-df-convert {\n",
              "      background-color: #E8F0FE;\n",
              "      border: none;\n",
              "      border-radius: 50%;\n",
              "      cursor: pointer;\n",
              "      display: none;\n",
              "      fill: #1967D2;\n",
              "      height: 32px;\n",
              "      padding: 0 0 0 0;\n",
              "      width: 32px;\n",
              "    }\n",
              "\n",
              "    .colab-df-convert:hover {\n",
              "      background-color: #E2EBFA;\n",
              "      box-shadow: 0px 1px 2px rgba(60, 64, 67, 0.3), 0px 1px 3px 1px rgba(60, 64, 67, 0.15);\n",
              "      fill: #174EA6;\n",
              "    }\n",
              "\n",
              "    [theme=dark] .colab-df-convert {\n",
              "      background-color: #3B4455;\n",
              "      fill: #D2E3FC;\n",
              "    }\n",
              "\n",
              "    [theme=dark] .colab-df-convert:hover {\n",
              "      background-color: #434B5C;\n",
              "      box-shadow: 0px 1px 3px 1px rgba(0, 0, 0, 0.15);\n",
              "      filter: drop-shadow(0px 1px 2px rgba(0, 0, 0, 0.3));\n",
              "      fill: #FFFFFF;\n",
              "    }\n",
              "  </style>\n",
              "\n",
              "      <script>\n",
              "        const buttonEl =\n",
              "          document.querySelector('#df-8c7a5cdb-079a-4f17-9aab-51753c4678cc button.colab-df-convert');\n",
              "        buttonEl.style.display =\n",
              "          google.colab.kernel.accessAllowed ? 'block' : 'none';\n",
              "\n",
              "        async function convertToInteractive(key) {\n",
              "          const element = document.querySelector('#df-8c7a5cdb-079a-4f17-9aab-51753c4678cc');\n",
              "          const dataTable =\n",
              "            await google.colab.kernel.invokeFunction('convertToInteractive',\n",
              "                                                     [key], {});\n",
              "          if (!dataTable) return;\n",
              "\n",
              "          const docLinkHtml = 'Like what you see? Visit the ' +\n",
              "            '<a target=\"_blank\" href=https://colab.research.google.com/notebooks/data_table.ipynb>data table notebook</a>'\n",
              "            + ' to learn more about interactive tables.';\n",
              "          element.innerHTML = '';\n",
              "          dataTable['output_type'] = 'display_data';\n",
              "          await google.colab.output.renderOutput(dataTable, element);\n",
              "          const docLink = document.createElement('div');\n",
              "          docLink.innerHTML = docLinkHtml;\n",
              "          element.appendChild(docLink);\n",
              "        }\n",
              "      </script>\n",
              "    </div>\n",
              "  </div>\n",
              "  "
            ],
            "text/plain": [
              "                                  name        GENE  T18A_T08A.lfc\n",
              "0            A1BG_CACCTTCGAGCTGCTGCGCG        A1BG      -0.341631\n",
              "1            A1BG_AAGAGCGCCTCGGTCCCAGC        A1BG      -1.570919\n",
              "2            A1BG_TGGACTTCCAGCTACGGCGC        A1BG      -0.060601\n",
              "3            A1BG_CACTGGCGCCATCGAGAGCC        A1BG      -0.279657\n",
              "4            A1BG_GCTCGGGCTTGTCCACAGGA        A1BG       0.912809\n",
              "...                                ...         ...            ...\n",
              "91315  luciferase_CCTCTAGAGGATGGAACCGC  luciferase       0.946176\n",
              "91316  luciferase_ACAACTTTACCGACCGCGCC  luciferase       0.848200\n",
              "91317  luciferase_CTTGTCGTATCCCTGGAAGA  luciferase       0.026325\n",
              "91318  luciferase_GGCTATGAAGAGATACGCCC  luciferase      -1.009472\n",
              "91319  luciferase_GGCATGCGAGAATCTGACGC  luciferase      -1.882514\n",
              "\n",
              "[91320 rows x 3 columns]"
            ]
          },
          "execution_count": 27,
          "metadata": {},
          "output_type": "execute_result"
        }
      ],
      "source": [
        "adata.guides"
      ]
    },
    {
      "cell_type": "markdown",
      "metadata": {
        "id": "eQniOfh_4zdi"
      },
      "source": [
        "Calculating the T=18 vs T=8 across all replicates"
      ]
    },
    {
      "cell_type": "code",
      "execution_count": null,
      "metadata": {
        "id": "afAxBGYeRfP-"
      },
      "outputs": [],
      "source": [
        "adata_t = adata[:, adata.condit.replicate != \"0\"]"
      ]
    },
    {
      "cell_type": "code",
      "execution_count": null,
      "metadata": {
        "colab": {
          "base_uri": "https://localhost:8080/",
          "height": 423
        },
        "id": "3St896ZL4Z-7",
        "outputId": "36ebf72c-e8d7-400f-8b59-3e83ef5bf294"
      },
      "outputs": [
        {
          "data": {
            "text/html": [
              "\n",
              "  <div id=\"df-cf3c5c70-2262-4ff8-8339-4f9810861ab8\">\n",
              "    <div class=\"colab-df-container\">\n",
              "      <div>\n",
              "<style scoped>\n",
              "    .dataframe tbody tr th:only-of-type {\n",
              "        vertical-align: middle;\n",
              "    }\n",
              "\n",
              "    .dataframe tbody tr th {\n",
              "        vertical-align: top;\n",
              "    }\n",
              "\n",
              "    .dataframe thead th {\n",
              "        text-align: right;\n",
              "    }\n",
              "</style>\n",
              "<table border=\"1\" class=\"dataframe\">\n",
              "  <thead>\n",
              "    <tr style=\"text-align: right;\">\n",
              "      <th></th>\n",
              "      <th>A.18_8.lfc</th>\n",
              "      <th>B.18_8.lfc</th>\n",
              "      <th>C.18_8.lfc</th>\n",
              "    </tr>\n",
              "  </thead>\n",
              "  <tbody>\n",
              "    <tr>\n",
              "      <th>0</th>\n",
              "      <td>-0.341631</td>\n",
              "      <td>-1.623469</td>\n",
              "      <td>-0.351314</td>\n",
              "    </tr>\n",
              "    <tr>\n",
              "      <th>1</th>\n",
              "      <td>-1.570919</td>\n",
              "      <td>0.017767</td>\n",
              "      <td>1.871580</td>\n",
              "    </tr>\n",
              "    <tr>\n",
              "      <th>2</th>\n",
              "      <td>-0.060601</td>\n",
              "      <td>0.488215</td>\n",
              "      <td>-0.247272</td>\n",
              "    </tr>\n",
              "    <tr>\n",
              "      <th>3</th>\n",
              "      <td>-0.279657</td>\n",
              "      <td>0.893938</td>\n",
              "      <td>0.169553</td>\n",
              "    </tr>\n",
              "    <tr>\n",
              "      <th>4</th>\n",
              "      <td>0.912809</td>\n",
              "      <td>1.240354</td>\n",
              "      <td>0.766471</td>\n",
              "    </tr>\n",
              "    <tr>\n",
              "      <th>...</th>\n",
              "      <td>...</td>\n",
              "      <td>...</td>\n",
              "      <td>...</td>\n",
              "    </tr>\n",
              "    <tr>\n",
              "      <th>91315</th>\n",
              "      <td>0.946176</td>\n",
              "      <td>0.096584</td>\n",
              "      <td>0.677010</td>\n",
              "    </tr>\n",
              "    <tr>\n",
              "      <th>91316</th>\n",
              "      <td>0.848200</td>\n",
              "      <td>2.029430</td>\n",
              "      <td>0.480280</td>\n",
              "    </tr>\n",
              "    <tr>\n",
              "      <th>91317</th>\n",
              "      <td>0.026325</td>\n",
              "      <td>-0.211959</td>\n",
              "      <td>0.432167</td>\n",
              "    </tr>\n",
              "    <tr>\n",
              "      <th>91318</th>\n",
              "      <td>-1.009472</td>\n",
              "      <td>-0.362736</td>\n",
              "      <td>0.462367</td>\n",
              "    </tr>\n",
              "    <tr>\n",
              "      <th>91319</th>\n",
              "      <td>-1.882514</td>\n",
              "      <td>-0.242110</td>\n",
              "      <td>-0.257847</td>\n",
              "    </tr>\n",
              "  </tbody>\n",
              "</table>\n",
              "<p>91320 rows × 3 columns</p>\n",
              "</div>\n",
              "      <button class=\"colab-df-convert\" onclick=\"convertToInteractive('df-cf3c5c70-2262-4ff8-8339-4f9810861ab8')\"\n",
              "              title=\"Convert this dataframe to an interactive table.\"\n",
              "              style=\"display:none;\">\n",
              "        \n",
              "  <svg xmlns=\"http://www.w3.org/2000/svg\" height=\"24px\"viewBox=\"0 0 24 24\"\n",
              "       width=\"24px\">\n",
              "    <path d=\"M0 0h24v24H0V0z\" fill=\"none\"/>\n",
              "    <path d=\"M18.56 5.44l.94 2.06.94-2.06 2.06-.94-2.06-.94-.94-2.06-.94 2.06-2.06.94zm-11 1L8.5 8.5l.94-2.06 2.06-.94-2.06-.94L8.5 2.5l-.94 2.06-2.06.94zm10 10l.94 2.06.94-2.06 2.06-.94-2.06-.94-.94-2.06-.94 2.06-2.06.94z\"/><path d=\"M17.41 7.96l-1.37-1.37c-.4-.4-.92-.59-1.43-.59-.52 0-1.04.2-1.43.59L10.3 9.45l-7.72 7.72c-.78.78-.78 2.05 0 2.83L4 21.41c.39.39.9.59 1.41.59.51 0 1.02-.2 1.41-.59l7.78-7.78 2.81-2.81c.8-.78.8-2.07 0-2.86zM5.41 20L4 18.59l7.72-7.72 1.47 1.35L5.41 20z\"/>\n",
              "  </svg>\n",
              "      </button>\n",
              "      \n",
              "  <style>\n",
              "    .colab-df-container {\n",
              "      display:flex;\n",
              "      flex-wrap:wrap;\n",
              "      gap: 12px;\n",
              "    }\n",
              "\n",
              "    .colab-df-convert {\n",
              "      background-color: #E8F0FE;\n",
              "      border: none;\n",
              "      border-radius: 50%;\n",
              "      cursor: pointer;\n",
              "      display: none;\n",
              "      fill: #1967D2;\n",
              "      height: 32px;\n",
              "      padding: 0 0 0 0;\n",
              "      width: 32px;\n",
              "    }\n",
              "\n",
              "    .colab-df-convert:hover {\n",
              "      background-color: #E2EBFA;\n",
              "      box-shadow: 0px 1px 2px rgba(60, 64, 67, 0.3), 0px 1px 3px 1px rgba(60, 64, 67, 0.15);\n",
              "      fill: #174EA6;\n",
              "    }\n",
              "\n",
              "    [theme=dark] .colab-df-convert {\n",
              "      background-color: #3B4455;\n",
              "      fill: #D2E3FC;\n",
              "    }\n",
              "\n",
              "    [theme=dark] .colab-df-convert:hover {\n",
              "      background-color: #434B5C;\n",
              "      box-shadow: 0px 1px 3px 1px rgba(0, 0, 0, 0.15);\n",
              "      filter: drop-shadow(0px 1px 2px rgba(0, 0, 0, 0.3));\n",
              "      fill: #FFFFFF;\n",
              "    }\n",
              "  </style>\n",
              "\n",
              "      <script>\n",
              "        const buttonEl =\n",
              "          document.querySelector('#df-cf3c5c70-2262-4ff8-8339-4f9810861ab8 button.colab-df-convert');\n",
              "        buttonEl.style.display =\n",
              "          google.colab.kernel.accessAllowed ? 'block' : 'none';\n",
              "\n",
              "        async function convertToInteractive(key) {\n",
              "          const element = document.querySelector('#df-cf3c5c70-2262-4ff8-8339-4f9810861ab8');\n",
              "          const dataTable =\n",
              "            await google.colab.kernel.invokeFunction('convertToInteractive',\n",
              "                                                     [key], {});\n",
              "          if (!dataTable) return;\n",
              "\n",
              "          const docLinkHtml = 'Like what you see? Visit the ' +\n",
              "            '<a target=\"_blank\" href=https://colab.research.google.com/notebooks/data_table.ipynb>data table notebook</a>'\n",
              "            + ' to learn more about interactive tables.';\n",
              "          element.innerHTML = '';\n",
              "          dataTable['output_type'] = 'display_data';\n",
              "          await google.colab.output.renderOutput(dataTable, element);\n",
              "          const docLink = document.createElement('div');\n",
              "          docLink.innerHTML = docLinkHtml;\n",
              "          element.appendChild(docLink);\n",
              "        }\n",
              "      </script>\n",
              "    </div>\n",
              "  </div>\n",
              "  "
            ],
            "text/plain": [
              "       A.18_8.lfc  B.18_8.lfc  C.18_8.lfc\n",
              "0       -0.341631   -1.623469   -0.351314\n",
              "1       -1.570919    0.017767    1.871580\n",
              "2       -0.060601    0.488215   -0.247272\n",
              "3       -0.279657    0.893938    0.169553\n",
              "4        0.912809    1.240354    0.766471\n",
              "...           ...         ...         ...\n",
              "91315    0.946176    0.096584    0.677010\n",
              "91316    0.848200    2.029430    0.480280\n",
              "91317    0.026325   -0.211959    0.432167\n",
              "91318   -1.009472   -0.362736    0.462367\n",
              "91319   -1.882514   -0.242110   -0.257847\n",
              "\n",
              "[91320 rows x 3 columns]"
            ]
          },
          "execution_count": 29,
          "metadata": {},
          "output_type": "execute_result"
        }
      ],
      "source": [
        "adata_t.log_fold_change_reps(18, 8, rep_condit=\"replicate\", compare_condit=\"time\")"
      ]
    },
    {
      "cell_type": "markdown",
      "metadata": {
        "id": "IlIkCVCa4_gV"
      },
      "source": [
        "Aggregate the LFCs based on `aggregate_fn [median, mean, sd]`."
      ]
    },
    {
      "cell_type": "code",
      "execution_count": null,
      "metadata": {
        "id": "OpBvl2Ns38q-"
      },
      "outputs": [],
      "source": [
        "adata_t.log_fold_change_aggregate(8, 18, aggregate_condit=\"replicate\", compare_condit=\"time\", aggregate_fn = \"median\")"
      ]
    },
    {
      "cell_type": "code",
      "execution_count": null,
      "metadata": {
        "colab": {
          "base_uri": "https://localhost:8080/",
          "height": 423
        },
        "id": "9usQ-rnzUAbW",
        "outputId": "3eb081c9-ef82-4f84-90bb-878566a1c1b9"
      },
      "outputs": [
        {
          "data": {
            "text/html": [
              "\n",
              "  <div id=\"df-49e58fba-4d8c-4ae5-8e86-6f5da4104197\">\n",
              "    <div class=\"colab-df-container\">\n",
              "      <div>\n",
              "<style scoped>\n",
              "    .dataframe tbody tr th:only-of-type {\n",
              "        vertical-align: middle;\n",
              "    }\n",
              "\n",
              "    .dataframe tbody tr th {\n",
              "        vertical-align: top;\n",
              "    }\n",
              "\n",
              "    .dataframe thead th {\n",
              "        text-align: right;\n",
              "    }\n",
              "</style>\n",
              "<table border=\"1\" class=\"dataframe\">\n",
              "  <thead>\n",
              "    <tr style=\"text-align: right;\">\n",
              "      <th></th>\n",
              "      <th>name</th>\n",
              "      <th>GENE</th>\n",
              "      <th>T18A_T08A.lfc</th>\n",
              "      <th>8_18.lfc.median</th>\n",
              "    </tr>\n",
              "  </thead>\n",
              "  <tbody>\n",
              "    <tr>\n",
              "      <th>0</th>\n",
              "      <td>A1BG_CACCTTCGAGCTGCTGCGCG</td>\n",
              "      <td>A1BG</td>\n",
              "      <td>-0.341631</td>\n",
              "      <td>0.351314</td>\n",
              "    </tr>\n",
              "    <tr>\n",
              "      <th>1</th>\n",
              "      <td>A1BG_AAGAGCGCCTCGGTCCCAGC</td>\n",
              "      <td>A1BG</td>\n",
              "      <td>-1.570919</td>\n",
              "      <td>-0.017767</td>\n",
              "    </tr>\n",
              "    <tr>\n",
              "      <th>2</th>\n",
              "      <td>A1BG_TGGACTTCCAGCTACGGCGC</td>\n",
              "      <td>A1BG</td>\n",
              "      <td>-0.060601</td>\n",
              "      <td>0.060601</td>\n",
              "    </tr>\n",
              "    <tr>\n",
              "      <th>3</th>\n",
              "      <td>A1BG_CACTGGCGCCATCGAGAGCC</td>\n",
              "      <td>A1BG</td>\n",
              "      <td>-0.279657</td>\n",
              "      <td>-0.169553</td>\n",
              "    </tr>\n",
              "    <tr>\n",
              "      <th>4</th>\n",
              "      <td>A1BG_GCTCGGGCTTGTCCACAGGA</td>\n",
              "      <td>A1BG</td>\n",
              "      <td>0.912809</td>\n",
              "      <td>-0.912809</td>\n",
              "    </tr>\n",
              "    <tr>\n",
              "      <th>...</th>\n",
              "      <td>...</td>\n",
              "      <td>...</td>\n",
              "      <td>...</td>\n",
              "      <td>...</td>\n",
              "    </tr>\n",
              "    <tr>\n",
              "      <th>91315</th>\n",
              "      <td>luciferase_CCTCTAGAGGATGGAACCGC</td>\n",
              "      <td>luciferase</td>\n",
              "      <td>0.946176</td>\n",
              "      <td>-0.677010</td>\n",
              "    </tr>\n",
              "    <tr>\n",
              "      <th>91316</th>\n",
              "      <td>luciferase_ACAACTTTACCGACCGCGCC</td>\n",
              "      <td>luciferase</td>\n",
              "      <td>0.848200</td>\n",
              "      <td>-0.848200</td>\n",
              "    </tr>\n",
              "    <tr>\n",
              "      <th>91317</th>\n",
              "      <td>luciferase_CTTGTCGTATCCCTGGAAGA</td>\n",
              "      <td>luciferase</td>\n",
              "      <td>0.026325</td>\n",
              "      <td>-0.026325</td>\n",
              "    </tr>\n",
              "    <tr>\n",
              "      <th>91318</th>\n",
              "      <td>luciferase_GGCTATGAAGAGATACGCCC</td>\n",
              "      <td>luciferase</td>\n",
              "      <td>-1.009472</td>\n",
              "      <td>0.362736</td>\n",
              "    </tr>\n",
              "    <tr>\n",
              "      <th>91319</th>\n",
              "      <td>luciferase_GGCATGCGAGAATCTGACGC</td>\n",
              "      <td>luciferase</td>\n",
              "      <td>-1.882514</td>\n",
              "      <td>0.257847</td>\n",
              "    </tr>\n",
              "  </tbody>\n",
              "</table>\n",
              "<p>91320 rows × 4 columns</p>\n",
              "</div>\n",
              "      <button class=\"colab-df-convert\" onclick=\"convertToInteractive('df-49e58fba-4d8c-4ae5-8e86-6f5da4104197')\"\n",
              "              title=\"Convert this dataframe to an interactive table.\"\n",
              "              style=\"display:none;\">\n",
              "        \n",
              "  <svg xmlns=\"http://www.w3.org/2000/svg\" height=\"24px\"viewBox=\"0 0 24 24\"\n",
              "       width=\"24px\">\n",
              "    <path d=\"M0 0h24v24H0V0z\" fill=\"none\"/>\n",
              "    <path d=\"M18.56 5.44l.94 2.06.94-2.06 2.06-.94-2.06-.94-.94-2.06-.94 2.06-2.06.94zm-11 1L8.5 8.5l.94-2.06 2.06-.94-2.06-.94L8.5 2.5l-.94 2.06-2.06.94zm10 10l.94 2.06.94-2.06 2.06-.94-2.06-.94-.94-2.06-.94 2.06-2.06.94z\"/><path d=\"M17.41 7.96l-1.37-1.37c-.4-.4-.92-.59-1.43-.59-.52 0-1.04.2-1.43.59L10.3 9.45l-7.72 7.72c-.78.78-.78 2.05 0 2.83L4 21.41c.39.39.9.59 1.41.59.51 0 1.02-.2 1.41-.59l7.78-7.78 2.81-2.81c.8-.78.8-2.07 0-2.86zM5.41 20L4 18.59l7.72-7.72 1.47 1.35L5.41 20z\"/>\n",
              "  </svg>\n",
              "      </button>\n",
              "      \n",
              "  <style>\n",
              "    .colab-df-container {\n",
              "      display:flex;\n",
              "      flex-wrap:wrap;\n",
              "      gap: 12px;\n",
              "    }\n",
              "\n",
              "    .colab-df-convert {\n",
              "      background-color: #E8F0FE;\n",
              "      border: none;\n",
              "      border-radius: 50%;\n",
              "      cursor: pointer;\n",
              "      display: none;\n",
              "      fill: #1967D2;\n",
              "      height: 32px;\n",
              "      padding: 0 0 0 0;\n",
              "      width: 32px;\n",
              "    }\n",
              "\n",
              "    .colab-df-convert:hover {\n",
              "      background-color: #E2EBFA;\n",
              "      box-shadow: 0px 1px 2px rgba(60, 64, 67, 0.3), 0px 1px 3px 1px rgba(60, 64, 67, 0.15);\n",
              "      fill: #174EA6;\n",
              "    }\n",
              "\n",
              "    [theme=dark] .colab-df-convert {\n",
              "      background-color: #3B4455;\n",
              "      fill: #D2E3FC;\n",
              "    }\n",
              "\n",
              "    [theme=dark] .colab-df-convert:hover {\n",
              "      background-color: #434B5C;\n",
              "      box-shadow: 0px 1px 3px 1px rgba(0, 0, 0, 0.15);\n",
              "      filter: drop-shadow(0px 1px 2px rgba(0, 0, 0, 0.3));\n",
              "      fill: #FFFFFF;\n",
              "    }\n",
              "  </style>\n",
              "\n",
              "      <script>\n",
              "        const buttonEl =\n",
              "          document.querySelector('#df-49e58fba-4d8c-4ae5-8e86-6f5da4104197 button.colab-df-convert');\n",
              "        buttonEl.style.display =\n",
              "          google.colab.kernel.accessAllowed ? 'block' : 'none';\n",
              "\n",
              "        async function convertToInteractive(key) {\n",
              "          const element = document.querySelector('#df-49e58fba-4d8c-4ae5-8e86-6f5da4104197');\n",
              "          const dataTable =\n",
              "            await google.colab.kernel.invokeFunction('convertToInteractive',\n",
              "                                                     [key], {});\n",
              "          if (!dataTable) return;\n",
              "\n",
              "          const docLinkHtml = 'Like what you see? Visit the ' +\n",
              "            '<a target=\"_blank\" href=https://colab.research.google.com/notebooks/data_table.ipynb>data table notebook</a>'\n",
              "            + ' to learn more about interactive tables.';\n",
              "          element.innerHTML = '';\n",
              "          dataTable['output_type'] = 'display_data';\n",
              "          await google.colab.output.renderOutput(dataTable, element);\n",
              "          const docLink = document.createElement('div');\n",
              "          docLink.innerHTML = docLinkHtml;\n",
              "          element.appendChild(docLink);\n",
              "        }\n",
              "      </script>\n",
              "    </div>\n",
              "  </div>\n",
              "  "
            ],
            "text/plain": [
              "                                  name        GENE  T18A_T08A.lfc  \\\n",
              "0            A1BG_CACCTTCGAGCTGCTGCGCG        A1BG      -0.341631   \n",
              "1            A1BG_AAGAGCGCCTCGGTCCCAGC        A1BG      -1.570919   \n",
              "2            A1BG_TGGACTTCCAGCTACGGCGC        A1BG      -0.060601   \n",
              "3            A1BG_CACTGGCGCCATCGAGAGCC        A1BG      -0.279657   \n",
              "4            A1BG_GCTCGGGCTTGTCCACAGGA        A1BG       0.912809   \n",
              "...                                ...         ...            ...   \n",
              "91315  luciferase_CCTCTAGAGGATGGAACCGC  luciferase       0.946176   \n",
              "91316  luciferase_ACAACTTTACCGACCGCGCC  luciferase       0.848200   \n",
              "91317  luciferase_CTTGTCGTATCCCTGGAAGA  luciferase       0.026325   \n",
              "91318  luciferase_GGCTATGAAGAGATACGCCC  luciferase      -1.009472   \n",
              "91319  luciferase_GGCATGCGAGAATCTGACGC  luciferase      -1.882514   \n",
              "\n",
              "       8_18.lfc.median  \n",
              "0             0.351314  \n",
              "1            -0.017767  \n",
              "2             0.060601  \n",
              "3            -0.169553  \n",
              "4            -0.912809  \n",
              "...                ...  \n",
              "91315        -0.677010  \n",
              "91316        -0.848200  \n",
              "91317        -0.026325  \n",
              "91318         0.362736  \n",
              "91319         0.257847  \n",
              "\n",
              "[91320 rows x 4 columns]"
            ]
          },
          "execution_count": 31,
          "metadata": {},
          "output_type": "execute_result"
        }
      ],
      "source": [
        "adata_t.guides"
      ]
    },
    {
      "cell_type": "markdown",
      "metadata": {
        "id": "lmrMvljW5gIw"
      },
      "source": [
        "# Writing"
      ]
    },
    {
      "cell_type": "code",
      "execution_count": null,
      "metadata": {
        "colab": {
          "base_uri": "https://localhost:8080/"
        },
        "id": "9qHVVUi75f1R",
        "outputId": "13e63c48-ac67-477b-9f78-882d6536f1a2"
      },
      "outputs": [
        {
          "name": "stdout",
          "output_type": "stream",
          "text": [
            "Writing to: Hela_lib1.xlsx\n",
            "\n",
            "\tSheet 1:\tX\n",
            "\tSheet 2:\tlognorm_counts\n",
            "\tSheet 3:\tguides\n",
            "\tSheet 4:\tcondit\n"
          ]
        }
      ],
      "source": [
        "adata.to_Excel(\"Hela_lib1.xlsx\")"
      ]
    },
    {
      "cell_type": "code",
      "execution_count": null,
      "metadata": {
        "id": "7YwPo4tc5lDw"
      },
      "outputs": [],
      "source": [
        "adata.to_mageck_input(\"Hela_mageck_input.txt\", target_column=\"GENE\")"
      ]
    },
    {
      "cell_type": "code",
      "execution_count": null,
      "metadata": {
        "colab": {
          "base_uri": "https://localhost:8080/"
        },
        "id": "SJlsyUieUcgi",
        "outputId": "a167dc60-2317-44dd-a851-e2e81d8c300e"
      },
      "outputs": [
        {
          "name": "stdout",
          "output_type": "stream",
          "text": [
            "sgRNA\tgene\tT08A\tT08B\tT08C\tT12A\tT12B\tT12C\tT15A\tT15B\tT15C\tT18A\tT18B\tT18C\tT0\n",
            "A1BG_CACCTTCGAGCTGCTGCGCG\tA1BG\t310\t226\t338\t356\t249\t224\t186\t60\t296\t125\t49\t296\t469\n",
            "A1BG_AAGAGCGCCTCGGTCCCAGC\tA1BG\t46\t1\t0\t7\t22\t142\t0\t1\t52\t0\t1\t52\t213\n",
            "A1BG_TGGACTTCCAGCTACGGCGC\tA1BG\t239\t216\t285\t117\t244\t116\t172\t298\t269\t119\t250\t269\t363\n",
            "A1BG_CACTGGCGCCATCGAGAGCC\tA1BG\t289\t83\t166\t164\t111\t14\t184\t160\t214\t122\t137\t214\t678\n",
            "A1BG_GCTCGGGCTTGTCCACAGGA\tA1BG\t205\t34\t217\t205\t148\t355\t326\t100\t432\t212\t85\t432\t559\n",
            "A1BG_CAAGAGAAAGACCACGAGCA\tA1BG\t389\t331\t468\t1074\t364\t158\t664\t286\t499\t464\t235\t499\t647\n",
            "A1CF_CGTGGCTATTTGGCATACAC\tA1CF\t452\t240\t390\t630\t509\t261\t471\t255\t301\t322\t210\t301\t898\n",
            "A1CF_GGTATACTCTCCTTGCAGCA\tA1CF\t71\t30\t29\t119\t155\t153\t131\t76\t56\t94\t61\t56\t199\n",
            "A1CF_GACATGGTATTGCAGTAGAC\tA1CF\t207\t227\t223\t118\t141\t173\t176\t198\t42\t118\t166\t42\t271\n"
          ]
        }
      ],
      "source": [
        "! head Hela_mageck_input.txt"
      ]
    }
  ],
  "metadata": {
    "colab": {
      "provenance": [],
      "collapsed_sections": []
    },
    "kernelspec": {
      "display_name": "Python 3",
      "name": "python3"
    },
    "language_info": {
      "name": "python"
    }
  },
  "nbformat": 4,
  "nbformat_minor": 0
}