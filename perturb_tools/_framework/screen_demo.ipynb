{
  "nbformat": 4,
  "nbformat_minor": 0,
  "metadata": {
    "colab": {
      "name": "screen_demo.ipynb",
      "provenance": []
    },
    "kernelspec": {
      "name": "python3",
      "display_name": "Python 3"
    },
    "language_info": {
      "name": "python"
    }
  },
  "cells": [
    {
      "cell_type": "code",
      "source": [
        "# (1) clone this repository\n",
        "! git clone https://github.com/pinellolab/perturb-tools.git\n",
        "! cd ./perturb-tools; pip3 install -e .\n",
        "! pip install anndata"
      ],
      "metadata": {
        "id": "f1QwiBs_rrg0"
      },
      "execution_count": null,
      "outputs": []
    },
    {
      "cell_type": "code",
      "source": [
        "import sys\n",
        "sys.path.insert(0, \"/content/perturb-tools\")"
      ],
      "metadata": {
        "id": "KFfbqtv6_Vo3"
      },
      "execution_count": 7,
      "outputs": []
    },
    {
      "cell_type": "code",
      "source": [
        "import pandas as pd\n",
        "import anndata as ad\n",
        "import perturb_tools as pt"
      ],
      "metadata": {
        "id": "FMmOwwSXJQxm"
      },
      "execution_count": 9,
      "outputs": []
    },
    {
      "cell_type": "markdown",
      "source": [
        "Download [TKO](http://tko.ccbr.utoronto.ca/) HeLa data:"
      ],
      "metadata": {
        "id": "-O0OyBI3uQ12"
      }
    },
    {
      "cell_type": "code",
      "execution_count": 10,
      "metadata": {
        "colab": {
          "base_uri": "https://localhost:8080/"
        },
        "id": "qQCbMhXLZ7pT",
        "outputId": "9b70ab21-1f4a-4b74-bf0c-86ec937d8948"
      },
      "outputs": [
        {
          "output_type": "stream",
          "name": "stdout",
          "text": [
            "--2022-06-02 18:44:10--  http://tko.ccbr.utoronto.ca/Data/readcount-HeLa-lib1.gz\n",
            "Resolving tko.ccbr.utoronto.ca (tko.ccbr.utoronto.ca)... 142.150.76.126\n",
            "Connecting to tko.ccbr.utoronto.ca (tko.ccbr.utoronto.ca)|142.150.76.126|:80... connected.\n",
            "HTTP request sent, awaiting response... 200 OK\n",
            "Length: 2877516 (2.7M) [application/x-gzip]\n",
            "Saving to: ‘readcount-HeLa-lib1.gz’\n",
            "\n",
            "readcount-HeLa-lib1 100%[===================>]   2.74M  2.82MB/s    in 1.0s    \n",
            "\n",
            "2022-06-02 18:44:12 (2.82 MB/s) - ‘readcount-HeLa-lib1.gz’ saved [2877516/2877516]\n",
            "\n",
            "--2022-06-02 18:44:12--  http://tko.ccbr.utoronto.ca/Data/readcount-HeLa-lib2.gz\n",
            "Resolving tko.ccbr.utoronto.ca (tko.ccbr.utoronto.ca)... 142.150.76.126\n",
            "Connecting to tko.ccbr.utoronto.ca (tko.ccbr.utoronto.ca)|142.150.76.126|:80... connected.\n",
            "HTTP request sent, awaiting response... 200 OK\n",
            "Length: 2680113 (2.6M) [application/x-gzip]\n",
            "Saving to: ‘readcount-HeLa-lib2.gz’\n",
            "\n",
            "readcount-HeLa-lib2 100%[===================>]   2.56M  3.06MB/s    in 0.8s    \n",
            "\n",
            "2022-06-02 18:44:14 (3.06 MB/s) - ‘readcount-HeLa-lib2.gz’ saved [2680113/2680113]\n",
            "\n"
          ]
        }
      ],
      "source": [
        "! wget http://tko.ccbr.utoronto.ca/Data/readcount-HeLa-lib1.gz\n",
        "! wget http://tko.ccbr.utoronto.ca/Data/readcount-HeLa-lib2.gz\n",
        "! gunzip readcount-HeLa-lib1.gz\n",
        "! gunzip readcount-HeLa-lib2.gz"
      ]
    },
    {
      "cell_type": "code",
      "source": [
        "! head readcount-HeLa-lib1"
      ],
      "metadata": {
        "colab": {
          "base_uri": "https://localhost:8080/"
        },
        "id": "Ysb-M6vtaLfL",
        "outputId": "b1c3ca0c-98c4-4bab-b234-0dbca27cf8cb"
      },
      "execution_count": 11,
      "outputs": [
        {
          "output_type": "stream",
          "name": "stdout",
          "text": [
            "GENE_CLONE\tGENE\tT08A\tT08B\tT08C\tT12A\tT12B\tT12C\tT15A\tT15B\tT15C\tT18A\tT18B\tT18C\tT0\n",
            "A1BG_CACCTTCGAGCTGCTGCGCG\tA1BG\t310\t226\t338\t356\t249\t224\t186\t60\t296\t125\t49\t296\t469\n",
            "A1BG_AAGAGCGCCTCGGTCCCAGC\tA1BG\t46\t1\t0\t7\t22\t142\t0\t1\t52\t0\t1\t52\t213\n",
            "A1BG_TGGACTTCCAGCTACGGCGC\tA1BG\t239\t216\t285\t117\t244\t116\t172\t298\t269\t119\t250\t269\t363\n",
            "A1BG_CACTGGCGCCATCGAGAGCC\tA1BG\t289\t83\t166\t164\t111\t14\t184\t160\t214\t122\t137\t214\t678\n",
            "A1BG_GCTCGGGCTTGTCCACAGGA\tA1BG\t205\t34\t217\t205\t148\t355\t326\t100\t432\t212\t85\t432\t559\n",
            "A1BG_CAAGAGAAAGACCACGAGCA\tA1BG\t389\t331\t468\t1074\t364\t158\t664\t286\t499\t464\t235\t499\t647\n",
            "A1CF_CGTGGCTATTTGGCATACAC\tA1CF\t452\t240\t390\t630\t509\t261\t471\t255\t301\t322\t210\t301\t898\n",
            "A1CF_GGTATACTCTCCTTGCAGCA\tA1CF\t71\t30\t29\t119\t155\t153\t131\t76\t56\t94\t61\t56\t199\n",
            "A1CF_GACATGGTATTGCAGTAGAC\tA1CF\t207\t227\t223\t118\t141\t173\t176\t198\t42\t118\t166\t42\t271\n"
          ]
        }
      ]
    },
    {
      "cell_type": "code",
      "source": [
        "tbl = pd.read_csv(\"readcount-HeLa-lib1\", sep = \"\\t\")\n",
        "tbl2 = pd.read_csv(\"readcount-HeLa-lib2\", sep = \"\\t\")"
      ],
      "metadata": {
        "id": "PBk5uxU0bO77"
      },
      "execution_count": 12,
      "outputs": []
    },
    {
      "cell_type": "code",
      "source": [
        "def make_screen(tbl):\n",
        "  tbl = tbl.rename(columns={\"GENE_CLONE\":\"name\"})\n",
        "  sample_df = pd.DataFrame(tbl.columns[2:]).rename(columns={0:\"index\"}).set_index(\"index\")\n",
        "  sample_df[\"replicate\"] = sample_df.index.str[-1]\n",
        "  sample_df[\"time\"] = sample_df.index.str[1:-1].map(lambda s: int(s) if s else -1)\n",
        "  return pt.Screen(X=tbl.values[:,2:], guides=tbl.iloc[:,:2], \n",
        "                   condit=sample_df)"
      ],
      "metadata": {
        "id": "zSa-tE0bblMl"
      },
      "execution_count": 13,
      "outputs": []
    },
    {
      "cell_type": "code",
      "source": [
        "adata = make_screen(tbl)\n",
        "bdata = make_screen(tbl2)"
      ],
      "metadata": {
        "colab": {
          "base_uri": "https://localhost:8080/"
        },
        "id": "pjOXiYsfbWmd",
        "outputId": "a959d501-e29e-4d87-a346-50008ddab73d"
      },
      "execution_count": 14,
      "outputs": [
        {
          "output_type": "stream",
          "name": "stderr",
          "text": [
            "/content/perturb-tools/perturb_tools/_framework/_ScreenModule.py:30: FutureWarning: X.dtype being converted to np.float32 from object. In the next version of anndata (0.9) conversion will not be automatic. Pass dtype explicitly to avoid this warning. Pass `AnnData(X, dtype=X.dtype, ...)` to get the future behavour.\n",
            "  super().__init__(X, obs = guides, var = condit, *args, **kwargs)\n",
            "/usr/local/lib/python3.7/dist-packages/anndata/_core/anndata.py:121: ImplicitModificationWarning: Transforming to str index.\n",
            "  warnings.warn(\"Transforming to str index.\", ImplicitModificationWarning)\n"
          ]
        }
      ]
    },
    {
      "cell_type": "code",
      "source": [
        "adata.guides"
      ],
      "metadata": {
        "colab": {
          "base_uri": "https://localhost:8080/",
          "height": 423
        },
        "id": "zyK1KKh_k83l",
        "outputId": "22fbb8df-2c76-4946-9c06-2f78148c9c78"
      },
      "execution_count": 15,
      "outputs": [
        {
          "output_type": "execute_result",
          "data": {
            "text/plain": [
              "                                  name        GENE\n",
              "0            A1BG_CACCTTCGAGCTGCTGCGCG        A1BG\n",
              "1            A1BG_AAGAGCGCCTCGGTCCCAGC        A1BG\n",
              "2            A1BG_TGGACTTCCAGCTACGGCGC        A1BG\n",
              "3            A1BG_CACTGGCGCCATCGAGAGCC        A1BG\n",
              "4            A1BG_GCTCGGGCTTGTCCACAGGA        A1BG\n",
              "...                                ...         ...\n",
              "91315  luciferase_CCTCTAGAGGATGGAACCGC  luciferase\n",
              "91316  luciferase_ACAACTTTACCGACCGCGCC  luciferase\n",
              "91317  luciferase_CTTGTCGTATCCCTGGAAGA  luciferase\n",
              "91318  luciferase_GGCTATGAAGAGATACGCCC  luciferase\n",
              "91319  luciferase_GGCATGCGAGAATCTGACGC  luciferase\n",
              "\n",
              "[91320 rows x 2 columns]"
            ],
            "text/html": [
              "\n",
              "  <div id=\"df-ca1f0d97-7b36-407e-ad0c-c3da16b8ac8c\">\n",
              "    <div class=\"colab-df-container\">\n",
              "      <div>\n",
              "<style scoped>\n",
              "    .dataframe tbody tr th:only-of-type {\n",
              "        vertical-align: middle;\n",
              "    }\n",
              "\n",
              "    .dataframe tbody tr th {\n",
              "        vertical-align: top;\n",
              "    }\n",
              "\n",
              "    .dataframe thead th {\n",
              "        text-align: right;\n",
              "    }\n",
              "</style>\n",
              "<table border=\"1\" class=\"dataframe\">\n",
              "  <thead>\n",
              "    <tr style=\"text-align: right;\">\n",
              "      <th></th>\n",
              "      <th>name</th>\n",
              "      <th>GENE</th>\n",
              "    </tr>\n",
              "  </thead>\n",
              "  <tbody>\n",
              "    <tr>\n",
              "      <th>0</th>\n",
              "      <td>A1BG_CACCTTCGAGCTGCTGCGCG</td>\n",
              "      <td>A1BG</td>\n",
              "    </tr>\n",
              "    <tr>\n",
              "      <th>1</th>\n",
              "      <td>A1BG_AAGAGCGCCTCGGTCCCAGC</td>\n",
              "      <td>A1BG</td>\n",
              "    </tr>\n",
              "    <tr>\n",
              "      <th>2</th>\n",
              "      <td>A1BG_TGGACTTCCAGCTACGGCGC</td>\n",
              "      <td>A1BG</td>\n",
              "    </tr>\n",
              "    <tr>\n",
              "      <th>3</th>\n",
              "      <td>A1BG_CACTGGCGCCATCGAGAGCC</td>\n",
              "      <td>A1BG</td>\n",
              "    </tr>\n",
              "    <tr>\n",
              "      <th>4</th>\n",
              "      <td>A1BG_GCTCGGGCTTGTCCACAGGA</td>\n",
              "      <td>A1BG</td>\n",
              "    </tr>\n",
              "    <tr>\n",
              "      <th>...</th>\n",
              "      <td>...</td>\n",
              "      <td>...</td>\n",
              "    </tr>\n",
              "    <tr>\n",
              "      <th>91315</th>\n",
              "      <td>luciferase_CCTCTAGAGGATGGAACCGC</td>\n",
              "      <td>luciferase</td>\n",
              "    </tr>\n",
              "    <tr>\n",
              "      <th>91316</th>\n",
              "      <td>luciferase_ACAACTTTACCGACCGCGCC</td>\n",
              "      <td>luciferase</td>\n",
              "    </tr>\n",
              "    <tr>\n",
              "      <th>91317</th>\n",
              "      <td>luciferase_CTTGTCGTATCCCTGGAAGA</td>\n",
              "      <td>luciferase</td>\n",
              "    </tr>\n",
              "    <tr>\n",
              "      <th>91318</th>\n",
              "      <td>luciferase_GGCTATGAAGAGATACGCCC</td>\n",
              "      <td>luciferase</td>\n",
              "    </tr>\n",
              "    <tr>\n",
              "      <th>91319</th>\n",
              "      <td>luciferase_GGCATGCGAGAATCTGACGC</td>\n",
              "      <td>luciferase</td>\n",
              "    </tr>\n",
              "  </tbody>\n",
              "</table>\n",
              "<p>91320 rows × 2 columns</p>\n",
              "</div>\n",
              "      <button class=\"colab-df-convert\" onclick=\"convertToInteractive('df-ca1f0d97-7b36-407e-ad0c-c3da16b8ac8c')\"\n",
              "              title=\"Convert this dataframe to an interactive table.\"\n",
              "              style=\"display:none;\">\n",
              "        \n",
              "  <svg xmlns=\"http://www.w3.org/2000/svg\" height=\"24px\"viewBox=\"0 0 24 24\"\n",
              "       width=\"24px\">\n",
              "    <path d=\"M0 0h24v24H0V0z\" fill=\"none\"/>\n",
              "    <path d=\"M18.56 5.44l.94 2.06.94-2.06 2.06-.94-2.06-.94-.94-2.06-.94 2.06-2.06.94zm-11 1L8.5 8.5l.94-2.06 2.06-.94-2.06-.94L8.5 2.5l-.94 2.06-2.06.94zm10 10l.94 2.06.94-2.06 2.06-.94-2.06-.94-.94-2.06-.94 2.06-2.06.94z\"/><path d=\"M17.41 7.96l-1.37-1.37c-.4-.4-.92-.59-1.43-.59-.52 0-1.04.2-1.43.59L10.3 9.45l-7.72 7.72c-.78.78-.78 2.05 0 2.83L4 21.41c.39.39.9.59 1.41.59.51 0 1.02-.2 1.41-.59l7.78-7.78 2.81-2.81c.8-.78.8-2.07 0-2.86zM5.41 20L4 18.59l7.72-7.72 1.47 1.35L5.41 20z\"/>\n",
              "  </svg>\n",
              "      </button>\n",
              "      \n",
              "  <style>\n",
              "    .colab-df-container {\n",
              "      display:flex;\n",
              "      flex-wrap:wrap;\n",
              "      gap: 12px;\n",
              "    }\n",
              "\n",
              "    .colab-df-convert {\n",
              "      background-color: #E8F0FE;\n",
              "      border: none;\n",
              "      border-radius: 50%;\n",
              "      cursor: pointer;\n",
              "      display: none;\n",
              "      fill: #1967D2;\n",
              "      height: 32px;\n",
              "      padding: 0 0 0 0;\n",
              "      width: 32px;\n",
              "    }\n",
              "\n",
              "    .colab-df-convert:hover {\n",
              "      background-color: #E2EBFA;\n",
              "      box-shadow: 0px 1px 2px rgba(60, 64, 67, 0.3), 0px 1px 3px 1px rgba(60, 64, 67, 0.15);\n",
              "      fill: #174EA6;\n",
              "    }\n",
              "\n",
              "    [theme=dark] .colab-df-convert {\n",
              "      background-color: #3B4455;\n",
              "      fill: #D2E3FC;\n",
              "    }\n",
              "\n",
              "    [theme=dark] .colab-df-convert:hover {\n",
              "      background-color: #434B5C;\n",
              "      box-shadow: 0px 1px 3px 1px rgba(0, 0, 0, 0.15);\n",
              "      filter: drop-shadow(0px 1px 2px rgba(0, 0, 0, 0.3));\n",
              "      fill: #FFFFFF;\n",
              "    }\n",
              "  </style>\n",
              "\n",
              "      <script>\n",
              "        const buttonEl =\n",
              "          document.querySelector('#df-ca1f0d97-7b36-407e-ad0c-c3da16b8ac8c button.colab-df-convert');\n",
              "        buttonEl.style.display =\n",
              "          google.colab.kernel.accessAllowed ? 'block' : 'none';\n",
              "\n",
              "        async function convertToInteractive(key) {\n",
              "          const element = document.querySelector('#df-ca1f0d97-7b36-407e-ad0c-c3da16b8ac8c');\n",
              "          const dataTable =\n",
              "            await google.colab.kernel.invokeFunction('convertToInteractive',\n",
              "                                                     [key], {});\n",
              "          if (!dataTable) return;\n",
              "\n",
              "          const docLinkHtml = 'Like what you see? Visit the ' +\n",
              "            '<a target=\"_blank\" href=https://colab.research.google.com/notebooks/data_table.ipynb>data table notebook</a>'\n",
              "            + ' to learn more about interactive tables.';\n",
              "          element.innerHTML = '';\n",
              "          dataTable['output_type'] = 'display_data';\n",
              "          await google.colab.output.renderOutput(dataTable, element);\n",
              "          const docLink = document.createElement('div');\n",
              "          docLink.innerHTML = docLinkHtml;\n",
              "          element.appendChild(docLink);\n",
              "        }\n",
              "      </script>\n",
              "    </div>\n",
              "  </div>\n",
              "  "
            ]
          },
          "metadata": {},
          "execution_count": 15
        }
      ]
    },
    {
      "cell_type": "code",
      "source": [
        "adata.condit"
      ],
      "metadata": {
        "colab": {
          "base_uri": "https://localhost:8080/",
          "height": 488
        },
        "id": "2KgQdLE8lZdv",
        "outputId": "efdcc451-7e87-4658-be42-c5bd46c25d02"
      },
      "execution_count": 16,
      "outputs": [
        {
          "output_type": "execute_result",
          "data": {
            "text/plain": [
              "      replicate  time\n",
              "index                \n",
              "T08A          A     8\n",
              "T08B          B     8\n",
              "T08C          C     8\n",
              "T12A          A    12\n",
              "T12B          B    12\n",
              "T12C          C    12\n",
              "T15A          A    15\n",
              "T15B          B    15\n",
              "T15C          C    15\n",
              "T18A          A    18\n",
              "T18B          B    18\n",
              "T18C          C    18\n",
              "T0            0    -1"
            ],
            "text/html": [
              "\n",
              "  <div id=\"df-59297db1-8e05-4172-8a8a-9552921dcd3a\">\n",
              "    <div class=\"colab-df-container\">\n",
              "      <div>\n",
              "<style scoped>\n",
              "    .dataframe tbody tr th:only-of-type {\n",
              "        vertical-align: middle;\n",
              "    }\n",
              "\n",
              "    .dataframe tbody tr th {\n",
              "        vertical-align: top;\n",
              "    }\n",
              "\n",
              "    .dataframe thead th {\n",
              "        text-align: right;\n",
              "    }\n",
              "</style>\n",
              "<table border=\"1\" class=\"dataframe\">\n",
              "  <thead>\n",
              "    <tr style=\"text-align: right;\">\n",
              "      <th></th>\n",
              "      <th>replicate</th>\n",
              "      <th>time</th>\n",
              "    </tr>\n",
              "    <tr>\n",
              "      <th>index</th>\n",
              "      <th></th>\n",
              "      <th></th>\n",
              "    </tr>\n",
              "  </thead>\n",
              "  <tbody>\n",
              "    <tr>\n",
              "      <th>T08A</th>\n",
              "      <td>A</td>\n",
              "      <td>8</td>\n",
              "    </tr>\n",
              "    <tr>\n",
              "      <th>T08B</th>\n",
              "      <td>B</td>\n",
              "      <td>8</td>\n",
              "    </tr>\n",
              "    <tr>\n",
              "      <th>T08C</th>\n",
              "      <td>C</td>\n",
              "      <td>8</td>\n",
              "    </tr>\n",
              "    <tr>\n",
              "      <th>T12A</th>\n",
              "      <td>A</td>\n",
              "      <td>12</td>\n",
              "    </tr>\n",
              "    <tr>\n",
              "      <th>T12B</th>\n",
              "      <td>B</td>\n",
              "      <td>12</td>\n",
              "    </tr>\n",
              "    <tr>\n",
              "      <th>T12C</th>\n",
              "      <td>C</td>\n",
              "      <td>12</td>\n",
              "    </tr>\n",
              "    <tr>\n",
              "      <th>T15A</th>\n",
              "      <td>A</td>\n",
              "      <td>15</td>\n",
              "    </tr>\n",
              "    <tr>\n",
              "      <th>T15B</th>\n",
              "      <td>B</td>\n",
              "      <td>15</td>\n",
              "    </tr>\n",
              "    <tr>\n",
              "      <th>T15C</th>\n",
              "      <td>C</td>\n",
              "      <td>15</td>\n",
              "    </tr>\n",
              "    <tr>\n",
              "      <th>T18A</th>\n",
              "      <td>A</td>\n",
              "      <td>18</td>\n",
              "    </tr>\n",
              "    <tr>\n",
              "      <th>T18B</th>\n",
              "      <td>B</td>\n",
              "      <td>18</td>\n",
              "    </tr>\n",
              "    <tr>\n",
              "      <th>T18C</th>\n",
              "      <td>C</td>\n",
              "      <td>18</td>\n",
              "    </tr>\n",
              "    <tr>\n",
              "      <th>T0</th>\n",
              "      <td>0</td>\n",
              "      <td>-1</td>\n",
              "    </tr>\n",
              "  </tbody>\n",
              "</table>\n",
              "</div>\n",
              "      <button class=\"colab-df-convert\" onclick=\"convertToInteractive('df-59297db1-8e05-4172-8a8a-9552921dcd3a')\"\n",
              "              title=\"Convert this dataframe to an interactive table.\"\n",
              "              style=\"display:none;\">\n",
              "        \n",
              "  <svg xmlns=\"http://www.w3.org/2000/svg\" height=\"24px\"viewBox=\"0 0 24 24\"\n",
              "       width=\"24px\">\n",
              "    <path d=\"M0 0h24v24H0V0z\" fill=\"none\"/>\n",
              "    <path d=\"M18.56 5.44l.94 2.06.94-2.06 2.06-.94-2.06-.94-.94-2.06-.94 2.06-2.06.94zm-11 1L8.5 8.5l.94-2.06 2.06-.94-2.06-.94L8.5 2.5l-.94 2.06-2.06.94zm10 10l.94 2.06.94-2.06 2.06-.94-2.06-.94-.94-2.06-.94 2.06-2.06.94z\"/><path d=\"M17.41 7.96l-1.37-1.37c-.4-.4-.92-.59-1.43-.59-.52 0-1.04.2-1.43.59L10.3 9.45l-7.72 7.72c-.78.78-.78 2.05 0 2.83L4 21.41c.39.39.9.59 1.41.59.51 0 1.02-.2 1.41-.59l7.78-7.78 2.81-2.81c.8-.78.8-2.07 0-2.86zM5.41 20L4 18.59l7.72-7.72 1.47 1.35L5.41 20z\"/>\n",
              "  </svg>\n",
              "      </button>\n",
              "      \n",
              "  <style>\n",
              "    .colab-df-container {\n",
              "      display:flex;\n",
              "      flex-wrap:wrap;\n",
              "      gap: 12px;\n",
              "    }\n",
              "\n",
              "    .colab-df-convert {\n",
              "      background-color: #E8F0FE;\n",
              "      border: none;\n",
              "      border-radius: 50%;\n",
              "      cursor: pointer;\n",
              "      display: none;\n",
              "      fill: #1967D2;\n",
              "      height: 32px;\n",
              "      padding: 0 0 0 0;\n",
              "      width: 32px;\n",
              "    }\n",
              "\n",
              "    .colab-df-convert:hover {\n",
              "      background-color: #E2EBFA;\n",
              "      box-shadow: 0px 1px 2px rgba(60, 64, 67, 0.3), 0px 1px 3px 1px rgba(60, 64, 67, 0.15);\n",
              "      fill: #174EA6;\n",
              "    }\n",
              "\n",
              "    [theme=dark] .colab-df-convert {\n",
              "      background-color: #3B4455;\n",
              "      fill: #D2E3FC;\n",
              "    }\n",
              "\n",
              "    [theme=dark] .colab-df-convert:hover {\n",
              "      background-color: #434B5C;\n",
              "      box-shadow: 0px 1px 3px 1px rgba(0, 0, 0, 0.15);\n",
              "      filter: drop-shadow(0px 1px 2px rgba(0, 0, 0, 0.3));\n",
              "      fill: #FFFFFF;\n",
              "    }\n",
              "  </style>\n",
              "\n",
              "      <script>\n",
              "        const buttonEl =\n",
              "          document.querySelector('#df-59297db1-8e05-4172-8a8a-9552921dcd3a button.colab-df-convert');\n",
              "        buttonEl.style.display =\n",
              "          google.colab.kernel.accessAllowed ? 'block' : 'none';\n",
              "\n",
              "        async function convertToInteractive(key) {\n",
              "          const element = document.querySelector('#df-59297db1-8e05-4172-8a8a-9552921dcd3a');\n",
              "          const dataTable =\n",
              "            await google.colab.kernel.invokeFunction('convertToInteractive',\n",
              "                                                     [key], {});\n",
              "          if (!dataTable) return;\n",
              "\n",
              "          const docLinkHtml = 'Like what you see? Visit the ' +\n",
              "            '<a target=\"_blank\" href=https://colab.research.google.com/notebooks/data_table.ipynb>data table notebook</a>'\n",
              "            + ' to learn more about interactive tables.';\n",
              "          element.innerHTML = '';\n",
              "          dataTable['output_type'] = 'display_data';\n",
              "          await google.colab.output.renderOutput(dataTable, element);\n",
              "          const docLink = document.createElement('div');\n",
              "          docLink.innerHTML = docLinkHtml;\n",
              "          element.appendChild(docLink);\n",
              "        }\n",
              "      </script>\n",
              "    </div>\n",
              "  </div>\n",
              "  "
            ]
          },
          "metadata": {},
          "execution_count": 16
        }
      ]
    },
    {
      "cell_type": "markdown",
      "source": [
        "### Slicing"
      ],
      "metadata": {
        "id": "fNuGg75plK1Z"
      }
    },
    {
      "cell_type": "code",
      "source": [
        "adata_cut = adata[adata.guides.GENE == \"A1BG\", :]\n",
        "adata_cut"
      ],
      "metadata": {
        "id": "L8CYibLed6Z6",
        "colab": {
          "base_uri": "https://localhost:8080/"
        },
        "outputId": "b163bb2c-21cc-43ee-919c-faae35497118"
      },
      "execution_count": 17,
      "outputs": [
        {
          "output_type": "execute_result",
          "data": {
            "text/plain": [
              "Genome Editing Screen comprised of n_guides x n_conditions = 6 x 13\n",
              "   guides:    'name', 'GENE'\n",
              "   condit:    'replicate', 'time'\n",
              "   condit_m:  \n",
              "   condit_p:  \n",
              "   layers:    \n",
              "   uns:       "
            ]
          },
          "metadata": {},
          "execution_count": 17
        }
      ]
    },
    {
      "cell_type": "code",
      "source": [
        "adata_t8 = adata[:, adata.condit.time == 8]\n",
        "adata_t8"
      ],
      "metadata": {
        "id": "AyQ-e_nlc1x0",
        "colab": {
          "base_uri": "https://localhost:8080/"
        },
        "outputId": "c162a6cb-3464-45a0-c0c2-e53ef2b11217"
      },
      "execution_count": 18,
      "outputs": [
        {
          "output_type": "execute_result",
          "data": {
            "text/plain": [
              "Genome Editing Screen comprised of n_guides x n_conditions = 91320 x 3\n",
              "   guides:    'name', 'GENE'\n",
              "   condit:    'replicate', 'time'\n",
              "   condit_m:  \n",
              "   condit_p:  \n",
              "   layers:    \n",
              "   uns:       "
            ]
          },
          "metadata": {},
          "execution_count": 18
        }
      ]
    },
    {
      "cell_type": "markdown",
      "source": [
        "### Writing"
      ],
      "metadata": {
        "id": "qv1dFsOVllJB"
      }
    },
    {
      "cell_type": "code",
      "source": [
        "adata.write(\"HeLa_lib1.h5ad\")"
      ],
      "metadata": {
        "id": "lCw4Wh3ilig2"
      },
      "execution_count": 19,
      "outputs": []
    },
    {
      "cell_type": "code",
      "source": [
        "adata_ann = ad.read_h5ad(\"HeLa_lib1.h5ad\")\n",
        "adata_pt = pt.Screen.from_adata(adata_ann)"
      ],
      "metadata": {
        "id": "T5Yp0AlZNtV3"
      },
      "execution_count": 20,
      "outputs": []
    },
    {
      "cell_type": "markdown",
      "source": [
        "Compatible with .h5ad file output of AnnData."
      ],
      "metadata": {
        "id": "le-C2smp3W3C"
      }
    },
    {
      "cell_type": "code",
      "source": [
        "adata = pt._framework._ScreenModule.read_h5ad(\"HeLa_lib1.h5ad\")"
      ],
      "metadata": {
        "id": "NdYEj5mb3UWT"
      },
      "execution_count": 21,
      "outputs": []
    },
    {
      "cell_type": "markdown",
      "source": [
        "## Arithmetic"
      ],
      "metadata": {
        "id": "NPtzel9_3fSd"
      }
    },
    {
      "cell_type": "markdown",
      "source": [
        "### Adding\n",
        "If the guide and conditions are exactly the same, objects can be added (ex. technical replicates)."
      ],
      "metadata": {
        "id": "xuYFQko_3iWk"
      }
    },
    {
      "cell_type": "code",
      "source": [
        "adata + adata"
      ],
      "metadata": {
        "colab": {
          "base_uri": "https://localhost:8080/"
        },
        "id": "mMzkKcz43a0N",
        "outputId": "08903c0a-b418-488a-d45d-d750f98d6031"
      },
      "execution_count": 22,
      "outputs": [
        {
          "output_type": "execute_result",
          "data": {
            "text/plain": [
              "Genome Editing Screen comprised of n_guides x n_conditions = 91320 x 13\n",
              "   guides:    'name', 'GENE'\n",
              "   condit:    'replicate', 'time'\n",
              "   condit_m:  \n",
              "   condit_p:  \n",
              "   layers:    \n",
              "   uns:       "
            ]
          },
          "metadata": {},
          "execution_count": 22
        }
      ]
    },
    {
      "cell_type": "markdown",
      "source": [
        "### Concatenating\n",
        "Biological replicates can be concatenated along 'condit' axis."
      ],
      "metadata": {
        "id": "MOyVP4G53sGM"
      }
    },
    {
      "cell_type": "code",
      "source": [
        "pt.concat((adata, adata))"
      ],
      "metadata": {
        "colab": {
          "base_uri": "https://localhost:8080/"
        },
        "id": "OEZgHmPs3qk_",
        "outputId": "3f8e74f8-d1e8-4456-99d6-48d512e5dfd5"
      },
      "execution_count": 23,
      "outputs": [
        {
          "output_type": "stream",
          "name": "stderr",
          "text": [
            "/usr/local/lib/python3.7/dist-packages/anndata/_core/anndata.py:1828: UserWarning: Observation names are not unique. To make them unique, call `.obs_names_make_unique`.\n",
            "  utils.warn_names_duplicates(\"obs\")\n"
          ]
        },
        {
          "output_type": "execute_result",
          "data": {
            "text/plain": [
              "Genome Editing Screen comprised of n_guides x n_conditions = 182640 x 13\n",
              "   guides:    'name', 'GENE'\n",
              "   condit:    \n",
              "   condit_m:  \n",
              "   condit_p:  \n",
              "   layers:    \n",
              "   uns:       "
            ]
          },
          "metadata": {},
          "execution_count": 23
        }
      ]
    },
    {
      "cell_type": "markdown",
      "source": [
        "## Normalization & LFC calculation"
      ],
      "metadata": {
        "id": "m1ksPqAL31cj"
      }
    },
    {
      "cell_type": "code",
      "source": [
        "adata.log_norm()\n",
        "adata"
      ],
      "metadata": {
        "colab": {
          "base_uri": "https://localhost:8080/"
        },
        "id": "1b1gBlKR34uy",
        "outputId": "ad3d6004-22da-4ccb-e520-ee0b1d6d6568"
      },
      "execution_count": 24,
      "outputs": [
        {
          "output_type": "execute_result",
          "data": {
            "text/plain": [
              "Genome Editing Screen comprised of n_guides x n_conditions = 91320 x 13\n",
              "   guides:    'name', 'GENE'\n",
              "   condit:    'replicate', 'time'\n",
              "   condit_m:  \n",
              "   condit_p:  \n",
              "   layers:    'lognorm_counts'\n",
              "   uns:       "
            ]
          },
          "metadata": {},
          "execution_count": 24
        }
      ]
    },
    {
      "cell_type": "code",
      "source": [
        "adata.layers['lognorm_counts']"
      ],
      "metadata": {
        "colab": {
          "base_uri": "https://localhost:8080/"
        },
        "id": "pYzxbYwHQ7ct",
        "outputId": "e8937a69-22b5-4710-cdb7-8315b85efea5"
      },
      "execution_count": 25,
      "outputs": [
        {
          "output_type": "execute_result",
          "data": {
            "text/plain": [
              "array([[3.8361688 , 3.723453  , 4.3636794 , ..., 2.0999844 , 4.0123653 ,\n",
              "        3.575257  ],\n",
              "       [1.5709194 , 0.0759054 , 0.        , ..., 0.09367192, 1.8715795 ,\n",
              "        2.5751176 ],\n",
              "       [3.4906108 , 3.6632092 , 4.1305914 , ..., 4.1514244 , 3.8833196 ,\n",
              "        3.2405565 ],\n",
              "       ...,\n",
              "       [4.508811  , 4.7482824 , 3.942206  , ..., 4.536323  , 4.374373  ,\n",
              "        3.8255777 ],\n",
              "       [2.3662837 , 1.8879594 , 0.65947205, ..., 1.5252234 , 1.1218393 ,\n",
              "        0.0974056 ],\n",
              "       [2.292497  , 2.8505118 , 3.0931478 , ..., 2.6084018 , 2.835301  ,\n",
              "        3.3334548 ]], dtype=float32)"
            ]
          },
          "metadata": {},
          "execution_count": 25
        }
      ]
    },
    {
      "cell_type": "markdown",
      "source": [
        "Calculating the LFC between T=18 vs T=8"
      ],
      "metadata": {
        "id": "04x17ASQ4HgC"
      }
    },
    {
      "cell_type": "code",
      "source": [
        "adata.log_fold_change(\"T18A\", \"T08A\")"
      ],
      "metadata": {
        "id": "Ob9VVqJc4jOI"
      },
      "execution_count": 26,
      "outputs": []
    },
    {
      "cell_type": "code",
      "source": [
        "adata.guides"
      ],
      "metadata": {
        "colab": {
          "base_uri": "https://localhost:8080/",
          "height": 423
        },
        "id": "1xNJpizMRA-t",
        "outputId": "42dbce42-876e-4caa-e9cb-5be82dcd7067"
      },
      "execution_count": 27,
      "outputs": [
        {
          "output_type": "execute_result",
          "data": {
            "text/plain": [
              "                                  name        GENE  T18A_T08A.lfc\n",
              "0            A1BG_CACCTTCGAGCTGCTGCGCG        A1BG      -0.341631\n",
              "1            A1BG_AAGAGCGCCTCGGTCCCAGC        A1BG      -1.570919\n",
              "2            A1BG_TGGACTTCCAGCTACGGCGC        A1BG      -0.060601\n",
              "3            A1BG_CACTGGCGCCATCGAGAGCC        A1BG      -0.279657\n",
              "4            A1BG_GCTCGGGCTTGTCCACAGGA        A1BG       0.912809\n",
              "...                                ...         ...            ...\n",
              "91315  luciferase_CCTCTAGAGGATGGAACCGC  luciferase       0.946176\n",
              "91316  luciferase_ACAACTTTACCGACCGCGCC  luciferase       0.848200\n",
              "91317  luciferase_CTTGTCGTATCCCTGGAAGA  luciferase       0.026325\n",
              "91318  luciferase_GGCTATGAAGAGATACGCCC  luciferase      -1.009472\n",
              "91319  luciferase_GGCATGCGAGAATCTGACGC  luciferase      -1.882514\n",
              "\n",
              "[91320 rows x 3 columns]"
            ],
            "text/html": [
              "\n",
              "  <div id=\"df-8c7a5cdb-079a-4f17-9aab-51753c4678cc\">\n",
              "    <div class=\"colab-df-container\">\n",
              "      <div>\n",
              "<style scoped>\n",
              "    .dataframe tbody tr th:only-of-type {\n",
              "        vertical-align: middle;\n",
              "    }\n",
              "\n",
              "    .dataframe tbody tr th {\n",
              "        vertical-align: top;\n",
              "    }\n",
              "\n",
              "    .dataframe thead th {\n",
              "        text-align: right;\n",
              "    }\n",
              "</style>\n",
              "<table border=\"1\" class=\"dataframe\">\n",
              "  <thead>\n",
              "    <tr style=\"text-align: right;\">\n",
              "      <th></th>\n",
              "      <th>name</th>\n",
              "      <th>GENE</th>\n",
              "      <th>T18A_T08A.lfc</th>\n",
              "    </tr>\n",
              "  </thead>\n",
              "  <tbody>\n",
              "    <tr>\n",
              "      <th>0</th>\n",
              "      <td>A1BG_CACCTTCGAGCTGCTGCGCG</td>\n",
              "      <td>A1BG</td>\n",
              "      <td>-0.341631</td>\n",
              "    </tr>\n",
              "    <tr>\n",
              "      <th>1</th>\n",
              "      <td>A1BG_AAGAGCGCCTCGGTCCCAGC</td>\n",
              "      <td>A1BG</td>\n",
              "      <td>-1.570919</td>\n",
              "    </tr>\n",
              "    <tr>\n",
              "      <th>2</th>\n",
              "      <td>A1BG_TGGACTTCCAGCTACGGCGC</td>\n",
              "      <td>A1BG</td>\n",
              "      <td>-0.060601</td>\n",
              "    </tr>\n",
              "    <tr>\n",
              "      <th>3</th>\n",
              "      <td>A1BG_CACTGGCGCCATCGAGAGCC</td>\n",
              "      <td>A1BG</td>\n",
              "      <td>-0.279657</td>\n",
              "    </tr>\n",
              "    <tr>\n",
              "      <th>4</th>\n",
              "      <td>A1BG_GCTCGGGCTTGTCCACAGGA</td>\n",
              "      <td>A1BG</td>\n",
              "      <td>0.912809</td>\n",
              "    </tr>\n",
              "    <tr>\n",
              "      <th>...</th>\n",
              "      <td>...</td>\n",
              "      <td>...</td>\n",
              "      <td>...</td>\n",
              "    </tr>\n",
              "    <tr>\n",
              "      <th>91315</th>\n",
              "      <td>luciferase_CCTCTAGAGGATGGAACCGC</td>\n",
              "      <td>luciferase</td>\n",
              "      <td>0.946176</td>\n",
              "    </tr>\n",
              "    <tr>\n",
              "      <th>91316</th>\n",
              "      <td>luciferase_ACAACTTTACCGACCGCGCC</td>\n",
              "      <td>luciferase</td>\n",
              "      <td>0.848200</td>\n",
              "    </tr>\n",
              "    <tr>\n",
              "      <th>91317</th>\n",
              "      <td>luciferase_CTTGTCGTATCCCTGGAAGA</td>\n",
              "      <td>luciferase</td>\n",
              "      <td>0.026325</td>\n",
              "    </tr>\n",
              "    <tr>\n",
              "      <th>91318</th>\n",
              "      <td>luciferase_GGCTATGAAGAGATACGCCC</td>\n",
              "      <td>luciferase</td>\n",
              "      <td>-1.009472</td>\n",
              "    </tr>\n",
              "    <tr>\n",
              "      <th>91319</th>\n",
              "      <td>luciferase_GGCATGCGAGAATCTGACGC</td>\n",
              "      <td>luciferase</td>\n",
              "      <td>-1.882514</td>\n",
              "    </tr>\n",
              "  </tbody>\n",
              "</table>\n",
              "<p>91320 rows × 3 columns</p>\n",
              "</div>\n",
              "      <button class=\"colab-df-convert\" onclick=\"convertToInteractive('df-8c7a5cdb-079a-4f17-9aab-51753c4678cc')\"\n",
              "              title=\"Convert this dataframe to an interactive table.\"\n",
              "              style=\"display:none;\">\n",
              "        \n",
              "  <svg xmlns=\"http://www.w3.org/2000/svg\" height=\"24px\"viewBox=\"0 0 24 24\"\n",
              "       width=\"24px\">\n",
              "    <path d=\"M0 0h24v24H0V0z\" fill=\"none\"/>\n",
              "    <path d=\"M18.56 5.44l.94 2.06.94-2.06 2.06-.94-2.06-.94-.94-2.06-.94 2.06-2.06.94zm-11 1L8.5 8.5l.94-2.06 2.06-.94-2.06-.94L8.5 2.5l-.94 2.06-2.06.94zm10 10l.94 2.06.94-2.06 2.06-.94-2.06-.94-.94-2.06-.94 2.06-2.06.94z\"/><path d=\"M17.41 7.96l-1.37-1.37c-.4-.4-.92-.59-1.43-.59-.52 0-1.04.2-1.43.59L10.3 9.45l-7.72 7.72c-.78.78-.78 2.05 0 2.83L4 21.41c.39.39.9.59 1.41.59.51 0 1.02-.2 1.41-.59l7.78-7.78 2.81-2.81c.8-.78.8-2.07 0-2.86zM5.41 20L4 18.59l7.72-7.72 1.47 1.35L5.41 20z\"/>\n",
              "  </svg>\n",
              "      </button>\n",
              "      \n",
              "  <style>\n",
              "    .colab-df-container {\n",
              "      display:flex;\n",
              "      flex-wrap:wrap;\n",
              "      gap: 12px;\n",
              "    }\n",
              "\n",
              "    .colab-df-convert {\n",
              "      background-color: #E8F0FE;\n",
              "      border: none;\n",
              "      border-radius: 50%;\n",
              "      cursor: pointer;\n",
              "      display: none;\n",
              "      fill: #1967D2;\n",
              "      height: 32px;\n",
              "      padding: 0 0 0 0;\n",
              "      width: 32px;\n",
              "    }\n",
              "\n",
              "    .colab-df-convert:hover {\n",
              "      background-color: #E2EBFA;\n",
              "      box-shadow: 0px 1px 2px rgba(60, 64, 67, 0.3), 0px 1px 3px 1px rgba(60, 64, 67, 0.15);\n",
              "      fill: #174EA6;\n",
              "    }\n",
              "\n",
              "    [theme=dark] .colab-df-convert {\n",
              "      background-color: #3B4455;\n",
              "      fill: #D2E3FC;\n",
              "    }\n",
              "\n",
              "    [theme=dark] .colab-df-convert:hover {\n",
              "      background-color: #434B5C;\n",
              "      box-shadow: 0px 1px 3px 1px rgba(0, 0, 0, 0.15);\n",
              "      filter: drop-shadow(0px 1px 2px rgba(0, 0, 0, 0.3));\n",
              "      fill: #FFFFFF;\n",
              "    }\n",
              "  </style>\n",
              "\n",
              "      <script>\n",
              "        const buttonEl =\n",
              "          document.querySelector('#df-8c7a5cdb-079a-4f17-9aab-51753c4678cc button.colab-df-convert');\n",
              "        buttonEl.style.display =\n",
              "          google.colab.kernel.accessAllowed ? 'block' : 'none';\n",
              "\n",
              "        async function convertToInteractive(key) {\n",
              "          const element = document.querySelector('#df-8c7a5cdb-079a-4f17-9aab-51753c4678cc');\n",
              "          const dataTable =\n",
              "            await google.colab.kernel.invokeFunction('convertToInteractive',\n",
              "                                                     [key], {});\n",
              "          if (!dataTable) return;\n",
              "\n",
              "          const docLinkHtml = 'Like what you see? Visit the ' +\n",
              "            '<a target=\"_blank\" href=https://colab.research.google.com/notebooks/data_table.ipynb>data table notebook</a>'\n",
              "            + ' to learn more about interactive tables.';\n",
              "          element.innerHTML = '';\n",
              "          dataTable['output_type'] = 'display_data';\n",
              "          await google.colab.output.renderOutput(dataTable, element);\n",
              "          const docLink = document.createElement('div');\n",
              "          docLink.innerHTML = docLinkHtml;\n",
              "          element.appendChild(docLink);\n",
              "        }\n",
              "      </script>\n",
              "    </div>\n",
              "  </div>\n",
              "  "
            ]
          },
          "metadata": {},
          "execution_count": 27
        }
      ]
    },
    {
      "cell_type": "markdown",
      "source": [
        "Calculating the T=18 vs T=8 across all replicates"
      ],
      "metadata": {
        "id": "eQniOfh_4zdi"
      }
    },
    {
      "cell_type": "code",
      "source": [
        "adata_t = adata[:, adata.condit.replicate != \"0\"]"
      ],
      "metadata": {
        "id": "afAxBGYeRfP-"
      },
      "execution_count": 28,
      "outputs": []
    },
    {
      "cell_type": "code",
      "source": [
        "adata_t.log_fold_change_reps(18, 8, rep_condit=\"replicate\", compare_condit=\"time\")"
      ],
      "metadata": {
        "colab": {
          "base_uri": "https://localhost:8080/",
          "height": 423
        },
        "id": "3St896ZL4Z-7",
        "outputId": "36ebf72c-e8d7-400f-8b59-3e83ef5bf294"
      },
      "execution_count": 29,
      "outputs": [
        {
          "output_type": "execute_result",
          "data": {
            "text/plain": [
              "       A.18_8.lfc  B.18_8.lfc  C.18_8.lfc\n",
              "0       -0.341631   -1.623469   -0.351314\n",
              "1       -1.570919    0.017767    1.871580\n",
              "2       -0.060601    0.488215   -0.247272\n",
              "3       -0.279657    0.893938    0.169553\n",
              "4        0.912809    1.240354    0.766471\n",
              "...           ...         ...         ...\n",
              "91315    0.946176    0.096584    0.677010\n",
              "91316    0.848200    2.029430    0.480280\n",
              "91317    0.026325   -0.211959    0.432167\n",
              "91318   -1.009472   -0.362736    0.462367\n",
              "91319   -1.882514   -0.242110   -0.257847\n",
              "\n",
              "[91320 rows x 3 columns]"
            ],
            "text/html": [
              "\n",
              "  <div id=\"df-cf3c5c70-2262-4ff8-8339-4f9810861ab8\">\n",
              "    <div class=\"colab-df-container\">\n",
              "      <div>\n",
              "<style scoped>\n",
              "    .dataframe tbody tr th:only-of-type {\n",
              "        vertical-align: middle;\n",
              "    }\n",
              "\n",
              "    .dataframe tbody tr th {\n",
              "        vertical-align: top;\n",
              "    }\n",
              "\n",
              "    .dataframe thead th {\n",
              "        text-align: right;\n",
              "    }\n",
              "</style>\n",
              "<table border=\"1\" class=\"dataframe\">\n",
              "  <thead>\n",
              "    <tr style=\"text-align: right;\">\n",
              "      <th></th>\n",
              "      <th>A.18_8.lfc</th>\n",
              "      <th>B.18_8.lfc</th>\n",
              "      <th>C.18_8.lfc</th>\n",
              "    </tr>\n",
              "  </thead>\n",
              "  <tbody>\n",
              "    <tr>\n",
              "      <th>0</th>\n",
              "      <td>-0.341631</td>\n",
              "      <td>-1.623469</td>\n",
              "      <td>-0.351314</td>\n",
              "    </tr>\n",
              "    <tr>\n",
              "      <th>1</th>\n",
              "      <td>-1.570919</td>\n",
              "      <td>0.017767</td>\n",
              "      <td>1.871580</td>\n",
              "    </tr>\n",
              "    <tr>\n",
              "      <th>2</th>\n",
              "      <td>-0.060601</td>\n",
              "      <td>0.488215</td>\n",
              "      <td>-0.247272</td>\n",
              "    </tr>\n",
              "    <tr>\n",
              "      <th>3</th>\n",
              "      <td>-0.279657</td>\n",
              "      <td>0.893938</td>\n",
              "      <td>0.169553</td>\n",
              "    </tr>\n",
              "    <tr>\n",
              "      <th>4</th>\n",
              "      <td>0.912809</td>\n",
              "      <td>1.240354</td>\n",
              "      <td>0.766471</td>\n",
              "    </tr>\n",
              "    <tr>\n",
              "      <th>...</th>\n",
              "      <td>...</td>\n",
              "      <td>...</td>\n",
              "      <td>...</td>\n",
              "    </tr>\n",
              "    <tr>\n",
              "      <th>91315</th>\n",
              "      <td>0.946176</td>\n",
              "      <td>0.096584</td>\n",
              "      <td>0.677010</td>\n",
              "    </tr>\n",
              "    <tr>\n",
              "      <th>91316</th>\n",
              "      <td>0.848200</td>\n",
              "      <td>2.029430</td>\n",
              "      <td>0.480280</td>\n",
              "    </tr>\n",
              "    <tr>\n",
              "      <th>91317</th>\n",
              "      <td>0.026325</td>\n",
              "      <td>-0.211959</td>\n",
              "      <td>0.432167</td>\n",
              "    </tr>\n",
              "    <tr>\n",
              "      <th>91318</th>\n",
              "      <td>-1.009472</td>\n",
              "      <td>-0.362736</td>\n",
              "      <td>0.462367</td>\n",
              "    </tr>\n",
              "    <tr>\n",
              "      <th>91319</th>\n",
              "      <td>-1.882514</td>\n",
              "      <td>-0.242110</td>\n",
              "      <td>-0.257847</td>\n",
              "    </tr>\n",
              "  </tbody>\n",
              "</table>\n",
              "<p>91320 rows × 3 columns</p>\n",
              "</div>\n",
              "      <button class=\"colab-df-convert\" onclick=\"convertToInteractive('df-cf3c5c70-2262-4ff8-8339-4f9810861ab8')\"\n",
              "              title=\"Convert this dataframe to an interactive table.\"\n",
              "              style=\"display:none;\">\n",
              "        \n",
              "  <svg xmlns=\"http://www.w3.org/2000/svg\" height=\"24px\"viewBox=\"0 0 24 24\"\n",
              "       width=\"24px\">\n",
              "    <path d=\"M0 0h24v24H0V0z\" fill=\"none\"/>\n",
              "    <path d=\"M18.56 5.44l.94 2.06.94-2.06 2.06-.94-2.06-.94-.94-2.06-.94 2.06-2.06.94zm-11 1L8.5 8.5l.94-2.06 2.06-.94-2.06-.94L8.5 2.5l-.94 2.06-2.06.94zm10 10l.94 2.06.94-2.06 2.06-.94-2.06-.94-.94-2.06-.94 2.06-2.06.94z\"/><path d=\"M17.41 7.96l-1.37-1.37c-.4-.4-.92-.59-1.43-.59-.52 0-1.04.2-1.43.59L10.3 9.45l-7.72 7.72c-.78.78-.78 2.05 0 2.83L4 21.41c.39.39.9.59 1.41.59.51 0 1.02-.2 1.41-.59l7.78-7.78 2.81-2.81c.8-.78.8-2.07 0-2.86zM5.41 20L4 18.59l7.72-7.72 1.47 1.35L5.41 20z\"/>\n",
              "  </svg>\n",
              "      </button>\n",
              "      \n",
              "  <style>\n",
              "    .colab-df-container {\n",
              "      display:flex;\n",
              "      flex-wrap:wrap;\n",
              "      gap: 12px;\n",
              "    }\n",
              "\n",
              "    .colab-df-convert {\n",
              "      background-color: #E8F0FE;\n",
              "      border: none;\n",
              "      border-radius: 50%;\n",
              "      cursor: pointer;\n",
              "      display: none;\n",
              "      fill: #1967D2;\n",
              "      height: 32px;\n",
              "      padding: 0 0 0 0;\n",
              "      width: 32px;\n",
              "    }\n",
              "\n",
              "    .colab-df-convert:hover {\n",
              "      background-color: #E2EBFA;\n",
              "      box-shadow: 0px 1px 2px rgba(60, 64, 67, 0.3), 0px 1px 3px 1px rgba(60, 64, 67, 0.15);\n",
              "      fill: #174EA6;\n",
              "    }\n",
              "\n",
              "    [theme=dark] .colab-df-convert {\n",
              "      background-color: #3B4455;\n",
              "      fill: #D2E3FC;\n",
              "    }\n",
              "\n",
              "    [theme=dark] .colab-df-convert:hover {\n",
              "      background-color: #434B5C;\n",
              "      box-shadow: 0px 1px 3px 1px rgba(0, 0, 0, 0.15);\n",
              "      filter: drop-shadow(0px 1px 2px rgba(0, 0, 0, 0.3));\n",
              "      fill: #FFFFFF;\n",
              "    }\n",
              "  </style>\n",
              "\n",
              "      <script>\n",
              "        const buttonEl =\n",
              "          document.querySelector('#df-cf3c5c70-2262-4ff8-8339-4f9810861ab8 button.colab-df-convert');\n",
              "        buttonEl.style.display =\n",
              "          google.colab.kernel.accessAllowed ? 'block' : 'none';\n",
              "\n",
              "        async function convertToInteractive(key) {\n",
              "          const element = document.querySelector('#df-cf3c5c70-2262-4ff8-8339-4f9810861ab8');\n",
              "          const dataTable =\n",
              "            await google.colab.kernel.invokeFunction('convertToInteractive',\n",
              "                                                     [key], {});\n",
              "          if (!dataTable) return;\n",
              "\n",
              "          const docLinkHtml = 'Like what you see? Visit the ' +\n",
              "            '<a target=\"_blank\" href=https://colab.research.google.com/notebooks/data_table.ipynb>data table notebook</a>'\n",
              "            + ' to learn more about interactive tables.';\n",
              "          element.innerHTML = '';\n",
              "          dataTable['output_type'] = 'display_data';\n",
              "          await google.colab.output.renderOutput(dataTable, element);\n",
              "          const docLink = document.createElement('div');\n",
              "          docLink.innerHTML = docLinkHtml;\n",
              "          element.appendChild(docLink);\n",
              "        }\n",
              "      </script>\n",
              "    </div>\n",
              "  </div>\n",
              "  "
            ]
          },
          "metadata": {},
          "execution_count": 29
        }
      ]
    },
    {
      "cell_type": "markdown",
      "source": [
        "Aggregate the LFCs based on `aggregate_fn [median, mean, sd]`."
      ],
      "metadata": {
        "id": "IlIkCVCa4_gV"
      }
    },
    {
      "cell_type": "code",
      "source": [
        "adata_t.log_fold_change_aggregate(8, 18, aggregate_condit=\"replicate\", compare_condit=\"time\", aggregate_fn = \"median\")"
      ],
      "metadata": {
        "id": "OpBvl2Ns38q-"
      },
      "execution_count": 30,
      "outputs": []
    },
    {
      "cell_type": "code",
      "source": [
        "adata_t.guides"
      ],
      "metadata": {
        "colab": {
          "base_uri": "https://localhost:8080/",
          "height": 423
        },
        "id": "9usQ-rnzUAbW",
        "outputId": "3eb081c9-ef82-4f84-90bb-878566a1c1b9"
      },
      "execution_count": 31,
      "outputs": [
        {
          "output_type": "execute_result",
          "data": {
            "text/plain": [
              "                                  name        GENE  T18A_T08A.lfc  \\\n",
              "0            A1BG_CACCTTCGAGCTGCTGCGCG        A1BG      -0.341631   \n",
              "1            A1BG_AAGAGCGCCTCGGTCCCAGC        A1BG      -1.570919   \n",
              "2            A1BG_TGGACTTCCAGCTACGGCGC        A1BG      -0.060601   \n",
              "3            A1BG_CACTGGCGCCATCGAGAGCC        A1BG      -0.279657   \n",
              "4            A1BG_GCTCGGGCTTGTCCACAGGA        A1BG       0.912809   \n",
              "...                                ...         ...            ...   \n",
              "91315  luciferase_CCTCTAGAGGATGGAACCGC  luciferase       0.946176   \n",
              "91316  luciferase_ACAACTTTACCGACCGCGCC  luciferase       0.848200   \n",
              "91317  luciferase_CTTGTCGTATCCCTGGAAGA  luciferase       0.026325   \n",
              "91318  luciferase_GGCTATGAAGAGATACGCCC  luciferase      -1.009472   \n",
              "91319  luciferase_GGCATGCGAGAATCTGACGC  luciferase      -1.882514   \n",
              "\n",
              "       8_18.lfc.median  \n",
              "0             0.351314  \n",
              "1            -0.017767  \n",
              "2             0.060601  \n",
              "3            -0.169553  \n",
              "4            -0.912809  \n",
              "...                ...  \n",
              "91315        -0.677010  \n",
              "91316        -0.848200  \n",
              "91317        -0.026325  \n",
              "91318         0.362736  \n",
              "91319         0.257847  \n",
              "\n",
              "[91320 rows x 4 columns]"
            ],
            "text/html": [
              "\n",
              "  <div id=\"df-49e58fba-4d8c-4ae5-8e86-6f5da4104197\">\n",
              "    <div class=\"colab-df-container\">\n",
              "      <div>\n",
              "<style scoped>\n",
              "    .dataframe tbody tr th:only-of-type {\n",
              "        vertical-align: middle;\n",
              "    }\n",
              "\n",
              "    .dataframe tbody tr th {\n",
              "        vertical-align: top;\n",
              "    }\n",
              "\n",
              "    .dataframe thead th {\n",
              "        text-align: right;\n",
              "    }\n",
              "</style>\n",
              "<table border=\"1\" class=\"dataframe\">\n",
              "  <thead>\n",
              "    <tr style=\"text-align: right;\">\n",
              "      <th></th>\n",
              "      <th>name</th>\n",
              "      <th>GENE</th>\n",
              "      <th>T18A_T08A.lfc</th>\n",
              "      <th>8_18.lfc.median</th>\n",
              "    </tr>\n",
              "  </thead>\n",
              "  <tbody>\n",
              "    <tr>\n",
              "      <th>0</th>\n",
              "      <td>A1BG_CACCTTCGAGCTGCTGCGCG</td>\n",
              "      <td>A1BG</td>\n",
              "      <td>-0.341631</td>\n",
              "      <td>0.351314</td>\n",
              "    </tr>\n",
              "    <tr>\n",
              "      <th>1</th>\n",
              "      <td>A1BG_AAGAGCGCCTCGGTCCCAGC</td>\n",
              "      <td>A1BG</td>\n",
              "      <td>-1.570919</td>\n",
              "      <td>-0.017767</td>\n",
              "    </tr>\n",
              "    <tr>\n",
              "      <th>2</th>\n",
              "      <td>A1BG_TGGACTTCCAGCTACGGCGC</td>\n",
              "      <td>A1BG</td>\n",
              "      <td>-0.060601</td>\n",
              "      <td>0.060601</td>\n",
              "    </tr>\n",
              "    <tr>\n",
              "      <th>3</th>\n",
              "      <td>A1BG_CACTGGCGCCATCGAGAGCC</td>\n",
              "      <td>A1BG</td>\n",
              "      <td>-0.279657</td>\n",
              "      <td>-0.169553</td>\n",
              "    </tr>\n",
              "    <tr>\n",
              "      <th>4</th>\n",
              "      <td>A1BG_GCTCGGGCTTGTCCACAGGA</td>\n",
              "      <td>A1BG</td>\n",
              "      <td>0.912809</td>\n",
              "      <td>-0.912809</td>\n",
              "    </tr>\n",
              "    <tr>\n",
              "      <th>...</th>\n",
              "      <td>...</td>\n",
              "      <td>...</td>\n",
              "      <td>...</td>\n",
              "      <td>...</td>\n",
              "    </tr>\n",
              "    <tr>\n",
              "      <th>91315</th>\n",
              "      <td>luciferase_CCTCTAGAGGATGGAACCGC</td>\n",
              "      <td>luciferase</td>\n",
              "      <td>0.946176</td>\n",
              "      <td>-0.677010</td>\n",
              "    </tr>\n",
              "    <tr>\n",
              "      <th>91316</th>\n",
              "      <td>luciferase_ACAACTTTACCGACCGCGCC</td>\n",
              "      <td>luciferase</td>\n",
              "      <td>0.848200</td>\n",
              "      <td>-0.848200</td>\n",
              "    </tr>\n",
              "    <tr>\n",
              "      <th>91317</th>\n",
              "      <td>luciferase_CTTGTCGTATCCCTGGAAGA</td>\n",
              "      <td>luciferase</td>\n",
              "      <td>0.026325</td>\n",
              "      <td>-0.026325</td>\n",
              "    </tr>\n",
              "    <tr>\n",
              "      <th>91318</th>\n",
              "      <td>luciferase_GGCTATGAAGAGATACGCCC</td>\n",
              "      <td>luciferase</td>\n",
              "      <td>-1.009472</td>\n",
              "      <td>0.362736</td>\n",
              "    </tr>\n",
              "    <tr>\n",
              "      <th>91319</th>\n",
              "      <td>luciferase_GGCATGCGAGAATCTGACGC</td>\n",
              "      <td>luciferase</td>\n",
              "      <td>-1.882514</td>\n",
              "      <td>0.257847</td>\n",
              "    </tr>\n",
              "  </tbody>\n",
              "</table>\n",
              "<p>91320 rows × 4 columns</p>\n",
              "</div>\n",
              "      <button class=\"colab-df-convert\" onclick=\"convertToInteractive('df-49e58fba-4d8c-4ae5-8e86-6f5da4104197')\"\n",
              "              title=\"Convert this dataframe to an interactive table.\"\n",
              "              style=\"display:none;\">\n",
              "        \n",
              "  <svg xmlns=\"http://www.w3.org/2000/svg\" height=\"24px\"viewBox=\"0 0 24 24\"\n",
              "       width=\"24px\">\n",
              "    <path d=\"M0 0h24v24H0V0z\" fill=\"none\"/>\n",
              "    <path d=\"M18.56 5.44l.94 2.06.94-2.06 2.06-.94-2.06-.94-.94-2.06-.94 2.06-2.06.94zm-11 1L8.5 8.5l.94-2.06 2.06-.94-2.06-.94L8.5 2.5l-.94 2.06-2.06.94zm10 10l.94 2.06.94-2.06 2.06-.94-2.06-.94-.94-2.06-.94 2.06-2.06.94z\"/><path d=\"M17.41 7.96l-1.37-1.37c-.4-.4-.92-.59-1.43-.59-.52 0-1.04.2-1.43.59L10.3 9.45l-7.72 7.72c-.78.78-.78 2.05 0 2.83L4 21.41c.39.39.9.59 1.41.59.51 0 1.02-.2 1.41-.59l7.78-7.78 2.81-2.81c.8-.78.8-2.07 0-2.86zM5.41 20L4 18.59l7.72-7.72 1.47 1.35L5.41 20z\"/>\n",
              "  </svg>\n",
              "      </button>\n",
              "      \n",
              "  <style>\n",
              "    .colab-df-container {\n",
              "      display:flex;\n",
              "      flex-wrap:wrap;\n",
              "      gap: 12px;\n",
              "    }\n",
              "\n",
              "    .colab-df-convert {\n",
              "      background-color: #E8F0FE;\n",
              "      border: none;\n",
              "      border-radius: 50%;\n",
              "      cursor: pointer;\n",
              "      display: none;\n",
              "      fill: #1967D2;\n",
              "      height: 32px;\n",
              "      padding: 0 0 0 0;\n",
              "      width: 32px;\n",
              "    }\n",
              "\n",
              "    .colab-df-convert:hover {\n",
              "      background-color: #E2EBFA;\n",
              "      box-shadow: 0px 1px 2px rgba(60, 64, 67, 0.3), 0px 1px 3px 1px rgba(60, 64, 67, 0.15);\n",
              "      fill: #174EA6;\n",
              "    }\n",
              "\n",
              "    [theme=dark] .colab-df-convert {\n",
              "      background-color: #3B4455;\n",
              "      fill: #D2E3FC;\n",
              "    }\n",
              "\n",
              "    [theme=dark] .colab-df-convert:hover {\n",
              "      background-color: #434B5C;\n",
              "      box-shadow: 0px 1px 3px 1px rgba(0, 0, 0, 0.15);\n",
              "      filter: drop-shadow(0px 1px 2px rgba(0, 0, 0, 0.3));\n",
              "      fill: #FFFFFF;\n",
              "    }\n",
              "  </style>\n",
              "\n",
              "      <script>\n",
              "        const buttonEl =\n",
              "          document.querySelector('#df-49e58fba-4d8c-4ae5-8e86-6f5da4104197 button.colab-df-convert');\n",
              "        buttonEl.style.display =\n",
              "          google.colab.kernel.accessAllowed ? 'block' : 'none';\n",
              "\n",
              "        async function convertToInteractive(key) {\n",
              "          const element = document.querySelector('#df-49e58fba-4d8c-4ae5-8e86-6f5da4104197');\n",
              "          const dataTable =\n",
              "            await google.colab.kernel.invokeFunction('convertToInteractive',\n",
              "                                                     [key], {});\n",
              "          if (!dataTable) return;\n",
              "\n",
              "          const docLinkHtml = 'Like what you see? Visit the ' +\n",
              "            '<a target=\"_blank\" href=https://colab.research.google.com/notebooks/data_table.ipynb>data table notebook</a>'\n",
              "            + ' to learn more about interactive tables.';\n",
              "          element.innerHTML = '';\n",
              "          dataTable['output_type'] = 'display_data';\n",
              "          await google.colab.output.renderOutput(dataTable, element);\n",
              "          const docLink = document.createElement('div');\n",
              "          docLink.innerHTML = docLinkHtml;\n",
              "          element.appendChild(docLink);\n",
              "        }\n",
              "      </script>\n",
              "    </div>\n",
              "  </div>\n",
              "  "
            ]
          },
          "metadata": {},
          "execution_count": 31
        }
      ]
    },
    {
      "cell_type": "markdown",
      "source": [
        "# Writing"
      ],
      "metadata": {
        "id": "lmrMvljW5gIw"
      }
    },
    {
      "cell_type": "code",
      "source": [
        "adata.to_Excel(\"Hela_lib1.xlsx\")"
      ],
      "metadata": {
        "colab": {
          "base_uri": "https://localhost:8080/"
        },
        "id": "9qHVVUi75f1R",
        "outputId": "13e63c48-ac67-477b-9f78-882d6536f1a2"
      },
      "execution_count": 32,
      "outputs": [
        {
          "output_type": "stream",
          "name": "stdout",
          "text": [
            "Writing to: Hela_lib1.xlsx\n",
            "\n",
            "\tSheet 1:\tX\n",
            "\tSheet 2:\tlognorm_counts\n",
            "\tSheet 3:\tguides\n",
            "\tSheet 4:\tcondit\n"
          ]
        }
      ]
    },
    {
      "cell_type": "code",
      "source": [
        "adata.to_mageck_input(\"Hela_mageck_input.txt\", target_column=\"GENE\")"
      ],
      "metadata": {
        "id": "7YwPo4tc5lDw"
      },
      "execution_count": 33,
      "outputs": []
    },
    {
      "cell_type": "code",
      "source": [
        "! head Hela_mageck_input.txt"
      ],
      "metadata": {
        "id": "SJlsyUieUcgi",
        "outputId": "a167dc60-2317-44dd-a851-e2e81d8c300e",
        "colab": {
          "base_uri": "https://localhost:8080/"
        }
      },
      "execution_count": 34,
      "outputs": [
        {
          "output_type": "stream",
          "name": "stdout",
          "text": [
            "sgRNA\tgene\tT08A\tT08B\tT08C\tT12A\tT12B\tT12C\tT15A\tT15B\tT15C\tT18A\tT18B\tT18C\tT0\n",
            "A1BG_CACCTTCGAGCTGCTGCGCG\tA1BG\t310\t226\t338\t356\t249\t224\t186\t60\t296\t125\t49\t296\t469\n",
            "A1BG_AAGAGCGCCTCGGTCCCAGC\tA1BG\t46\t1\t0\t7\t22\t142\t0\t1\t52\t0\t1\t52\t213\n",
            "A1BG_TGGACTTCCAGCTACGGCGC\tA1BG\t239\t216\t285\t117\t244\t116\t172\t298\t269\t119\t250\t269\t363\n",
            "A1BG_CACTGGCGCCATCGAGAGCC\tA1BG\t289\t83\t166\t164\t111\t14\t184\t160\t214\t122\t137\t214\t678\n",
            "A1BG_GCTCGGGCTTGTCCACAGGA\tA1BG\t205\t34\t217\t205\t148\t355\t326\t100\t432\t212\t85\t432\t559\n",
            "A1BG_CAAGAGAAAGACCACGAGCA\tA1BG\t389\t331\t468\t1074\t364\t158\t664\t286\t499\t464\t235\t499\t647\n",
            "A1CF_CGTGGCTATTTGGCATACAC\tA1CF\t452\t240\t390\t630\t509\t261\t471\t255\t301\t322\t210\t301\t898\n",
            "A1CF_GGTATACTCTCCTTGCAGCA\tA1CF\t71\t30\t29\t119\t155\t153\t131\t76\t56\t94\t61\t56\t199\n",
            "A1CF_GACATGGTATTGCAGTAGAC\tA1CF\t207\t227\t223\t118\t141\t173\t176\t198\t42\t118\t166\t42\t271\n"
          ]
        }
      ]
    }
  ]
}